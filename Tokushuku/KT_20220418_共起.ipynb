{
  "cells": [
    {
      "cell_type": "code",
      "source": [
        "#単純な共起行列を作成\n",
        "#リーダーボードでscore～0.0681：859位2022/4/18時点\n",
        "#for文が多いので時間がかかる&メモリを消費する。google colab上では実行可能\n",
        "#実行時間はpro環境"
      ],
      "metadata": {
        "id": "byMaEcvpG0V7"
      },
      "execution_count": null,
      "outputs": []
    },
    {
      "cell_type": "code",
      "source": [
        "#colab_note上で必要\n",
        "from google.colab import drive\n",
        "drive.mount('/content/drive')"
      ],
      "metadata": {
        "colab": {
          "base_uri": "https://localhost:8080/"
        },
        "id": "A_JOsWwcHAbf",
        "outputId": "5254fc64-4059-4ecd-df21-c2cfc571a8e5"
      },
      "execution_count": 1,
      "outputs": [
        {
          "output_type": "stream",
          "name": "stdout",
          "text": [
            "Mounted at /content/drive\n"
          ]
        }
      ]
    },
    {
      "cell_type": "code",
      "source": [
        "import pandas as pd \n",
        "import matplotlib.pyplot as plt\n",
        "import numpy as np"
      ],
      "metadata": {
        "id": "XOxTEbVUKsm_"
      },
      "execution_count": 2,
      "outputs": []
    },
    {
      "cell_type": "code",
      "source": [
        "folder_path = '/content/drive/My Drive/dressipi_recsys2022/'\n",
        "file_name_list = [\"candidate_items.csv\", \"item_features.csv\", \"test_final_sessions.csv\", \"test_leaderboard_sessions.csv\", \"train_purchases.csv\", \"train_sessions.csv\"]\n",
        "df_candidate_items = pd.read_csv(folder_path + file_name_list[0])\n",
        "df_item_features = pd.read_csv(folder_path + file_name_list[1])\n",
        "df_test_final_sessions = pd.read_csv(folder_path + file_name_list[2])\n",
        "df_test_leaderboard_sessions = pd.read_csv(folder_path + file_name_list[3])\n",
        "df_train_purchases = pd.read_csv(folder_path + file_name_list[4])\n",
        "df_train_sessions = pd.read_csv(folder_path + file_name_list[5])"
      ],
      "metadata": {
        "id": "uOzUy5uCHBUM"
      },
      "execution_count": 3,
      "outputs": []
    },
    {
      "cell_type": "code",
      "source": [
        "#item_idと共起行列上のindexを変換するdictを作成\n",
        "unique_item_id = df_item_features.sort_values('item_id')['item_id'].unique()\n",
        "item_dict = {unique_item_id[i]: i for i in range(0, len(unique_item_id))}\n",
        "item_dict_inv = {i:unique_item_id[i] for i in range(0, len(unique_item_id))}"
      ],
      "metadata": {
        "id": "iefj0bVFHUzK"
      },
      "execution_count": 6,
      "outputs": []
    },
    {
      "cell_type": "code",
      "source": [
        "#各セッションの、閲覧アイテムと購入アイテムをリスト化\n",
        "train_session_item_id = df_train_sessions.groupby('session_id')['item_id'].unique()\n",
        "train_purchase_item_id = df_train_purchases.groupby('session_id')['item_id'].unique()"
      ],
      "metadata": {
        "id": "bbpdgVlY2yMc"
      },
      "execution_count": 5,
      "outputs": []
    },
    {
      "cell_type": "code",
      "source": [
        "#共起行列的な距離(item_dict)を定義　20秒くらい\n",
        "item_dist = np.zeros([len(unique_item_id), len(unique_item_id)])\n",
        "\n",
        "session_id_list = df_train_purchases['session_id'].unique()\n",
        "for s in session_id_list:\n",
        "  purchased_item = train_purchase_item_id[s][0]\n",
        "  temp_list = train_session_item_id[s]\n",
        "#  print(purchased_item)\n",
        "#  print(temp_list)\n",
        "  for t in temp_list:\n",
        "    item_dist[item_dict[t]][item_dict[purchased_item]] += 1"
      ],
      "metadata": {
        "id": "uA9yDtggydq-"
      },
      "execution_count": 7,
      "outputs": []
    },
    {
      "cell_type": "code",
      "source": [
        "#規格化している　30秒くらい\n",
        "for i in range(len(item_dist)):\n",
        "  item_dist[::,i] = item_dist[::,i]/np.sum(item_dist[::,i])\n",
        "item_dist = np.nan_to_num(item_dist,0)"
      ],
      "metadata": {
        "colab": {
          "base_uri": "https://localhost:8080/"
        },
        "id": "kX4rjk_nKAEt",
        "outputId": "40223d8f-83be-43ac-ac6d-eb787a3736e5"
      },
      "execution_count": 8,
      "outputs": [
        {
          "output_type": "stream",
          "name": "stderr",
          "text": [
            "/usr/local/lib/python3.7/dist-packages/ipykernel_launcher.py:3: RuntimeWarning: invalid value encountered in true_divide\n",
            "  This is separate from the ipykernel package so we can avoid doing imports until\n"
          ]
        }
      ]
    },
    {
      "cell_type": "code",
      "source": [
        "#candidateにないものは雑にdist = 0 で処理する\n",
        "unique_item_id_candidate = df_candidate_items.sort_values('item_id')['item_id'].unique()\n",
        "remove_item_id = unique_item_id[np.isin(unique_item_id, unique_item_id_candidate) == False]\n",
        "remove_item_index = [item_dict[item_id] for item_id in remove_item_id]\n",
        "item_dist[::,remove_item_index] = 0.0"
      ],
      "metadata": {
        "id": "mAeE6DkV_DHl"
      },
      "execution_count": 9,
      "outputs": []
    },
    {
      "cell_type": "code",
      "source": [
        "#リーダーボードのセッションリストを作成\n",
        "unique_session_lb = df_test_leaderboard_sessions['session_id'].unique()\n",
        "session_items_lb = df_test_leaderboard_sessions.groupby('session_id')['item_id'].unique()"
      ],
      "metadata": {
        "id": "wxajQ3dSs6xg"
      },
      "execution_count": 10,
      "outputs": []
    },
    {
      "cell_type": "code",
      "source": [
        "#予測：雑実装のため5分くらいかかる、、、\n",
        "\n",
        "df_sub_lb = pd.DataFrame(columns=['session_id', 'item_id', 'rank'])\n",
        "item_id = []\n",
        "session_id = []\n",
        "count = 0\n",
        "\n",
        "for s in unique_session_lb:\n",
        "  #for文のカウント,50000で終わり\n",
        "  if(count%10000 == 0):\n",
        "    print(count)\n",
        "  count += 1\n",
        "\n",
        "　#予測パート\n",
        "  temp_session = session_items_lb[s]\n",
        "  temp_prob = [item_dict[i] for i in temp_session]\n",
        "  temp_prob = np.sum(item_dist[temp_prob], axis = 0) #\n",
        "  prob_top100_index = np.argsort(-temp_prob)[0:100]\n",
        "  prob_top100_item_id = np.array([item_dict_inv[i] for i in prob_top100_index])\n",
        " \n",
        "　#結果の代入\n",
        "  item_id = np.concatenate([item_id,prob_top100_item_id])\n",
        "  temp = np.array([s for i in range(100)])\n",
        "  session_id = np.concatenate([session_id,temp])"
      ],
      "metadata": {
        "colab": {
          "base_uri": "https://localhost:8080/"
        },
        "id": "ValivQhdXcT4",
        "outputId": "8310fa37-6b3f-412b-9a7a-ef5afeafa92e"
      },
      "execution_count": 12,
      "outputs": [
        {
          "output_type": "stream",
          "name": "stdout",
          "text": [
            "0\n",
            "10000\n",
            "20000\n",
            "30000\n",
            "40000\n"
          ]
        }
      ]
    },
    {
      "cell_type": "code",
      "source": [
        "#最終データ作成\n",
        "rank = np.tile(np.array([i + 1 for i in range(100)]),len(unique_session_lb))\n",
        "df_sub_lb = pd.DataFrame(np.vstack([session_id, item_id, rank]).T, columns=['session_id', 'item_id', 'rank'])\n",
        "df_sub_lb = df_sub_lb.astype('int')#intに明示的に変換しないと通らない"
      ],
      "metadata": {
        "id": "mp-2mKPgfXJa"
      },
      "execution_count": 14,
      "outputs": []
    },
    {
      "cell_type": "code",
      "source": [
        "file_name = \"submit2022041718\"\n",
        "df_sub_lb.to_csv(folder_path + file_name + \".csv\", index=False)"
      ],
      "metadata": {
        "id": "5UO2l7ONjpNq"
      },
      "execution_count": 15,
      "outputs": []
    },
    {
      "cell_type": "code",
      "source": [
        ""
      ],
      "metadata": {
        "id": "MriC6yNHKDH5"
      },
      "execution_count": null,
      "outputs": []
    }
  ],
  "metadata": {
    "colab": {
      "collapsed_sections": [],
      "name": "KT_20220418_共起",
      "provenance": [],
      "machine_shape": "hm"
    },
    "kernelspec": {
      "display_name": "Python 3",
      "name": "python3"
    }
  },
  "nbformat": 4,
  "nbformat_minor": 0
}
