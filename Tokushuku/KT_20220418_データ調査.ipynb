{
  "cells": [
    {
      "cell_type": "code",
      "source": [
        "from google.colab import drive\n",
        "drive.mount('/content/drive')"
      ],
      "metadata": {
        "colab": {
          "base_uri": "https://localhost:8080/",
          "height": 0
        },
        "id": "A_JOsWwcHAbf",
        "outputId": "9d268653-00d5-48e3-d206-f03aef9615fc"
      },
      "execution_count": 1,
      "outputs": [
        {
          "output_type": "stream",
          "name": "stdout",
          "text": [
            "Mounted at /content/drive\n"
          ]
        }
      ]
    },
    {
      "cell_type": "code",
      "source": [
        "import pandas as pd \n",
        "import matplotlib.pyplot as plt\n",
        "import numpy as np"
      ],
      "metadata": {
        "id": "XOxTEbVUKsm_"
      },
      "execution_count": 2,
      "outputs": []
    },
    {
      "cell_type": "code",
      "source": [
        "#データの読み込み\n",
        "folder_path = '/content/drive/My Drive/dressipi_recsys2022/'\n",
        "df_candidate_items = pd.read_csv(folder_path + \"candidate_items.csv\")\n",
        "df_item_features = pd.read_csv(folder_path + \"item_features.csv\")\n",
        "df_test_final_sessions = pd.read_csv(folder_path + \"test_final_sessions.csv\")\n",
        "df_test_leaderboard_sessions = pd.read_csv(folder_path + \"test_leaderboard_sessions.csv\")\n",
        "df_train_purchases = pd.read_csv(folder_path + \"train_purchases.csv\")\n",
        "df_train_sessions = pd.read_csv(folder_path + \"train_sessions.csv\")"
      ],
      "metadata": {
        "id": "uOzUy5uCHBUM"
      },
      "execution_count": 3,
      "outputs": []
    },
    {
      "cell_type": "code",
      "source": [
        "#df_item_features.pivot(index='item_id', columns='feature_category_id', values='feature_value_id')\n",
        "#アイテム×特徴でかぶりがあるので単純なピボットができない（カラーが青と白2つある的な）"
      ],
      "metadata": {
        "id": "w8PsLLEkZLSD"
      },
      "execution_count": null,
      "outputs": []
    },
    {
      "cell_type": "code",
      "source": [
        "print(\"アイテムの個数\",len(df_item_features['item_id'].unique()))\n",
        "print(\"セッション中に出てきたアイテム数\",len(df_train_sessions['item_id'].unique()))\n",
        "print(\"買われたアイテム数\",len(df_train_purchases['item_id'].unique()))"
      ],
      "metadata": {
        "id": "oN0GXKhnxYVb",
        "colab": {
          "base_uri": "https://localhost:8080/",
          "height": 0
        },
        "outputId": "3bfb9b56-df46-45ba-996a-c8dea1928e4f"
      },
      "execution_count": 5,
      "outputs": [
        {
          "output_type": "stream",
          "name": "stdout",
          "text": [
            "アイテムの個数 23691\n",
            "セッション中に出てきたアイテム数 23496\n",
            "買われたアイテム数 18907\n"
          ]
        }
      ]
    },
    {
      "cell_type": "code",
      "source": [
        ""
      ],
      "metadata": {
        "id": "7kYUSobASb6a"
      },
      "execution_count": 52,
      "outputs": []
    },
    {
      "cell_type": "code",
      "source": [
        "print(\"購入された商品の調査\")\n",
        "item_ranking_purchases = df_train_purchases.groupby('item_id').count().sort_values(\"session_id\",ascending = False)\n",
        "item_ranking_purchases['rank'] = item_ranking_purchases['session_id'].rank(ascending = False)\n",
        "item_ranking_purchases = item_ranking_purchases.rename(columns={'session_id': 'count'})[['rank','count']]\n",
        "print(\"売れ筋商品TOP10:\", item_ranking_purchases.head(10))"
      ],
      "metadata": {
        "id": "VP50v2u3xKkV",
        "colab": {
          "base_uri": "https://localhost:8080/",
          "height": 0
        },
        "outputId": "eefdba0c-1de2-4ee5-ceda-3057edecd4d8"
      },
      "execution_count": 60,
      "outputs": [
        {
          "output_type": "stream",
          "name": "stdout",
          "text": [
            "購入された商品の調査\n",
            "売れ筋商品TOP10:          rank  count\n",
            "item_id             \n",
            "8060      1.0   8451\n",
            "26853     2.0   3829\n",
            "19882     3.0   3355\n",
            "8622      4.0   2745\n",
            "2447      5.0   2726\n",
            "4193      6.0   2416\n",
            "20770     7.0   2349\n",
            "18156     8.0   2308\n",
            "17089     9.0   2032\n",
            "1644     10.0   1879\n"
          ]
        }
      ]
    },
    {
      "cell_type": "code",
      "source": [
        "print(\"各商品の購入回数はかなり歪な分布\")\n",
        "print(\"各商品が購入された回数の中央値：\",np.median(item_ranking_purchases))\n",
        "print(\"各商品が購入された回数の平均値：\",np.mean(item_ranking_purchases))\n",
        "item_ranking_purchases.hist(bins = 100,range=(0, 300))\n",
        "plt.show()\n"
      ],
      "metadata": {
        "colab": {
          "base_uri": "https://localhost:8080/",
          "height": 319
        },
        "id": "LlvjuznOP5-O",
        "outputId": "1185fdad-1c23-4c1f-c543-9a638642f078"
      },
      "execution_count": 32,
      "outputs": [
        {
          "output_type": "stream",
          "name": "stdout",
          "text": [
            "各商品の購入回数はかなり歪な分布\n",
            "各商品が購入された回数の中央値： 26.0\n",
            "各商品が購入された回数の平均値： 52.89046384936796\n"
          ]
        },
        {
          "output_type": "display_data",
          "data": {
            "text/plain": [
              "<Figure size 432x288 with 1 Axes>"
            ],
            "image/png": "[encoded data removed]"
          },
          "metadata": {
            "needs_background": "light"
          }
        }
      ]
    },
    {
      "cell_type": "code",
      "source": [
        "print(\"セッションの調査\")\n",
        "item_ranking_session = df_train_sessions.groupby('item_id').count().sort_values(\"session_id\",ascending = False)\n",
        "item_ranking_session['rank'] = item_ranking_session['session_id'].rank(ascending = False)\n",
        "item_ranking_session = item_ranking_session.rename(columns={'session_id': 'count'})[['rank','count']]\n",
        "print(\"閲覧商品TOP10:\", item_ranking_session.head(10))"
      ],
      "metadata": {
        "colab": {
          "base_uri": "https://localhost:8080/",
          "height": 0
        },
        "id": "rtBu_5YzQ62e",
        "outputId": "37fcfad7-8059-46fb-aa09-66db55cf5b66"
      },
      "execution_count": 64,
      "outputs": [
        {
          "output_type": "stream",
          "name": "stdout",
          "text": [
            "セッションの調査\n",
            "閲覧商品TOP10:          rank  count\n",
            "item_id             \n",
            "8060      1.0  14714\n",
            "26853     2.0  13192\n",
            "2447      3.0   9774\n",
            "1644      4.0   6955\n",
            "19882     5.0   6947\n",
            "7963      6.0   6464\n",
            "8622      7.0   6380\n",
            "17089     8.0   6345\n",
            "11742     9.0   6223\n",
            "18156    10.0   5908\n"
          ]
        }
      ]
    },
    {
      "cell_type": "markdown",
      "source": [
        ""
      ],
      "metadata": {
        "id": "QUQGc3z5UCWm"
      }
    },
    {
      "cell_type": "code",
      "source": [
        "print('閲覧ランキングと購入ランキングは似た商品（人気商品）が並ぶ')\n",
        "item_ranking_merge = pd.merge(item_ranking_session,item_ranking_purchases, how='left', on = 'item_id')\n",
        "item_ranking_merge.rename(columns={'rank_x': 'rank_session', 'rank_y': 'rank_purchases','count_x': 'count_session', 'count_y': 'count_purchases'})\n",
        "print(\"閲覧商品_購入TOP10:\", item_ranking_merge.head(10))"
      ],
      "metadata": {
        "colab": {
          "base_uri": "https://localhost:8080/",
          "height": 0
        },
        "id": "Qrr6oyB7Q6eu",
        "outputId": "d75c22f5-012e-4ba3-a201-c878ac2d31c5"
      },
      "execution_count": 66,
      "outputs": [
        {
          "output_type": "stream",
          "name": "stdout",
          "text": [
            "閲覧ランキングと購入ランキングは似た商品（人気商品）が並ぶ\n",
            "閲覧商品_購入TOP10:          rank_x  count_x  rank_y  count_y\n",
            "item_id                                  \n",
            "8060        1.0    14714     1.0   8451.0\n",
            "26853       2.0    13192     2.0   3829.0\n",
            "2447        3.0     9774     5.0   2726.0\n",
            "1644        4.0     6955    10.0   1879.0\n",
            "19882       5.0     6947     3.0   3355.0\n",
            "7963        6.0     6464    19.0   1511.0\n",
            "8622        7.0     6380     4.0   2745.0\n",
            "17089       8.0     6345     9.0   2032.0\n",
            "11742       9.0     6223    11.0   1877.0\n",
            "18156      10.0     5908     8.0   2308.0\n"
          ]
        }
      ]
    },
    {
      "cell_type": "code",
      "source": [
        "print('個別の商品毎の調査')\n",
        "no1_item = item_ranking_session.index[0]\n",
        "print('No1商品=',no1_item)\n",
        "#No1商品が買われたセッションを抜き出し\n",
        "target_sessions = df_train_purchases[df_train_purchases['item_id']==no1_item]['session_id'].values\n",
        "#No1商品が買われる前に閲覧されていた商品のランキング\n",
        "no1_item_rank = df_train_sessions[df_train_sessions['session_id'].isin(target_sessions)].groupby('item_id').count().sort_values(\"date\",ascending = False)\\\n",
        "                                                                .rename(columns={'session_id': 'count'})['count']\n",
        "print('No1商品が買われる前に閲覧されていた商品のランキング')\n",
        "print(no1_item_rank.head(10))"
      ],
      "metadata": {
        "colab": {
          "base_uri": "https://localhost:8080/",
          "height": 0
        },
        "id": "wsn43pyHRil2",
        "outputId": "9a6a3d37-7b7a-4721-c063-c9ef629ca3ca"
      },
      "execution_count": 131,
      "outputs": [
        {
          "output_type": "stream",
          "name": "stdout",
          "text": [
            "個別の商品毎の調査\n",
            "No1商品= 8060\n",
            "No1商品が買われる前に閲覧されていた商品のランキング\n",
            "item_id\n",
            "18156    1424\n",
            "2447     1154\n",
            "16660     986\n",
            "7640      602\n",
            "17239     357\n",
            "9185      352\n",
            "17089     329\n",
            "24921     319\n",
            "19882     308\n",
            "8622      306\n",
            "Name: count, dtype: int64\n"
          ]
        }
      ]
    },
    {
      "cell_type": "code",
      "source": [
        "print('No1商品とその前に閲覧されていた商品TOP30の共通特徴量を探す')\n",
        "item_list = list(no1_item_rank.head(30).index)\n",
        "item_list.append(no1_item)"
      ],
      "metadata": {
        "colab": {
          "base_uri": "https://localhost:8080/",
          "height": 0
        },
        "id": "hPz9x2v7YI86",
        "outputId": "c80b18a4-3da8-46fb-b696-99ff5f219394"
      },
      "execution_count": 133,
      "outputs": [
        {
          "output_type": "stream",
          "name": "stdout",
          "text": [
            "No1商品とその前に閲覧されていた商品TOP10の共通特徴量を探す\n"
          ]
        }
      ]
    },
    {
      "cell_type": "code",
      "source": [
        "print('上位の特徴×特徴量は31商品全てに共通していた　= 特徴量として優秀')\n",
        "print('イメージとして、青色・ウィメンズ・サイズM等の特徴量が上に来ている？')\n",
        "feature_rank_no1 = df_item_features[df_item_features['item_id'].isin(item_list)].groupby(['feature_category_id', 'feature_value_id']).count().sort_values(\"item_id\",ascending = False)\\\n",
        "                  .rename(columns={'item_id': 'count'})\n",
        "print(feature_rank_no1.head(15))"
      ],
      "metadata": {
        "colab": {
          "base_uri": "https://localhost:8080/",
          "height": 0
        },
        "id": "Zit4RFqsW-z9",
        "outputId": "b567bbdd-d5a7-4e68-aa63-c60a41217db9"
      },
      "execution_count": 134,
      "outputs": [
        {
          "output_type": "stream",
          "name": "stdout",
          "text": [
            "上位の特徴×特徴量は11商品全てに共通していた　= 特徴量として優秀\n",
            "                                      count\n",
            "feature_category_id feature_value_id       \n",
            "72                  75                   31\n",
            "62                  801                  31\n",
            "56                  365                  31\n",
            "47                  123                  31\n",
            "4                   618                  30\n",
            "33                  36                   30\n",
            "24                  588                  30\n",
            "63                  861                  30\n",
            "69                  885                  29\n",
            "55                  267                  29\n",
            "73                  544                  28\n",
            "7                   394                  28\n",
            "53                  6                    24\n",
            "68                  351                  24\n",
            "61                  462                  23\n"
          ]
        }
      ]
    },
    {
      "cell_type": "code",
      "source": [
        "item_ranking_session.index[0:50]"
      ],
      "metadata": {
        "colab": {
          "base_uri": "https://localhost:8080/",
          "height": 0
        },
        "id": "LbAB5znfhCKH",
        "outputId": "3552fd84-c85a-4029-8533-58fc885ac1ca"
      },
      "execution_count": 156,
      "outputs": [
        {
          "output_type": "execute_result",
          "data": {
            "text/plain": [
              "Int64Index([ 8060, 26853,  2447,  1644, 19882,  7963,  8622, 17089, 11742,\n",
              "            18156, 23088,  2072,  4028, 20770,  9184, 21616, 19912,  6736,\n",
              "            26691,  7640, 17239, 27613, 21215,  2915, 18657, 24921,  4193,\n",
              "             1018, 20236, 27225, 12179,  2814,  8861, 27555,   972,  4130,\n",
              "            19150, 15501, 14392, 13922,  2173, 12251, 27151, 21890, 21668,\n",
              "            27852, 22704, 10390,  4917, 16660],\n",
              "           dtype='int64', name='item_id')"
            ]
          },
          "metadata": {},
          "execution_count": 156
        }
      ]
    },
    {
      "cell_type": "code",
      "source": [
        ""
      ],
      "metadata": {
        "colab": {
          "base_uri": "https://localhost:8080/",
          "height": 423
        },
        "id": "4MS-pT4OhcFj",
        "outputId": "6374a1a7-dbc7-482b-a2cb-306cedfe9f77"
      },
      "execution_count": 159,
      "outputs": [
        {
          "output_type": "execute_result",
          "data": {
            "text/plain": [
              "    feature_category_id  feature_value_id  count  purchased_item\n",
              "0                    56               365     51           16660\n",
              "1                    72                75     49           16660\n",
              "2                    47               123     46           16660\n",
              "3                    69               885     43           16660\n",
              "4                     7               394     43           16660\n",
              "..                  ...               ...    ...             ...\n",
              "45                   18               817      2           16660\n",
              "46                   19               765      2           16660\n",
              "47                   33               764      2           16660\n",
              "48                   11               109      2           16660\n",
              "49                   32               286      2           16660\n",
              "\n",
              "[100 rows x 4 columns]"
            ],
            "text/html": [
              "\n",
              "  <div id=\"df-98d95375-a869-4625-8e15-d7fa607e8640\">\n",
              "    <div class=\"colab-df-container\">\n",
              "      <div>\n",
              "<style scoped>\n",
              "    .dataframe tbody tr th:only-of-type {\n",
              "        vertical-align: middle;\n",
              "    }\n",
              "\n",
              "    .dataframe tbody tr th {\n",
              "        vertical-align: top;\n",
              "    }\n",
              "\n",
              "    .dataframe thead th {\n",
              "        text-align: right;\n",
              "    }\n",
              "</style>\n",
              "<table border=\"1\" class=\"dataframe\">\n",
              "  <thead>\n",
              "    <tr style=\"text-align: right;\">\n",
              "      <th></th>\n",
              "      <th>feature_category_id</th>\n",
              "      <th>feature_value_id</th>\n",
              "      <th>count</th>\n",
              "      <th>purchased_item</th>\n",
              "    </tr>\n",
              "  </thead>\n",
              "  <tbody>\n",
              "    <tr>\n",
              "      <th>0</th>\n",
              "      <td>56</td>\n",
              "      <td>365</td>\n",
              "      <td>51</td>\n",
              "      <td>16660</td>\n",
              "    </tr>\n",
              "    <tr>\n",
              "      <th>1</th>\n",
              "      <td>72</td>\n",
              "      <td>75</td>\n",
              "      <td>49</td>\n",
              "      <td>16660</td>\n",
              "    </tr>\n",
              "    <tr>\n",
              "      <th>2</th>\n",
              "      <td>47</td>\n",
              "      <td>123</td>\n",
              "      <td>46</td>\n",
              "      <td>16660</td>\n",
              "    </tr>\n",
              "    <tr>\n",
              "      <th>3</th>\n",
              "      <td>69</td>\n",
              "      <td>885</td>\n",
              "      <td>43</td>\n",
              "      <td>16660</td>\n",
              "    </tr>\n",
              "    <tr>\n",
              "      <th>4</th>\n",
              "      <td>7</td>\n",
              "      <td>394</td>\n",
              "      <td>43</td>\n",
              "      <td>16660</td>\n",
              "    </tr>\n",
              "    <tr>\n",
              "      <th>...</th>\n",
              "      <td>...</td>\n",
              "      <td>...</td>\n",
              "      <td>...</td>\n",
              "      <td>...</td>\n",
              "    </tr>\n",
              "    <tr>\n",
              "      <th>45</th>\n",
              "      <td>18</td>\n",
              "      <td>817</td>\n",
              "      <td>2</td>\n",
              "      <td>16660</td>\n",
              "    </tr>\n",
              "    <tr>\n",
              "      <th>46</th>\n",
              "      <td>19</td>\n",
              "      <td>765</td>\n",
              "      <td>2</td>\n",
              "      <td>16660</td>\n",
              "    </tr>\n",
              "    <tr>\n",
              "      <th>47</th>\n",
              "      <td>33</td>\n",
              "      <td>764</td>\n",
              "      <td>2</td>\n",
              "      <td>16660</td>\n",
              "    </tr>\n",
              "    <tr>\n",
              "      <th>48</th>\n",
              "      <td>11</td>\n",
              "      <td>109</td>\n",
              "      <td>2</td>\n",
              "      <td>16660</td>\n",
              "    </tr>\n",
              "    <tr>\n",
              "      <th>49</th>\n",
              "      <td>32</td>\n",
              "      <td>286</td>\n",
              "      <td>2</td>\n",
              "      <td>16660</td>\n",
              "    </tr>\n",
              "  </tbody>\n",
              "</table>\n",
              "<p>100 rows × 4 columns</p>\n",
              "</div>\n",
              "      <button class=\"colab-df-convert\" onclick=\"convertToInteractive('df-98d95375-a869-4625-8e15-d7fa607e8640')\"\n",
              "              title=\"Convert this dataframe to an interactive table.\"\n",
              "              style=\"display:none;\">\n",
              "        \n",
              "  <svg xmlns=\"http://www.w3.org/2000/svg\" height=\"24px\"viewBox=\"0 0 24 24\"\n",
              "       width=\"24px\">\n",
              "    <path d=\"M0 0h24v24H0V0z\" fill=\"none\"/>\n",
              "    <path d=\"M18.56 5.44l.94 2.06.94-2.06 2.06-.94-2.06-.94-.94-2.06-.94 2.06-2.06.94zm-11 1L8.5 8.5l.94-2.06 2.06-.94-2.06-.94L8.5 2.5l-.94 2.06-2.06.94zm10 10l.94 2.06.94-2.06 2.06-.94-2.06-.94-.94-2.06-.94 2.06-2.06.94z\"/><path d=\"M17.41 7.96l-1.37-1.37c-.4-.4-.92-.59-1.43-.59-.52 0-1.04.2-1.43.59L10.3 9.45l-7.72 7.72c-.78.78-.78 2.05 0 2.83L4 21.41c.39.39.9.59 1.41.59.51 0 1.02-.2 1.41-.59l7.78-7.78 2.81-2.81c.8-.78.8-2.07 0-2.86zM5.41 20L4 18.59l7.72-7.72 1.47 1.35L5.41 20z\"/>\n",
              "  </svg>\n",
              "      </button>\n",
              "      \n",
              "  <style>\n",
              "    .colab-df-container {\n",
              "      display:flex;\n",
              "      flex-wrap:wrap;\n",
              "      gap: 12px;\n",
              "    }\n",
              "\n",
              "    .colab-df-convert {\n",
              "      background-color: #E8F0FE;\n",
              "      border: none;\n",
              "      border-radius: 50%;\n",
              "      cursor: pointer;\n",
              "      display: none;\n",
              "      fill: #1967D2;\n",
              "      height: 32px;\n",
              "      padding: 0 0 0 0;\n",
              "      width: 32px;\n",
              "    }\n",
              "\n",
              "    .colab-df-convert:hover {\n",
              "      background-color: #E2EBFA;\n",
              "      box-shadow: 0px 1px 2px rgba(60, 64, 67, 0.3), 0px 1px 3px 1px rgba(60, 64, 67, 0.15);\n",
              "      fill: #174EA6;\n",
              "    }\n",
              "\n",
              "    [theme=dark] .colab-df-convert {\n",
              "      background-color: #3B4455;\n",
              "      fill: #D2E3FC;\n",
              "    }\n",
              "\n",
              "    [theme=dark] .colab-df-convert:hover {\n",
              "      background-color: #434B5C;\n",
              "      box-shadow: 0px 1px 3px 1px rgba(0, 0, 0, 0.15);\n",
              "      filter: drop-shadow(0px 1px 2px rgba(0, 0, 0, 0.3));\n",
              "      fill: #FFFFFF;\n",
              "    }\n",
              "  </style>\n",
              "\n",
              "      <script>\n",
              "        const buttonEl =\n",
              "          document.querySelector('#df-98d95375-a869-4625-8e15-d7fa607e8640 button.colab-df-convert');\n",
              "        buttonEl.style.display =\n",
              "          google.colab.kernel.accessAllowed ? 'block' : 'none';\n",
              "\n",
              "        async function convertToInteractive(key) {\n",
              "          const element = document.querySelector('#df-98d95375-a869-4625-8e15-d7fa607e8640');\n",
              "          const dataTable =\n",
              "            await google.colab.kernel.invokeFunction('convertToInteractive',\n",
              "                                                     [key], {});\n",
              "          if (!dataTable) return;\n",
              "\n",
              "          const docLinkHtml = 'Like what you see? Visit the ' +\n",
              "            '<a target=\"_blank\" href=https://colab.research.google.com/notebooks/data_table.ipynb>data table notebook</a>'\n",
              "            + ' to learn more about interactive tables.';\n",
              "          element.innerHTML = '';\n",
              "          dataTable['output_type'] = 'display_data';\n",
              "          await google.colab.output.renderOutput(dataTable, element);\n",
              "          const docLink = document.createElement('div');\n",
              "          docLink.innerHTML = docLinkHtml;\n",
              "          element.appendChild(docLink);\n",
              "        }\n",
              "      </script>\n",
              "    </div>\n",
              "  </div>\n",
              "  "
            ]
          },
          "metadata": {},
          "execution_count": 159
        }
      ]
    },
    {
      "cell_type": "code",
      "source": [
        "#上記のプロセスを変数化して\n",
        "rank_num = 50\n",
        "feature_num = 50\n",
        "item_num = 50\n",
        "feature_result = pd.DataFrame(columns=['feature_category_id', 'feature_value_id', 'count','purchased_item'])\n",
        "for temp_item in item_ranking_session.index[0:item_num]:\n",
        "  #その商品が買われたセッションを抜き出し\n",
        "  target_sessions = df_train_purchases[df_train_purchases['item_id']==temp_item]['session_id'].values\n",
        "  #その商品が買われる前に閲覧されていた商品のランキング\n",
        "  temp_item_rank = df_train_sessions[df_train_sessions['session_id'].isin(target_sessions)].groupby('item_id').count().sort_values(\"date\",ascending = False)\\\n",
        "                                                                  .rename(columns={'session_id': 'count'})['count']\n",
        "  #'その商品とその前に閲覧されていた商品TOPrank_numの共通特徴量を探す'\n",
        "  item_list = list(temp_item_rank.head(rank_num).index)\n",
        "  item_list.append(temp_item)\n",
        "  feature_rank_temp = df_item_features[df_item_features['item_id'].isin(item_list)].groupby(['feature_category_id', 'feature_value_id']).count().sort_values(\"item_id\",ascending = False)\\\n",
        "                    .rename(columns={'item_id': 'count'})\n",
        "  feature_rank_temp = feature_rank_temp.head(feature_num).reset_index()\n",
        "  feature_rank_temp['purchased_item'] = [temp_item for i in range(len(feature_rank_temp))]\n",
        "  feature_result = pd.concat([feature_result,feature_rank_temp])"
      ],
      "metadata": {
        "id": "Eg9BEIhLcoAD"
      },
      "execution_count": 160,
      "outputs": []
    },
    {
      "cell_type": "code",
      "source": [
        "print(len(feature_result)) # 50×50×50よりも少ない\n",
        "len_df = len(feature_result)\n",
        "print(feature_result.groupby(['feature_category_id']).sum().sort_values('count',ascending = False).head(30)['count']/len_df)\n",
        "print('上位のfeature_categoryほど購入に直接結びついてる')"
      ],
      "metadata": {
        "colab": {
          "base_uri": "https://localhost:8080/",
          "height": 0
        },
        "id": "saoCEqFOg2VJ",
        "outputId": "e53d5655-2191-434f-d3d4-1fa3a2b10e8b"
      },
      "execution_count": 173,
      "outputs": [
        {
          "output_type": "stream",
          "name": "stdout",
          "text": [
            "2491\n",
            "feature_category_id\n",
            "56    1.017664\n",
            "47    0.982336\n",
            "50    0.981935\n",
            "72    0.979928\n",
            "61    0.971497\n",
            "63    0.961060\n",
            "69    0.956242\n",
            "4     0.955038\n",
            "55    0.951827\n",
            "7     0.935367\n",
            "73    0.928543\n",
            "68    0.923324\n",
            "62    0.879165\n",
            "29    0.873545\n",
            "53    0.868727\n",
            "24    0.853473\n",
            "28    0.752308\n",
            "33    0.730229\n",
            "30    0.503412\n",
            "17    0.247290\n",
            "65    0.211963\n",
            "60    0.119229\n",
            "6     0.112003\n",
            "45    0.110397\n",
            "46    0.108792\n",
            "3     0.107989\n",
            "32    0.098756\n",
            "5     0.097953\n",
            "26    0.087515\n",
            "19    0.056604\n",
            "Name: count, dtype: float64\n",
            "上位のfeature_categoryほど購入に直接結びついてる\n"
          ]
        }
      ]
    },
    {
      "cell_type": "code",
      "source": [
        "print('上記でNo1のfeature_category_idは')\n",
        "print(56, \"----------------------No1 feature----------------------\")\n",
        "print(feature_result[feature_result['feature_category_id'] == 56].groupby('feature_value_id').sum()['count'])\n",
        "print(47, \"----------------------No2 feature----------------------\")\n",
        "print(feature_result[feature_result['feature_category_id'] == 47].groupby('feature_value_id').sum()['count'])\n",
        "print(50, \"----------------------No3 feature----------------------\")\n",
        "print(feature_result[feature_result['feature_category_id'] == 50].groupby('feature_value_id').sum()['count'])"
      ],
      "metadata": {
        "colab": {
          "base_uri": "https://localhost:8080/",
          "height": 0
        },
        "id": "mT9fN-b9imyr",
        "outputId": "10f58cd3-92b7-4c3d-8001-c930ad8705de"
      },
      "execution_count": 189,
      "outputs": [
        {
          "output_type": "stream",
          "name": "stdout",
          "text": [
            "上記でNo1のfeature_category_idは\n",
            "56 ----------------------No1 feature----------------------\n",
            "feature_value_id\n",
            "239       2\n",
            "365    2533\n",
            "Name: count, dtype: int64\n",
            "47 ----------------------No2 feature----------------------\n",
            "feature_value_id\n",
            "36      121\n",
            "123    1844\n",
            "218       6\n",
            "273      17\n",
            "512       1\n",
            "516     327\n",
            "549      61\n",
            "720      41\n",
            "842      29\n",
            "Name: count, dtype: int64\n",
            "50 ----------------------No3 feature----------------------\n",
            "feature_value_id\n",
            "76      24\n",
            "128     42\n",
            "130     17\n",
            "164     21\n",
            "212      9\n",
            "240    917\n",
            "317    431\n",
            "328    289\n",
            "643     29\n",
            "708     40\n",
            "737      9\n",
            "901    618\n",
            "Name: count, dtype: int64\n"
          ]
        }
      ]
    },
    {
      "cell_type": "code",
      "source": [
        "print('売れ筋商品20商品の共通特徴量')\n",
        "item_list = list(item_ranking_purchases.head(20).index)\n",
        "\n",
        "feature_rank_no1 = df_item_features[df_item_features['item_id'].isin(item_list)].groupby(['feature_category_id', 'feature_value_id']).count().sort_values(\"item_id\",ascending = False)\\\n",
        "                  .rename(columns={'item_id': 'count'})\n",
        "print(feature_rank_no1.head(15))\n",
        "\n",
        "print('上位の特徴×特徴量は20個全てに当てはまっていた')\n",
        "print('かなり意外。売れ筋商品ランキングではシャツとかズボンとか混ざることが考えられ、共通特長は少なくなると思っていた')"
      ],
      "metadata": {
        "colab": {
          "base_uri": "https://localhost:8080/",
          "height": 0
        },
        "id": "tTTN8l4taNPS",
        "outputId": "096b66cf-2b01-47d2-9cde-c51d062e2ca3"
      },
      "execution_count": 190,
      "outputs": [
        {
          "output_type": "stream",
          "name": "stdout",
          "text": [
            "売れ筋商品20商品の共通特徴量\n",
            "                                      count\n",
            "feature_category_id feature_value_id       \n",
            "73                  544                  20\n",
            "56                  365                  20\n",
            "24                  588                  19\n",
            "4                   618                  19\n",
            "62                  801                  19\n",
            "55                  267                  19\n",
            "63                  861                  19\n",
            "72                  75                   18\n",
            "61                  462                  16\n",
            "68                  351                  15\n",
            "7                   394                  14\n",
            "29                  386                  14\n",
            "47                  123                  14\n",
            "33                  36                   12\n",
            "53                  444                  11\n",
            "上位の特徴×特徴量は20個全てに当てはまっていた\n",
            "かなり意外。売れ筋商品ランキングではシャツとかズボンとか混ざることが考えられ、共通特長は少なくなると思っていた\n"
          ]
        }
      ]
    }
  ],
  "metadata": {
    "colab": {
      "collapsed_sections": [],
      "name": "20220418_RecSysデータ調査",
      "provenance": [],
      "machine_shape": "hm"
    },
    "kernelspec": {
      "display_name": "Python 3",
      "name": "python3"
    }
  },
  "nbformat": 4,
  "nbformat_minor": 0
}
