{
 "cells": [
  {
   "cell_type": "markdown",
   "metadata": {},
   "source": [
    "# 確率的行列分解を試す"
   ]
  },
  {
   "cell_type": "markdown",
   "metadata": {},
   "source": [
    "## 確率的行列分解\n",
    "$n$回のセッションについて，$m$個の商品の評価が$R$という$n \\times m$行列で与えられているものとする．\n",
    "ここで，$R$の要素$r_{s, i}$は，セッション$s$内で商品$i$がビューに含まれるとき$1$，その他の場合$0$となる(他の決め方も当然検討するべき)．\n",
    "いま\n",
    "$$\n",
    "R = P^t Q\n",
    "$$\n",
    "という形に$R$を分解したい．ただし$P^t$は$n \\times k$行列，$Q$は$k \\times m$行列であり($k$は任意の整数)，それぞれ利用者と商品を特徴づける．\n",
    "以下の損失関数を最小化したい：\n",
    "$$\n",
    "L = \\dfrac{1}{2} \\sum_{(s, i) \\in D} (r_{s, i} - {\\bf p}_s^t {\\bf q}_i)^2 + \\dfrac{\\lambda_p}{2} \\sum_s {\\bf p}_s^2 + \\dfrac{\\lambda_q}{2} \\sum_i {\\bf q_i}^2\n",
    "$$\n",
    "ここで$D$はセッション$s$と商品$i$のビューをペアでまとめた集合であり，${\\bf p}_s^t$は$P^t$の$s$行目，${\\bf q}_i$は$Q$の$i$列目をベクトルで表したものである．\n",
    "さらに，正則化のパラメータとして$\\lambda_p, \\lambda_q$を導入した．\n",
    "これを${\\bf p}$と${\\bf q}$によって微分することで，\n",
    "$$\n",
    "{\\bf p}_s \\leftarrow (1 - \\alpha \\lambda_p) {\\bf p}_s -  \\alpha \\sum_{i \\in D(s)} (r_{s, i} - {\\bf p}_s^t {\\bf q}_i) {\\bf q}_i \\\\\n",
    "{\\bf q}_i \\leftarrow (1 - \\alpha \\lambda_q) {\\bf q}_s -  \\alpha \\sum_{s \\in D(i)} (r_{s, i} - {\\bf p}_s^t {\\bf q}_i) {\\bf p}_s \n",
    "$$\n",
    "が更新式となる．ただし$\\alpha$は更新の速度を与えるパラメータであり，$D(s)$はセッション$s$に含まれるような商品の集合，$D(i)$は商品$i$をビューに含むようなセッションの集合である．\n",
    "\n",
    "## 簡易的な予測モデル\n",
    "いま商品$i$について${\\bf q}_i$のようなベクトル化ができているため，セッション$s$に含まれる商品の集合$D(s)$の重心$\\bar{\\bf q}$をレコメンドすることが考えられる：\n",
    "$$\n",
    "\\bar{\\bf q} = \\sum_{i \\in D(s)} {\\bf q}_i\n",
    "$$\n",
    "距離として通常の$L^2$ノルムを用いると，$d_i = |{\\bf q}_i - \\bar{\\bf q}|^2$が小さくなるような商品$i$をレコメンドすればよい．\n",
    "\n",
    "**===以下はうまくいかなかったため読む必要なし===**\n",
    "\n",
    "## 回帰モデルの作成\n",
    "確率的行列分解により，訓練データの入力(ビュー)によってセッションと商品をベクトル化できた．\n",
    "訓練データの出力(購入した商品)を予測するには，以下のようなモデルが考えられる：\n",
    "$$\n",
    "{\\rm minimize}_{T} \\quad \\sum_s ({\\bf q}_{i(s)} - T {\\bf p}_s)^2\n",
    "$$\n",
    "ただし，$i(s)$はセッション$s$において購入された商品を表し，$T$は$k\\times k$行列である．\n",
    "(各セッションのビューに含まれる商品ベクトルの平均などでもいいかもしれない)．\n",
    "いま$s$行目が${\\bf q}_{i(s)}$となる$n \\times k$行列$\\tilde{Q}$を定義すると，$T$は\n",
    "$$\n",
    "T = (P P^t)^{-1} P \\tilde{Q}\n",
    "$$\n",
    "によって求められる．\n",
    "\n",
    "## 購入データの予測\n",
    "訓練データに対しては，セッション$s$がベクトル化されているため，${\\bf \\hat{q}} = T {\\bf p}_s$に近いような商品をレコメンドすればよい．\n",
    "一方，テストデータに関してはセッション$s$のベクトル化をする必要がある．\n",
    "商品を表す行列$Q$が固定されているものとすると，損失関数は同様に\n",
    "$$\n",
    "L = \\dfrac{1}{2} \\sum_{i \\in D(s)} (r_{s, i} - {\\bf p}_s^t {\\bf q}_i)^2 + \\dfrac{\\lambda_p}{2} \\sum_s {\\bf p}_s^2 \n",
    "$$\n",
    "として与えられる($\\lambda_p$のスケールがこのままでよいかは要検討)．これを最小化する${\\bf p}_s$は以下のように求められる：\n",
    "$$\n",
    "{\\bf p}_s = (\\lambda_p + Q(s))^{-1} \\sum_{i \\in D(s)} r_{s, i} {\\bf q}_i\n",
    "$$\n",
    "ここで以下の$k \\times k$行列\n",
    "$$\n",
    "Q(s) = \\sum_{i \\in D(s)} {\\bf q}_i {\\bf q}_i^t\n",
    "$$\n",
    "を定義した．"
   ]
  },
  {
   "cell_type": "markdown",
   "metadata": {},
   "source": [
    "# セットアップ"
   ]
  },
  {
   "cell_type": "code",
   "execution_count": 1,
   "metadata": {},
   "outputs": [],
   "source": [
    "import numpy as np\n",
    "import pandas as pd\n",
    "import matplotlib.pyplot as plt\n",
    "%matplotlib inline\n",
    "import datetime\n",
    "import re\n",
    "from sklearn.cluster import KMeans\n",
    "from sklearn.decomposition import PCA\n",
    "from tqdm import tqdm # for文の進捗状況を見るために使う"
   ]
  },
  {
   "cell_type": "code",
   "execution_count": 2,
   "metadata": {},
   "outputs": [],
   "source": [
    "plt.style.use(\"ggplot\")\n",
    "plt.rcParams['font.family'] = \"MS Gothic\"\n",
    "plt.rcParams[\"font.size\"] = 20"
   ]
  },
  {
   "cell_type": "markdown",
   "metadata": {},
   "source": [
    "# データの読み込み\n",
    "開くとそれぞれのデータがどのような形か確認できるようになっている"
   ]
  },
  {
   "cell_type": "markdown",
   "metadata": {},
   "source": [
    "購入データ`df_train_purchases`"
   ]
  },
  {
   "cell_type": "code",
   "execution_count": 3,
   "metadata": {
    "collapsed": true
   },
   "outputs": [
    {
     "data": {
      "text/html": [
       "<div>\n",
       "<style scoped>\n",
       "    .dataframe tbody tr th:only-of-type {\n",
       "        vertical-align: middle;\n",
       "    }\n",
       "\n",
       "    .dataframe tbody tr th {\n",
       "        vertical-align: top;\n",
       "    }\n",
       "\n",
       "    .dataframe thead th {\n",
       "        text-align: right;\n",
       "    }\n",
       "</style>\n",
       "<table border=\"1\" class=\"dataframe\">\n",
       "  <thead>\n",
       "    <tr style=\"text-align: right;\">\n",
       "      <th></th>\n",
       "      <th>session_id</th>\n",
       "      <th>item_id</th>\n",
       "      <th>date</th>\n",
       "    </tr>\n",
       "  </thead>\n",
       "  <tbody>\n",
       "    <tr>\n",
       "      <th>0</th>\n",
       "      <td>3</td>\n",
       "      <td>15085</td>\n",
       "      <td>2020-12-18 21:26:47.986</td>\n",
       "    </tr>\n",
       "    <tr>\n",
       "      <th>1</th>\n",
       "      <td>13</td>\n",
       "      <td>18626</td>\n",
       "      <td>2020-03-13 19:36:15.507</td>\n",
       "    </tr>\n",
       "    <tr>\n",
       "      <th>2</th>\n",
       "      <td>18</td>\n",
       "      <td>24911</td>\n",
       "      <td>2020-08-26 19:20:32.049</td>\n",
       "    </tr>\n",
       "    <tr>\n",
       "      <th>3</th>\n",
       "      <td>19</td>\n",
       "      <td>12534</td>\n",
       "      <td>2020-11-02 17:16:45.92</td>\n",
       "    </tr>\n",
       "    <tr>\n",
       "      <th>4</th>\n",
       "      <td>24</td>\n",
       "      <td>13226</td>\n",
       "      <td>2020-02-26 18:27:44.114</td>\n",
       "    </tr>\n",
       "    <tr>\n",
       "      <th>...</th>\n",
       "      <td>...</td>\n",
       "      <td>...</td>\n",
       "      <td>...</td>\n",
       "    </tr>\n",
       "    <tr>\n",
       "      <th>999995</th>\n",
       "      <td>4439986</td>\n",
       "      <td>2915</td>\n",
       "      <td>2021-05-13 11:56:37.464</td>\n",
       "    </tr>\n",
       "    <tr>\n",
       "      <th>999996</th>\n",
       "      <td>4439990</td>\n",
       "      <td>8786</td>\n",
       "      <td>2020-08-22 14:28:22.382</td>\n",
       "    </tr>\n",
       "    <tr>\n",
       "      <th>999997</th>\n",
       "      <td>4439994</td>\n",
       "      <td>21630</td>\n",
       "      <td>2020-11-27 20:10:28.961</td>\n",
       "    </tr>\n",
       "    <tr>\n",
       "      <th>999998</th>\n",
       "      <td>4439999</td>\n",
       "      <td>16962</td>\n",
       "      <td>2020-11-27 11:01:41.356</td>\n",
       "    </tr>\n",
       "    <tr>\n",
       "      <th>999999</th>\n",
       "      <td>4440001</td>\n",
       "      <td>16631</td>\n",
       "      <td>2020-10-30 23:46:05.218</td>\n",
       "    </tr>\n",
       "  </tbody>\n",
       "</table>\n",
       "<p>1000000 rows × 3 columns</p>\n",
       "</div>"
      ],
      "text/plain": [
       "        session_id  item_id                     date\n",
       "0                3    15085  2020-12-18 21:26:47.986\n",
       "1               13    18626  2020-03-13 19:36:15.507\n",
       "2               18    24911  2020-08-26 19:20:32.049\n",
       "3               19    12534   2020-11-02 17:16:45.92\n",
       "4               24    13226  2020-02-26 18:27:44.114\n",
       "...            ...      ...                      ...\n",
       "999995     4439986     2915  2021-05-13 11:56:37.464\n",
       "999996     4439990     8786  2020-08-22 14:28:22.382\n",
       "999997     4439994    21630  2020-11-27 20:10:28.961\n",
       "999998     4439999    16962  2020-11-27 11:01:41.356\n",
       "999999     4440001    16631  2020-10-30 23:46:05.218\n",
       "\n",
       "[1000000 rows x 3 columns]"
      ]
     },
     "metadata": {},
     "output_type": "display_data"
    }
   ],
   "source": [
    "path_data = r'C:\\Users\\yota-\\Desktop\\study\\mystudy\\recsys\\dressipi_recsys2022\\data'\n",
    "df_train_purchases = pd.read_csv(path_data + r\"\\train_purchases.csv\")\n",
    "display(df_train_purchases)"
   ]
  },
  {
   "cell_type": "markdown",
   "metadata": {},
   "source": [
    "セッションのデータ`df_train_sessions`"
   ]
  },
  {
   "cell_type": "code",
   "execution_count": 4,
   "metadata": {
    "collapsed": true
   },
   "outputs": [
    {
     "data": {
      "text/html": [
       "<div>\n",
       "<style scoped>\n",
       "    .dataframe tbody tr th:only-of-type {\n",
       "        vertical-align: middle;\n",
       "    }\n",
       "\n",
       "    .dataframe tbody tr th {\n",
       "        vertical-align: top;\n",
       "    }\n",
       "\n",
       "    .dataframe thead th {\n",
       "        text-align: right;\n",
       "    }\n",
       "</style>\n",
       "<table border=\"1\" class=\"dataframe\">\n",
       "  <thead>\n",
       "    <tr style=\"text-align: right;\">\n",
       "      <th></th>\n",
       "      <th>session_id</th>\n",
       "      <th>item_id</th>\n",
       "      <th>date</th>\n",
       "    </tr>\n",
       "  </thead>\n",
       "  <tbody>\n",
       "    <tr>\n",
       "      <th>0</th>\n",
       "      <td>3</td>\n",
       "      <td>9655</td>\n",
       "      <td>2020-12-18 21:25:00.373</td>\n",
       "    </tr>\n",
       "    <tr>\n",
       "      <th>1</th>\n",
       "      <td>3</td>\n",
       "      <td>9655</td>\n",
       "      <td>2020-12-18 21:19:48.093</td>\n",
       "    </tr>\n",
       "    <tr>\n",
       "      <th>2</th>\n",
       "      <td>13</td>\n",
       "      <td>15654</td>\n",
       "      <td>2020-03-13 19:35:27.136</td>\n",
       "    </tr>\n",
       "    <tr>\n",
       "      <th>3</th>\n",
       "      <td>18</td>\n",
       "      <td>18316</td>\n",
       "      <td>2020-08-26 19:18:30.833</td>\n",
       "    </tr>\n",
       "    <tr>\n",
       "      <th>4</th>\n",
       "      <td>18</td>\n",
       "      <td>2507</td>\n",
       "      <td>2020-08-26 19:16:31.211</td>\n",
       "    </tr>\n",
       "    <tr>\n",
       "      <th>...</th>\n",
       "      <td>...</td>\n",
       "      <td>...</td>\n",
       "      <td>...</td>\n",
       "    </tr>\n",
       "    <tr>\n",
       "      <th>4743815</th>\n",
       "      <td>4440001</td>\n",
       "      <td>20409</td>\n",
       "      <td>2020-10-30 23:37:20.658</td>\n",
       "    </tr>\n",
       "    <tr>\n",
       "      <th>4743816</th>\n",
       "      <td>4440001</td>\n",
       "      <td>14155</td>\n",
       "      <td>2020-10-30 23:31:56.607</td>\n",
       "    </tr>\n",
       "    <tr>\n",
       "      <th>4743817</th>\n",
       "      <td>4440001</td>\n",
       "      <td>14303</td>\n",
       "      <td>2020-10-30 23:36:17.934</td>\n",
       "    </tr>\n",
       "    <tr>\n",
       "      <th>4743818</th>\n",
       "      <td>4440001</td>\n",
       "      <td>27852</td>\n",
       "      <td>2020-10-30 23:39:55.186</td>\n",
       "    </tr>\n",
       "    <tr>\n",
       "      <th>4743819</th>\n",
       "      <td>4440001</td>\n",
       "      <td>305</td>\n",
       "      <td>2020-10-30 23:27:37.873</td>\n",
       "    </tr>\n",
       "  </tbody>\n",
       "</table>\n",
       "<p>4743820 rows × 3 columns</p>\n",
       "</div>"
      ],
      "text/plain": [
       "         session_id  item_id                     date\n",
       "0                 3     9655  2020-12-18 21:25:00.373\n",
       "1                 3     9655  2020-12-18 21:19:48.093\n",
       "2                13    15654  2020-03-13 19:35:27.136\n",
       "3                18    18316  2020-08-26 19:18:30.833\n",
       "4                18     2507  2020-08-26 19:16:31.211\n",
       "...             ...      ...                      ...\n",
       "4743815     4440001    20409  2020-10-30 23:37:20.658\n",
       "4743816     4440001    14155  2020-10-30 23:31:56.607\n",
       "4743817     4440001    14303  2020-10-30 23:36:17.934\n",
       "4743818     4440001    27852  2020-10-30 23:39:55.186\n",
       "4743819     4440001      305  2020-10-30 23:27:37.873\n",
       "\n",
       "[4743820 rows x 3 columns]"
      ]
     },
     "metadata": {},
     "output_type": "display_data"
    }
   ],
   "source": [
    "df_train_sessions = pd.read_csv(path_data + r\"\\train_sessions.csv\")\n",
    "display(df_train_sessions)"
   ]
  },
  {
   "cell_type": "markdown",
   "metadata": {},
   "source": [
    "商品の候補一覧`df_candidate_items`"
   ]
  },
  {
   "cell_type": "code",
   "execution_count": 5,
   "metadata": {
    "collapsed": true
   },
   "outputs": [
    {
     "data": {
      "text/html": [
       "<div>\n",
       "<style scoped>\n",
       "    .dataframe tbody tr th:only-of-type {\n",
       "        vertical-align: middle;\n",
       "    }\n",
       "\n",
       "    .dataframe tbody tr th {\n",
       "        vertical-align: top;\n",
       "    }\n",
       "\n",
       "    .dataframe thead th {\n",
       "        text-align: right;\n",
       "    }\n",
       "</style>\n",
       "<table border=\"1\" class=\"dataframe\">\n",
       "  <thead>\n",
       "    <tr style=\"text-align: right;\">\n",
       "      <th></th>\n",
       "      <th>item_id</th>\n",
       "    </tr>\n",
       "  </thead>\n",
       "  <tbody>\n",
       "    <tr>\n",
       "      <th>0</th>\n",
       "      <td>4</td>\n",
       "    </tr>\n",
       "    <tr>\n",
       "      <th>1</th>\n",
       "      <td>8</td>\n",
       "    </tr>\n",
       "    <tr>\n",
       "      <th>2</th>\n",
       "      <td>9</td>\n",
       "    </tr>\n",
       "    <tr>\n",
       "      <th>3</th>\n",
       "      <td>19</td>\n",
       "    </tr>\n",
       "    <tr>\n",
       "      <th>4</th>\n",
       "      <td>20</td>\n",
       "    </tr>\n",
       "    <tr>\n",
       "      <th>...</th>\n",
       "      <td>...</td>\n",
       "    </tr>\n",
       "    <tr>\n",
       "      <th>4985</th>\n",
       "      <td>28128</td>\n",
       "    </tr>\n",
       "    <tr>\n",
       "      <th>4986</th>\n",
       "      <td>28131</td>\n",
       "    </tr>\n",
       "    <tr>\n",
       "      <th>4987</th>\n",
       "      <td>28132</td>\n",
       "    </tr>\n",
       "    <tr>\n",
       "      <th>4988</th>\n",
       "      <td>28133</td>\n",
       "    </tr>\n",
       "    <tr>\n",
       "      <th>4989</th>\n",
       "      <td>28137</td>\n",
       "    </tr>\n",
       "  </tbody>\n",
       "</table>\n",
       "<p>4990 rows × 1 columns</p>\n",
       "</div>"
      ],
      "text/plain": [
       "      item_id\n",
       "0           4\n",
       "1           8\n",
       "2           9\n",
       "3          19\n",
       "4          20\n",
       "...       ...\n",
       "4985    28128\n",
       "4986    28131\n",
       "4987    28132\n",
       "4988    28133\n",
       "4989    28137\n",
       "\n",
       "[4990 rows x 1 columns]"
      ]
     },
     "metadata": {},
     "output_type": "display_data"
    }
   ],
   "source": [
    "df_candidate_items = pd.read_csv(path_data + r\"\\candidate_items.csv\")\n",
    "display(df_candidate_items)"
   ]
  },
  {
   "cell_type": "markdown",
   "metadata": {},
   "source": [
    "特徴量データ`df_item_features`"
   ]
  },
  {
   "cell_type": "code",
   "execution_count": 6,
   "metadata": {
    "collapsed": true
   },
   "outputs": [
    {
     "data": {
      "text/html": [
       "<div>\n",
       "<style scoped>\n",
       "    .dataframe tbody tr th:only-of-type {\n",
       "        vertical-align: middle;\n",
       "    }\n",
       "\n",
       "    .dataframe tbody tr th {\n",
       "        vertical-align: top;\n",
       "    }\n",
       "\n",
       "    .dataframe thead th {\n",
       "        text-align: right;\n",
       "    }\n",
       "</style>\n",
       "<table border=\"1\" class=\"dataframe\">\n",
       "  <thead>\n",
       "    <tr style=\"text-align: right;\">\n",
       "      <th></th>\n",
       "      <th>item_id</th>\n",
       "      <th>feature_category_id</th>\n",
       "      <th>feature_value_id</th>\n",
       "    </tr>\n",
       "  </thead>\n",
       "  <tbody>\n",
       "    <tr>\n",
       "      <th>0</th>\n",
       "      <td>2</td>\n",
       "      <td>56</td>\n",
       "      <td>365</td>\n",
       "    </tr>\n",
       "    <tr>\n",
       "      <th>1</th>\n",
       "      <td>2</td>\n",
       "      <td>62</td>\n",
       "      <td>801</td>\n",
       "    </tr>\n",
       "    <tr>\n",
       "      <th>2</th>\n",
       "      <td>2</td>\n",
       "      <td>68</td>\n",
       "      <td>351</td>\n",
       "    </tr>\n",
       "    <tr>\n",
       "      <th>3</th>\n",
       "      <td>2</td>\n",
       "      <td>33</td>\n",
       "      <td>802</td>\n",
       "    </tr>\n",
       "    <tr>\n",
       "      <th>4</th>\n",
       "      <td>2</td>\n",
       "      <td>72</td>\n",
       "      <td>75</td>\n",
       "    </tr>\n",
       "    <tr>\n",
       "      <th>...</th>\n",
       "      <td>...</td>\n",
       "      <td>...</td>\n",
       "      <td>...</td>\n",
       "    </tr>\n",
       "    <tr>\n",
       "      <th>471746</th>\n",
       "      <td>28143</td>\n",
       "      <td>68</td>\n",
       "      <td>351</td>\n",
       "    </tr>\n",
       "    <tr>\n",
       "      <th>471747</th>\n",
       "      <td>28143</td>\n",
       "      <td>55</td>\n",
       "      <td>390</td>\n",
       "    </tr>\n",
       "    <tr>\n",
       "      <th>471748</th>\n",
       "      <td>28143</td>\n",
       "      <td>11</td>\n",
       "      <td>109</td>\n",
       "    </tr>\n",
       "    <tr>\n",
       "      <th>471749</th>\n",
       "      <td>28143</td>\n",
       "      <td>73</td>\n",
       "      <td>91</td>\n",
       "    </tr>\n",
       "    <tr>\n",
       "      <th>471750</th>\n",
       "      <td>28143</td>\n",
       "      <td>47</td>\n",
       "      <td>549</td>\n",
       "    </tr>\n",
       "  </tbody>\n",
       "</table>\n",
       "<p>471751 rows × 3 columns</p>\n",
       "</div>"
      ],
      "text/plain": [
       "        item_id  feature_category_id  feature_value_id\n",
       "0             2                   56               365\n",
       "1             2                   62               801\n",
       "2             2                   68               351\n",
       "3             2                   33               802\n",
       "4             2                   72                75\n",
       "...         ...                  ...               ...\n",
       "471746    28143                   68               351\n",
       "471747    28143                   55               390\n",
       "471748    28143                   11               109\n",
       "471749    28143                   73                91\n",
       "471750    28143                   47               549\n",
       "\n",
       "[471751 rows x 3 columns]"
      ]
     },
     "metadata": {},
     "output_type": "display_data"
    }
   ],
   "source": [
    "df_item_features = pd.read_csv(path_data + r\"\\item_features.csv\")\n",
    "display(df_item_features)"
   ]
  },
  {
   "cell_type": "markdown",
   "metadata": {},
   "source": [
    "テストデータ"
   ]
  },
  {
   "cell_type": "code",
   "execution_count": 7,
   "metadata": {
    "collapsed": true
   },
   "outputs": [
    {
     "data": {
      "text/html": [
       "<div>\n",
       "<style scoped>\n",
       "    .dataframe tbody tr th:only-of-type {\n",
       "        vertical-align: middle;\n",
       "    }\n",
       "\n",
       "    .dataframe tbody tr th {\n",
       "        vertical-align: top;\n",
       "    }\n",
       "\n",
       "    .dataframe thead th {\n",
       "        text-align: right;\n",
       "    }\n",
       "</style>\n",
       "<table border=\"1\" class=\"dataframe\">\n",
       "  <thead>\n",
       "    <tr style=\"text-align: right;\">\n",
       "      <th></th>\n",
       "      <th>session_id</th>\n",
       "      <th>item_id</th>\n",
       "      <th>date</th>\n",
       "    </tr>\n",
       "  </thead>\n",
       "  <tbody>\n",
       "    <tr>\n",
       "      <th>0</th>\n",
       "      <td>26</td>\n",
       "      <td>19185</td>\n",
       "      <td>2021-06-16 09:53:54.158</td>\n",
       "    </tr>\n",
       "    <tr>\n",
       "      <th>1</th>\n",
       "      <td>200</td>\n",
       "      <td>17089</td>\n",
       "      <td>2021-06-25 12:23:40.811</td>\n",
       "    </tr>\n",
       "    <tr>\n",
       "      <th>2</th>\n",
       "      <td>200</td>\n",
       "      <td>17089</td>\n",
       "      <td>2021-06-25 12:24:36.631</td>\n",
       "    </tr>\n",
       "    <tr>\n",
       "      <th>3</th>\n",
       "      <td>200</td>\n",
       "      <td>8060</td>\n",
       "      <td>2021-06-25 12:24:41.677</td>\n",
       "    </tr>\n",
       "    <tr>\n",
       "      <th>4</th>\n",
       "      <td>200</td>\n",
       "      <td>4758</td>\n",
       "      <td>2021-06-25 12:24:50.692</td>\n",
       "    </tr>\n",
       "    <tr>\n",
       "      <th>...</th>\n",
       "      <td>...</td>\n",
       "      <td>...</td>\n",
       "      <td>...</td>\n",
       "    </tr>\n",
       "    <tr>\n",
       "      <th>229349</th>\n",
       "      <td>4439653</td>\n",
       "      <td>25955</td>\n",
       "      <td>2021-06-11 10:22:57.47</td>\n",
       "    </tr>\n",
       "    <tr>\n",
       "      <th>229350</th>\n",
       "      <td>4439653</td>\n",
       "      <td>12179</td>\n",
       "      <td>2021-06-11 10:23:00.663</td>\n",
       "    </tr>\n",
       "    <tr>\n",
       "      <th>229351</th>\n",
       "      <td>4439757</td>\n",
       "      <td>2078</td>\n",
       "      <td>2021-06-30 11:42:15.073</td>\n",
       "    </tr>\n",
       "    <tr>\n",
       "      <th>229352</th>\n",
       "      <td>4439757</td>\n",
       "      <td>2078</td>\n",
       "      <td>2021-06-30 11:43:13.725</td>\n",
       "    </tr>\n",
       "    <tr>\n",
       "      <th>229353</th>\n",
       "      <td>4439757</td>\n",
       "      <td>6790</td>\n",
       "      <td>2021-06-30 11:44:52.704</td>\n",
       "    </tr>\n",
       "  </tbody>\n",
       "</table>\n",
       "<p>229354 rows × 3 columns</p>\n",
       "</div>"
      ],
      "text/plain": [
       "        session_id  item_id                     date\n",
       "0               26    19185  2021-06-16 09:53:54.158\n",
       "1              200    17089  2021-06-25 12:23:40.811\n",
       "2              200    17089  2021-06-25 12:24:36.631\n",
       "3              200     8060  2021-06-25 12:24:41.677\n",
       "4              200     4758  2021-06-25 12:24:50.692\n",
       "...            ...      ...                      ...\n",
       "229349     4439653    25955   2021-06-11 10:22:57.47\n",
       "229350     4439653    12179  2021-06-11 10:23:00.663\n",
       "229351     4439757     2078  2021-06-30 11:42:15.073\n",
       "229352     4439757     2078  2021-06-30 11:43:13.725\n",
       "229353     4439757     6790  2021-06-30 11:44:52.704\n",
       "\n",
       "[229354 rows x 3 columns]"
      ]
     },
     "metadata": {},
     "output_type": "display_data"
    }
   ],
   "source": [
    "df_test_leaderboard = pd.read_csv(path_data + r\"\\test_leaderboard_sessions.csv\")\n",
    "display(df_test_leaderboard)"
   ]
  },
  {
   "cell_type": "markdown",
   "metadata": {},
   "source": [
    "# Rの代わりになるテーブルを作成\n",
    "$R$はテーブルとして大きすぎるので，縦持ちのままインデックスの名前を変えることで対応．"
   ]
  },
  {
   "cell_type": "code",
   "execution_count": 11,
   "metadata": {},
   "outputs": [
    {
     "data": {
      "text/html": [
       "<div>\n",
       "<style scoped>\n",
       "    .dataframe tbody tr th:only-of-type {\n",
       "        vertical-align: middle;\n",
       "    }\n",
       "\n",
       "    .dataframe tbody tr th {\n",
       "        vertical-align: top;\n",
       "    }\n",
       "\n",
       "    .dataframe thead th {\n",
       "        text-align: right;\n",
       "    }\n",
       "</style>\n",
       "<table border=\"1\" class=\"dataframe\">\n",
       "  <thead>\n",
       "    <tr style=\"text-align: right;\">\n",
       "      <th></th>\n",
       "      <th>session_id</th>\n",
       "      <th>item_id</th>\n",
       "      <th>date</th>\n",
       "      <th>count</th>\n",
       "    </tr>\n",
       "  </thead>\n",
       "  <tbody>\n",
       "    <tr>\n",
       "      <th>3-9655</th>\n",
       "      <td>3</td>\n",
       "      <td>9655</td>\n",
       "      <td>2020-12-18 21:25:00.373</td>\n",
       "      <td>1</td>\n",
       "    </tr>\n",
       "    <tr>\n",
       "      <th>13-15654</th>\n",
       "      <td>13</td>\n",
       "      <td>15654</td>\n",
       "      <td>2020-03-13 19:35:27.136</td>\n",
       "      <td>1</td>\n",
       "    </tr>\n",
       "    <tr>\n",
       "      <th>18-18316</th>\n",
       "      <td>18</td>\n",
       "      <td>18316</td>\n",
       "      <td>2020-08-26 19:18:30.833</td>\n",
       "      <td>1</td>\n",
       "    </tr>\n",
       "    <tr>\n",
       "      <th>18-2507</th>\n",
       "      <td>18</td>\n",
       "      <td>2507</td>\n",
       "      <td>2020-08-26 19:16:31.211</td>\n",
       "      <td>1</td>\n",
       "    </tr>\n",
       "    <tr>\n",
       "      <th>18-4026</th>\n",
       "      <td>18</td>\n",
       "      <td>4026</td>\n",
       "      <td>2020-08-26 19:15:47.232</td>\n",
       "      <td>1</td>\n",
       "    </tr>\n",
       "    <tr>\n",
       "      <th>...</th>\n",
       "      <td>...</td>\n",
       "      <td>...</td>\n",
       "      <td>...</td>\n",
       "      <td>...</td>\n",
       "    </tr>\n",
       "    <tr>\n",
       "      <th>4440001-20409</th>\n",
       "      <td>4440001</td>\n",
       "      <td>20409</td>\n",
       "      <td>2020-10-30 23:37:20.658</td>\n",
       "      <td>1</td>\n",
       "    </tr>\n",
       "    <tr>\n",
       "      <th>4440001-14155</th>\n",
       "      <td>4440001</td>\n",
       "      <td>14155</td>\n",
       "      <td>2020-10-30 23:31:56.607</td>\n",
       "      <td>1</td>\n",
       "    </tr>\n",
       "    <tr>\n",
       "      <th>4440001-14303</th>\n",
       "      <td>4440001</td>\n",
       "      <td>14303</td>\n",
       "      <td>2020-10-30 23:36:17.934</td>\n",
       "      <td>1</td>\n",
       "    </tr>\n",
       "    <tr>\n",
       "      <th>4440001-27852</th>\n",
       "      <td>4440001</td>\n",
       "      <td>27852</td>\n",
       "      <td>2020-10-30 23:39:55.186</td>\n",
       "      <td>1</td>\n",
       "    </tr>\n",
       "    <tr>\n",
       "      <th>4440001-305</th>\n",
       "      <td>4440001</td>\n",
       "      <td>305</td>\n",
       "      <td>2020-10-30 23:27:37.873</td>\n",
       "      <td>1</td>\n",
       "    </tr>\n",
       "  </tbody>\n",
       "</table>\n",
       "<p>4108850 rows × 4 columns</p>\n",
       "</div>"
      ],
      "text/plain": [
       "               session_id  item_id                     date  count\n",
       "3-9655                  3     9655  2020-12-18 21:25:00.373      1\n",
       "13-15654               13    15654  2020-03-13 19:35:27.136      1\n",
       "18-18316               18    18316  2020-08-26 19:18:30.833      1\n",
       "18-2507                18     2507  2020-08-26 19:16:31.211      1\n",
       "18-4026                18     4026  2020-08-26 19:15:47.232      1\n",
       "...                   ...      ...                      ...    ...\n",
       "4440001-20409     4440001    20409  2020-10-30 23:37:20.658      1\n",
       "4440001-14155     4440001    14155  2020-10-30 23:31:56.607      1\n",
       "4440001-14303     4440001    14303  2020-10-30 23:36:17.934      1\n",
       "4440001-27852     4440001    27852  2020-10-30 23:39:55.186      1\n",
       "4440001-305       4440001      305  2020-10-30 23:27:37.873      1\n",
       "\n",
       "[4108850 rows x 4 columns]"
      ]
     },
     "metadata": {},
     "output_type": "display_data"
    }
   ],
   "source": [
    "df_R = df_train_sessions.copy()\n",
    "df_R.drop_duplicates(subset = [\"session_id\", \"item_id\"], inplace = True) # 重複があるため削除，個々の処理は要検討\n",
    "df_R[\"count\"] = 1 # 何も考えず1を入れる．セッションsのビューに商品iが含まれているときr_{s,i}=1となるような感じ．\n",
    "df_R.index = df_R[\"session_id\"].astype(\"str\") + \"-\" + df_R[\"item_id\"].astype(\"str\") # 複合キーを作成(少し時間がかかる)\n",
    "display(df_R)"
   ]
  },
  {
   "cell_type": "markdown",
   "metadata": {},
   "source": [
    "`df_R`で`for`文を回すとかなり時間がかかりそうなので，辞書型に変換"
   ]
  },
  {
   "cell_type": "code",
   "execution_count": 12,
   "metadata": {},
   "outputs": [
    {
     "name": "stdout",
     "output_type": "stream",
     "text": [
      "処理1完了\n",
      "処理2完了\n"
     ]
    }
   ],
   "source": [
    "# sessionからitemのリストを取り出す辞書\n",
    "dict_session_to_item = df_R.groupby('session_id').item_id.apply(lambda x: x.to_list()).to_dict()\n",
    "print(\"処理1完了\")\n",
    "# sessionからitemのリストを取り出す辞書\n",
    "dict_item_to_session = df_R.groupby('item_id').session_id.apply(lambda x: x.to_list()).to_dict()\n",
    "print(\"処理2完了\")"
   ]
  },
  {
   "cell_type": "markdown",
   "metadata": {},
   "source": [
    "# 確率的行列分解を実装\n",
    "Symplectic Euler的な更新になっていることに注意．"
   ]
  },
  {
   "cell_type": "code",
   "execution_count": 15,
   "metadata": {},
   "outputs": [],
   "source": [
    "# 行列分解するクラス\n",
    "# df_Rはsession_id, item, evaluationを縦持ちで保存しているデータフレーム\n",
    "# df_item_featuresは商品の特徴量をまとめている，セッションに出てこない商品も含めるためだけに使う\n",
    "# k_dimは取り出したい特徴量の次元\n",
    "\n",
    "class matrix_factorization:\n",
    "    def __init__(self, df_R, df_item_features, k_dim, lambda_p = 0.1, lambda_q = 0.1):\n",
    "        # いろいろ代入\n",
    "        self.df_R = df_R.drop_duplicates(subset = [\"session_id\", \"item_id\"]) # 重複があると嫌なので削除\n",
    "        self.k_dim = k_dim\n",
    "        self.lambda_p = lambda_p\n",
    "        self.lambda_q = lambda_q\n",
    "        \n",
    "        # パラメーター\n",
    "        self.feature_name_list = [\"feature{}\".format(x + 1) for x in range(k_dim)]\n",
    "        num_session = len(df_R[\"session_id\"].unique())\n",
    "        num_item = len(df_item_features[\"item_id\"].unique())\n",
    "        \n",
    "        # PとQを表すデータフレーム\n",
    "        self.df_P = pd.DataFrame(np.random.randn(k_dim, num_session), columns = self.df_R[\"session_id\"].unique(), index = self.feature_name_list)\n",
    "        self.df_Q = pd.DataFrame(np.random.randn(k_dim, num_item), columns = df_item_features[\"item_id\"].unique(), index = self.feature_name_list)\n",
    "        \n",
    "        # idからnumpy行列のインデックスに変換するための辞書\n",
    "        self.dict_session_to_idx = dict( zip(self.df_P.columns, range(len(self.df_P.columns))) )\n",
    "        self.dict_item_to_idx = dict( zip(self.df_Q.columns, range(len(self.df_Q.columns))) )\n",
    "    \n",
    "    def update(self, alpha, num_iteration): # matrix factorizationの更新式を実行．alphaは更新速度，num_iterationは更新の繰り返しの回数\n",
    "        # データフレームだと遅すぎるのでnumpyベースで計算\n",
    "        P = self.df_P.values\n",
    "        Q = self.df_Q.values\n",
    "        \n",
    "        self.loss_list = [[] for _ in range(num_iteration)] # 損失関数をプロットするためのレコード\n",
    "        \n",
    "        for t in range(num_iteration):\n",
    "            # 損失関数の計算\n",
    "            loss = 0.5 * self.lambda_p * np.linalg.norm(P, \"fro\") ** 2.0 # Frobenius norm\n",
    "            loss += 0.5 * self.lambda_q * np.linalg.norm(Q, \"fro\") ** 2.0\n",
    "\n",
    "            # 全体のシフトを一発で終わらせる\n",
    "            P = P * (1.0 - alpha*self.lambda_p)\n",
    "            Q = Q * (1.0 - alpha*self.lambda_q)\n",
    "            \n",
    "            # 評価がなされているペアに対しての処理\n",
    "            for s, i, r_s_i in zip(tqdm(self.df_R[\"session_id\"]), self.df_R[\"item_id\"], self.df_R[\"eval\"]): # 高速化するため列で取り出す\n",
    "                # s：セッションid，i：商品id，r_s_i：セッションiにおける商品iの評価\n",
    "\n",
    "                # numpy用のidxに変換\n",
    "                s_idx = self.dict_session_to_idx[s]\n",
    "                i_idx = self.dict_item_to_idx[i]\n",
    "\n",
    "                # パラメータの更新\n",
    "                p_vec_s = P[:, s_idx]\n",
    "                q_vec_i = Q[:, i_idx]\n",
    "\n",
    "                P[:, s_idx] += alpha * (r_s_i - p_vec_s.dot(q_vec_i)) * q_vec_i\n",
    "                Q[:, i_idx] += alpha * (r_s_i - p_vec_s.dot(q_vec_i)) * p_vec_s\n",
    "\n",
    "                # 損失関数の計算(更新後の値が混ざっているため正確ではない)\n",
    "                loss += (r_s_i - p_vec_s.dot(q_vec_i)) ** 2.0\n",
    "            print(\"t = \", t, \"loss = \", loss)\n",
    "            self.loss_list[t] = loss\n",
    "        self.df_P = pd.DataFrame(P, index = self.df_P.index, columns = self.df_P.columns)\n",
    "        self.df_Q = pd.DataFrame(Q, index = self.df_Q.index, columns = self.df_Q.columns)\n",
    "    \n",
    "    # これはあまり使わない\n",
    "    def vectorize_session(self, item_id_list, eval_list): # ビューに含まれる商品からセッションをベクトル化．\n",
    "        # item_id_listはビューに含まれる商品idのリスト，eval_listは各商品の評価のリスト．\n",
    "        p_vec_s = np.zeros(self.k_dim)\n",
    "        Q_s = np.zeros((self.k_dim, self.k_dim))\n",
    "        for idx, item_id in enumerate(item_id_list):\n",
    "            q_vec_i = self.df_Q[item_id].values\n",
    "            Q_s += np.outer(q_vec_i, q_vec_i)\n",
    "            p_vec_s += eval_list[idx] * q_vec_i\n",
    "        p_vec_s = np.linalg.inv(self.lambda_p*np.eye(self.k_dim) + Q_s).dot(p_vec_s)\n",
    "        return p_vec_s\n",
    "    \n",
    "    # これもあまり使わない\n",
    "    def linear_regression_on_feature_space(self, df_train_purchases): # 購入データに基づいて，セッションのベクトルから購入された商品ベクトルを推測する線形モデル\n",
    "        df_Q_tilde = pd.merge(df_train_purchases, self.df_Q.T, left_on = \"item_id\", right_index = True, how = \"left\")\n",
    "        Q_tilde = df_Q_tilde[self.feature_name_list].values\n",
    "        P = self.df_P.values\n",
    "        self.T_coef = np.linalg.inv(P.dot(P.T)).dot(P).dot(Q_tilde)\n",
    "        return self.T_coef\n",
    "    \n",
    "    # セッションsのビューに含まれる商品の一覧item_id_listに基づいて商品ベクトルの重心を計算し，\n",
    "    # 候補となる商品の中から近い商品ベクトルを持つものを探す\n",
    "    def search_nearest_neighborhood(self, item_id_list, df_candidate_items_on_Q):\n",
    "        # 商品ベクトルQ上の重心によるモデル\n",
    "        weight = np.arange(1, len(item_id_list)+1, 1) # 直近のデータをより大きく重みづけ\n",
    "        weight = weight / sum(weight)\n",
    "        q_vec_s = self.df_Q.T.loc[item_id_list].T.dot(weight).values # セッションsのビューに含まれる商品の重心を計算(よく考えるとわかる)\n",
    "        \n",
    "        df_distance = (df_candidate_items_on_Q - q_vec_s) * (df_candidate_items_on_Q - q_vec_s)\n",
    "        df_distance = df_distance.sum(axis = 1).to_frame().sort_values(by = 0, ascending = True)\n",
    "        index_to_drop = df_distance.index.isin(item_id_list) # ビューに含まれる商品は解答にならないはず\n",
    "        df_distance = df_distance[~index_to_drop]\n",
    "        return df_distance.index.values\n",
    "    \n",
    "    def predict_items(self, df_test_leaderboard, df_candidate_items, num_prediction = 100):\n",
    "        session_id_list = df_test_leaderboard[\"session_id\"].unique() # テストデータに含まれるセッションの一覧\n",
    "        \n",
    "        # predictionのための空のデータフレームを用意\n",
    "        df_pred = pd.DataFrame(columns = [\"session_id\", \"item_id\", \"rank\"], index = range(len(session_id_list)*num_prediction))\n",
    "        df_pred[\"session_id\"] = np.repeat(session_id_list, num_prediction, axis = 0) # session_idは先に埋める\n",
    "        df_pred[\"rank\"] = np.tile(range(1, num_prediction+1), len(session_id_list)) # rankも埋める\n",
    "        item_id_values = np.zeros(len(df_pred)) # pandasのlocで埋めると時間がかかるので，ndarrayに予測ラベルを埋めていく\n",
    "        \n",
    "        # 進捗状況を表示するためのあれこれ(tqdmは関数内ではうまく使えなさそう)\n",
    "        time_start = datetime.datetime.now()\n",
    "        idx_step = 100\n",
    "        \n",
    "        # 候補となる商品を特徴量空間上で表示\n",
    "        df_candidate_items_on_Q = pd.merge(df_candidate_items, self.df_Q.T, left_on = \"item_id\", right_index = True, how = \"left\")\n",
    "        df_candidate_items_on_Q.set_index(\"item_id\", inplace = True)\n",
    "        \n",
    "        for idx, session_id in enumerate(session_id_list):\n",
    "            # 進捗状況を表示\n",
    "            if idx % idx_step == 1:\n",
    "                time_now = datetime.datetime.now()\n",
    "                time_end_expected = time_start + (time_now - time_start) * (len(session_id_list) / idx)\n",
    "                print(\"終了時刻(予測):\", time_end_expected.strftime(\"%H:%M:%S\"), \\\n",
    "                      \",  進捗：\", idx, \"/\", len(session_id_list), \"({:.2%})\".format(idx/len(session_id_list)), end = \"\\r\")\n",
    "            \n",
    "            # このセッションについて，ビューに含まれるitemのリストを取得\n",
    "            item_id_list = df_test_leaderboard[df_test_leaderboard[\"session_id\"] == session_id][\"item_id\"].values\n",
    "            # 特徴量空間から，予測したリストを取得\n",
    "            pred_list = self.search_nearest_neighborhood(item_id_list, df_test_leaderboard, df_candidate_items_on_Q)[0:num_prediction]\n",
    "            item_id_values[idx*num_prediction: (idx+1)*num_prediction] = np.array(pred_list) # pandasのlocで埋めると時間がかかるため，ndarrayを使う\n",
    "            \n",
    "        print(\"経過時間(実績)　=\", time_now - time_start, \"\\n\") \n",
    "        df_pred[\"item_id\"] = item_id_values # 一気に埋める\n",
    "        df_pred[\"item_id\"] = df_pred[\"item_id\"].astype(\"int\")\n",
    "        return df_pred"
   ]
  },
  {
   "cell_type": "markdown",
   "metadata": {},
   "source": [
    "matrix factorizationを実行．かなり時間がかかる．"
   ]
  },
  {
   "cell_type": "code",
   "execution_count": 23,
   "metadata": {},
   "outputs": [
    {
     "name": "stderr",
     "output_type": "stream",
     "text": [
      "100%|█████████████████████████████████████████████████████████████████████| 4108850/4108850 [01:15<00:00, 54495.24it/s]\n",
      "  0%|                                                                        | 3459/4108850 [00:00<01:58, 34589.54it/s]"
     ]
    },
    {
     "name": "stdout",
     "output_type": "stream",
     "text": [
      "t =  0 loss =  2798361.132185319\n"
     ]
    },
    {
     "name": "stderr",
     "output_type": "stream",
     "text": [
      "100%|█████████████████████████████████████████████████████████████████████| 4108850/4108850 [01:12<00:00, 56635.30it/s]\n",
      "  0%|                                                                        | 3244/4108850 [00:00<02:06, 32439.10it/s]"
     ]
    },
    {
     "name": "stdout",
     "output_type": "stream",
     "text": [
      "t =  1 loss =  2165356.4518127544\n"
     ]
    },
    {
     "name": "stderr",
     "output_type": "stream",
     "text": [
      "100%|█████████████████████████████████████████████████████████████████████| 4108850/4108850 [01:10<00:00, 58200.98it/s]\n",
      "  0%|                                                                        | 2866/4108850 [00:00<02:23, 28517.04it/s]"
     ]
    },
    {
     "name": "stdout",
     "output_type": "stream",
     "text": [
      "t =  2 loss =  2081659.0594398165\n"
     ]
    },
    {
     "name": "stderr",
     "output_type": "stream",
     "text": [
      "100%|█████████████████████████████████████████████████████████████████████| 4108850/4108850 [01:15<00:00, 54503.01it/s]\n",
      "  0%|                                                                        | 3203/4108850 [00:00<02:08, 31870.01it/s]"
     ]
    },
    {
     "name": "stdout",
     "output_type": "stream",
     "text": [
      "t =  3 loss =  2051571.947780466\n"
     ]
    },
    {
     "name": "stderr",
     "output_type": "stream",
     "text": [
      "100%|█████████████████████████████████████████████████████████████████████| 4108850/4108850 [01:18<00:00, 52295.80it/s]\n",
      "  0%|                                                                        | 2849/4108850 [00:00<02:24, 28489.55it/s]"
     ]
    },
    {
     "name": "stdout",
     "output_type": "stream",
     "text": [
      "t =  4 loss =  2029561.740649936\n"
     ]
    },
    {
     "name": "stderr",
     "output_type": "stream",
     "text": [
      "100%|█████████████████████████████████████████████████████████████████████| 4108850/4108850 [01:15<00:00, 54297.54it/s]\n",
      "  0%|                                                                        | 3282/4108850 [00:00<02:05, 32819.72it/s]"
     ]
    },
    {
     "name": "stdout",
     "output_type": "stream",
     "text": [
      "t =  5 loss =  2009416.2045442567\n"
     ]
    },
    {
     "name": "stderr",
     "output_type": "stream",
     "text": [
      "100%|█████████████████████████████████████████████████████████████████████| 4108850/4108850 [01:11<00:00, 57350.64it/s]\n",
      "  0%|                                                                        | 3088/4108850 [00:00<02:12, 30879.73it/s]"
     ]
    },
    {
     "name": "stdout",
     "output_type": "stream",
     "text": [
      "t =  6 loss =  1989484.2968052404\n"
     ]
    },
    {
     "name": "stderr",
     "output_type": "stream",
     "text": [
      "100%|█████████████████████████████████████████████████████████████████████| 4108850/4108850 [01:21<00:00, 50678.10it/s]\n",
      "  0%|                                                                        | 2882/4108850 [00:00<02:23, 28677.13it/s]"
     ]
    },
    {
     "name": "stdout",
     "output_type": "stream",
     "text": [
      "t =  7 loss =  1969163.4712949046\n"
     ]
    },
    {
     "name": "stderr",
     "output_type": "stream",
     "text": [
      "100%|█████████████████████████████████████████████████████████████████████| 4108850/4108850 [01:14<00:00, 55348.83it/s]\n",
      "  0%|                                                                        | 3181/4108850 [00:00<02:09, 31809.50it/s]"
     ]
    },
    {
     "name": "stdout",
     "output_type": "stream",
     "text": [
      "t =  8 loss =  1948188.7255649674\n"
     ]
    },
    {
     "name": "stderr",
     "output_type": "stream",
     "text": [
      "100%|█████████████████████████████████████████████████████████████████████| 4108850/4108850 [01:16<00:00, 53934.92it/s]\n",
      "  0%|                                                                        | 2687/4108850 [00:00<02:32, 26869.45it/s]"
     ]
    },
    {
     "name": "stdout",
     "output_type": "stream",
     "text": [
      "t =  9 loss =  1926437.9593065404\n"
     ]
    },
    {
     "name": "stderr",
     "output_type": "stream",
     "text": [
      "100%|█████████████████████████████████████████████████████████████████████| 4108850/4108850 [01:13<00:00, 56265.28it/s]\n",
      "  0%|                                                                        | 2411/4108850 [00:00<02:50, 24109.74it/s]"
     ]
    },
    {
     "name": "stdout",
     "output_type": "stream",
     "text": [
      "t =  10 loss =  1903867.699332388\n"
     ]
    },
    {
     "name": "stderr",
     "output_type": "stream",
     "text": [
      "100%|█████████████████████████████████████████████████████████████████████| 4108850/4108850 [01:20<00:00, 50974.52it/s]\n",
      "  0%|                                                                        | 3119/4108850 [00:00<02:11, 31189.88it/s]"
     ]
    },
    {
     "name": "stdout",
     "output_type": "stream",
     "text": [
      "t =  11 loss =  1880488.1112895536\n"
     ]
    },
    {
     "name": "stderr",
     "output_type": "stream",
     "text": [
      "100%|█████████████████████████████████████████████████████████████████████| 4108850/4108850 [01:13<00:00, 55606.21it/s]\n",
      "  0%|                                                                        | 2091/4108850 [00:00<03:16, 20909.67it/s]"
     ]
    },
    {
     "name": "stdout",
     "output_type": "stream",
     "text": [
      "t =  12 loss =  1856351.2451174145\n"
     ]
    },
    {
     "name": "stderr",
     "output_type": "stream",
     "text": [
      "100%|█████████████████████████████████████████████████████████████████████| 4108850/4108850 [01:18<00:00, 52593.97it/s]\n",
      "  0%|                                                                        | 2872/4108850 [00:00<02:22, 28719.41it/s]"
     ]
    },
    {
     "name": "stdout",
     "output_type": "stream",
     "text": [
      "t =  13 loss =  1831543.7094300347\n"
     ]
    },
    {
     "name": "stderr",
     "output_type": "stream",
     "text": [
      "100%|█████████████████████████████████████████████████████████████████████| 4108850/4108850 [01:15<00:00, 54172.86it/s]\n",
      "  0%|                                                                        | 2759/4108850 [00:00<02:29, 27454.27it/s]"
     ]
    },
    {
     "name": "stdout",
     "output_type": "stream",
     "text": [
      "t =  14 loss =  1806180.3180754818\n"
     ]
    },
    {
     "name": "stderr",
     "output_type": "stream",
     "text": [
      "100%|█████████████████████████████████████████████████████████████████████| 4108850/4108850 [01:11<00:00, 57744.55it/s]\n",
      "  0%|                                                                        | 1982/4108850 [00:00<03:28, 19721.47it/s]"
     ]
    },
    {
     "name": "stdout",
     "output_type": "stream",
     "text": [
      "t =  15 loss =  1780397.3520277687\n"
     ]
    },
    {
     "name": "stderr",
     "output_type": "stream",
     "text": [
      "100%|█████████████████████████████████████████████████████████████████████| 4108850/4108850 [01:16<00:00, 53990.50it/s]\n",
      "  0%|                                                                        | 3494/4108850 [00:00<01:58, 34766.30it/s]"
     ]
    },
    {
     "name": "stdout",
     "output_type": "stream",
     "text": [
      "t =  16 loss =  1754345.153650492\n"
     ]
    },
    {
     "name": "stderr",
     "output_type": "stream",
     "text": [
      "100%|█████████████████████████████████████████████████████████████████████| 4108850/4108850 [01:09<00:00, 58726.76it/s]\n",
      "  0%|                                                                        | 2805/4108850 [00:00<02:26, 28048.89it/s]"
     ]
    },
    {
     "name": "stdout",
     "output_type": "stream",
     "text": [
      "t =  17 loss =  1728180.3750576433\n"
     ]
    },
    {
     "name": "stderr",
     "output_type": "stream",
     "text": [
      "100%|█████████████████████████████████████████████████████████████████████| 4108850/4108850 [01:11<00:00, 57126.96it/s]\n",
      "  0%|                                                                        | 2517/4108850 [00:00<02:43, 25169.72it/s]"
     ]
    },
    {
     "name": "stdout",
     "output_type": "stream",
     "text": [
      "t =  18 loss =  1702058.4809655666\n"
     ]
    },
    {
     "name": "stderr",
     "output_type": "stream",
     "text": [
      "100%|█████████████████████████████████████████████████████████████████████| 4108850/4108850 [01:15<00:00, 54735.84it/s]\n",
      "  0%|                                                                        | 2957/4108850 [00:00<02:18, 29569.96it/s]"
     ]
    },
    {
     "name": "stdout",
     "output_type": "stream",
     "text": [
      "t =  19 loss =  1676127.1288786617\n"
     ]
    },
    {
     "name": "stderr",
     "output_type": "stream",
     "text": [
      "100%|█████████████████████████████████████████████████████████████████████| 4108850/4108850 [01:13<00:00, 56157.43it/s]\n",
      "  0%|                                                                        | 2844/4108850 [00:00<02:24, 28439.76it/s]"
     ]
    },
    {
     "name": "stdout",
     "output_type": "stream",
     "text": [
      "t =  20 loss =  1650520.8967990042\n"
     ]
    },
    {
     "name": "stderr",
     "output_type": "stream",
     "text": [
      "100%|█████████████████████████████████████████████████████████████████████| 4108850/4108850 [01:14<00:00, 55063.54it/s]\n",
      "  0%|                                                                        | 2365/4108850 [00:00<02:53, 23649.57it/s]"
     ]
    },
    {
     "name": "stdout",
     "output_type": "stream",
     "text": [
      "t =  21 loss =  1625357.5956620027\n"
     ]
    },
    {
     "name": "stderr",
     "output_type": "stream",
     "text": [
      "100%|█████████████████████████████████████████████████████████████████████| 4108850/4108850 [01:21<00:00, 50704.97it/s]\n",
      "  0%|                                                                        | 3646/4108850 [00:00<01:52, 36459.86it/s]"
     ]
    },
    {
     "name": "stdout",
     "output_type": "stream",
     "text": [
      "t =  22 loss =  1600736.1746005442\n"
     ]
    },
    {
     "name": "stderr",
     "output_type": "stream",
     "text": [
      "100%|█████████████████████████████████████████████████████████████████████| 4108850/4108850 [01:16<00:00, 54044.78it/s]\n",
      "  0%|                                                                        | 2820/4108850 [00:00<02:25, 28199.96it/s]"
     ]
    },
    {
     "name": "stdout",
     "output_type": "stream",
     "text": [
      "t =  23 loss =  1576736.05341259\n"
     ]
    },
    {
     "name": "stderr",
     "output_type": "stream",
     "text": [
      "100%|█████████████████████████████████████████████████████████████████████| 4108850/4108850 [01:20<00:00, 51015.51it/s]\n",
      "  0%|                                                                                      | 0/4108850 [00:00<?, ?it/s]"
     ]
    },
    {
     "name": "stdout",
     "output_type": "stream",
     "text": [
      "t =  24 loss =  1553417.6137328977\n"
     ]
    },
    {
     "name": "stderr",
     "output_type": "stream",
     "text": [
      "100%|█████████████████████████████████████████████████████████████████████| 4108850/4108850 [01:20<00:00, 51102.22it/s]\n",
      "  0%|                                                                        | 2811/4108850 [00:00<02:26, 27970.58it/s]"
     ]
    },
    {
     "name": "stdout",
     "output_type": "stream",
     "text": [
      "t =  25 loss =  1530823.540227181\n"
     ]
    },
    {
     "name": "stderr",
     "output_type": "stream",
     "text": [
      "100%|█████████████████████████████████████████████████████████████████████| 4108850/4108850 [01:18<00:00, 52402.17it/s]\n",
      "  0%|                                                                        | 3051/4108850 [00:00<02:14, 30509.59it/s]"
     ]
    },
    {
     "name": "stdout",
     "output_type": "stream",
     "text": [
      "t =  26 loss =  1508980.7087234529\n"
     ]
    },
    {
     "name": "stderr",
     "output_type": "stream",
     "text": [
      "100%|█████████████████████████████████████████████████████████████████████| 4108850/4108850 [01:18<00:00, 52148.61it/s]\n",
      "  0%|                                                                        | 2810/4108850 [00:00<02:26, 28099.49it/s]"
     ]
    },
    {
     "name": "stdout",
     "output_type": "stream",
     "text": [
      "t =  27 loss =  1487902.3537960174\n"
     ]
    },
    {
     "name": "stderr",
     "output_type": "stream",
     "text": [
      "100%|█████████████████████████████████████████████████████████████████████| 4108850/4108850 [01:20<00:00, 50989.67it/s]\n",
      "  0%|                                                                        | 2537/4108850 [00:00<02:41, 25369.84it/s]"
     ]
    },
    {
     "name": "stdout",
     "output_type": "stream",
     "text": [
      "t =  28 loss =  1467590.3015455834\n"
     ]
    },
    {
     "name": "stderr",
     "output_type": "stream",
     "text": [
      "100%|█████████████████████████████████████████████████████████████████████| 4108850/4108850 [01:12<00:00, 56376.38it/s]\n",
      "  0%|                                                                        | 3375/4108850 [00:00<02:01, 33749.95it/s]"
     ]
    },
    {
     "name": "stdout",
     "output_type": "stream",
     "text": [
      "t =  29 loss =  1448037.1135293655\n"
     ]
    },
    {
     "name": "stderr",
     "output_type": "stream",
     "text": [
      "100%|█████████████████████████████████████████████████████████████████████| 4108850/4108850 [01:11<00:00, 57224.05it/s]\n",
      "  0%|                                                                        | 3655/4108850 [00:00<01:52, 36367.60it/s]"
     ]
    },
    {
     "name": "stdout",
     "output_type": "stream",
     "text": [
      "t =  30 loss =  1429228.0454486266\n"
     ]
    },
    {
     "name": "stderr",
     "output_type": "stream",
     "text": [
      "100%|█████████████████████████████████████████████████████████████████████| 4108850/4108850 [01:11<00:00, 57338.91it/s]\n",
      "  0%|                                                                        | 3486/4108850 [00:00<01:57, 34859.87it/s]"
     ]
    },
    {
     "name": "stdout",
     "output_type": "stream",
     "text": [
      "t =  31 loss =  1411142.7720603482\n"
     ]
    },
    {
     "name": "stderr",
     "output_type": "stream",
     "text": [
      "100%|█████████████████████████████████████████████████████████████████████| 4108850/4108850 [01:11<00:00, 57206.01it/s]\n",
      "  0%|                                                                        | 3517/4108850 [00:00<01:56, 35169.61it/s]"
     ]
    },
    {
     "name": "stdout",
     "output_type": "stream",
     "text": [
      "t =  32 loss =  1393756.8645170329\n"
     ]
    },
    {
     "name": "stderr",
     "output_type": "stream",
     "text": [
      "100%|█████████████████████████████████████████████████████████████████████| 4108850/4108850 [01:11<00:00, 57197.87it/s]\n",
      "  0%|                                                                        | 3715/4108850 [00:00<01:50, 37144.54it/s]"
     ]
    },
    {
     "name": "stdout",
     "output_type": "stream",
     "text": [
      "t =  33 loss =  1377043.028310553\n"
     ]
    },
    {
     "name": "stderr",
     "output_type": "stream",
     "text": [
      "100%|█████████████████████████████████████████████████████████████████████| 4108850/4108850 [01:11<00:00, 57327.28it/s]\n",
      "  0%|                                                                        | 3704/4108850 [00:00<01:50, 37039.86it/s]"
     ]
    },
    {
     "name": "stdout",
     "output_type": "stream",
     "text": [
      "t =  34 loss =  1360972.1218227334\n"
     ]
    },
    {
     "name": "stderr",
     "output_type": "stream",
     "text": [
      "100%|█████████████████████████████████████████████████████████████████████| 4108850/4108850 [01:11<00:00, 57145.59it/s]\n",
      "  0%|                                                                        | 3436/4108850 [00:00<01:59, 34359.30it/s]"
     ]
    },
    {
     "name": "stdout",
     "output_type": "stream",
     "text": [
      "t =  35 loss =  1345513.9802952358\n"
     ]
    },
    {
     "name": "stderr",
     "output_type": "stream",
     "text": [
      "100%|█████████████████████████████████████████████████████████████████████| 4108850/4108850 [01:13<00:00, 56065.38it/s]\n",
      "  0%|                                                                        | 3483/4108850 [00:00<01:57, 34829.78it/s]"
     ]
    },
    {
     "name": "stdout",
     "output_type": "stream",
     "text": [
      "t =  36 loss =  1330638.070809574\n"
     ]
    },
    {
     "name": "stderr",
     "output_type": "stream",
     "text": [
      "100%|█████████████████████████████████████████████████████████████████████| 4108850/4108850 [01:10<00:00, 58426.21it/s]\n",
      "  0%|                                                                        | 3103/4108850 [00:00<02:12, 31029.66it/s]"
     ]
    },
    {
     "name": "stdout",
     "output_type": "stream",
     "text": [
      "t =  37 loss =  1316314.0026797762\n"
     ]
    },
    {
     "name": "stderr",
     "output_type": "stream",
     "text": [
      "100%|█████████████████████████████████████████████████████████████████████| 4108850/4108850 [01:11<00:00, 57838.01it/s]\n",
      "  0%|                                                                        | 3416/4108850 [00:00<02:00, 34159.71it/s]"
     ]
    },
    {
     "name": "stdout",
     "output_type": "stream",
     "text": [
      "t =  38 loss =  1302511.9158726675\n"
     ]
    },
    {
     "name": "stderr",
     "output_type": "stream",
     "text": [
      "100%|█████████████████████████████████████████████████████████████████████| 4108850/4108850 [01:13<00:00, 55646.60it/s]\n",
      "  0%|                                                                        | 3685/4108850 [00:00<01:51, 36665.50it/s]"
     ]
    },
    {
     "name": "stdout",
     "output_type": "stream",
     "text": [
      "t =  39 loss =  1289202.7681838288\n"
     ]
    },
    {
     "name": "stderr",
     "output_type": "stream",
     "text": [
      "100%|█████████████████████████████████████████████████████████████████████| 4108850/4108850 [01:10<00:00, 58575.87it/s]\n",
      "  0%|                                                                        | 3694/4108850 [00:00<01:51, 36939.59it/s]"
     ]
    },
    {
     "name": "stdout",
     "output_type": "stream",
     "text": [
      "t =  40 loss =  1276358.539978294\n"
     ]
    },
    {
     "name": "stderr",
     "output_type": "stream",
     "text": [
      "100%|█████████████████████████████████████████████████████████████████████| 4108850/4108850 [01:10<00:00, 58685.80it/s]\n",
      "  0%|                                                                        | 3683/4108850 [00:00<01:52, 36647.25it/s]"
     ]
    },
    {
     "name": "stdout",
     "output_type": "stream",
     "text": [
      "t =  41 loss =  1263952.3731627036\n"
     ]
    },
    {
     "name": "stderr",
     "output_type": "stream",
     "text": [
      "100%|█████████████████████████████████████████████████████████████████████| 4108850/4108850 [01:09<00:00, 58904.59it/s]\n",
      "  0%|                                                                        | 3973/4108850 [00:00<01:43, 39727.39it/s]"
     ]
    },
    {
     "name": "stdout",
     "output_type": "stream",
     "text": [
      "t =  42 loss =  1251958.658696843\n"
     ]
    },
    {
     "name": "stderr",
     "output_type": "stream",
     "text": [
      "100%|█████████████████████████████████████████████████████████████████████| 4108850/4108850 [01:10<00:00, 58134.17it/s]\n",
      "  0%|                                                                        | 3685/4108850 [00:00<01:51, 36849.51it/s]"
     ]
    },
    {
     "name": "stdout",
     "output_type": "stream",
     "text": [
      "t =  43 loss =  1240353.0844288534\n"
     ]
    },
    {
     "name": "stderr",
     "output_type": "stream",
     "text": [
      "100%|█████████████████████████████████████████████████████████████████████| 4108850/4108850 [01:08<00:00, 59588.46it/s]\n",
      "  0%|                                                                        | 3778/4108850 [00:00<01:48, 37779.59it/s]"
     ]
    },
    {
     "name": "stdout",
     "output_type": "stream",
     "text": [
      "t =  44 loss =  1229112.652651887\n"
     ]
    },
    {
     "name": "stderr",
     "output_type": "stream",
     "text": [
      "100%|█████████████████████████████████████████████████████████████████████| 4108850/4108850 [01:08<00:00, 59885.80it/s]\n",
      "  0%|                                                                        | 3948/4108850 [00:00<01:43, 39477.50it/s]"
     ]
    },
    {
     "name": "stdout",
     "output_type": "stream",
     "text": [
      "t =  45 loss =  1218215.6747149827\n"
     ]
    },
    {
     "name": "stderr",
     "output_type": "stream",
     "text": [
      "100%|█████████████████████████████████████████████████████████████████████| 4108850/4108850 [01:08<00:00, 60377.43it/s]\n",
      "  0%|                                                                        | 3409/4108850 [00:00<02:00, 34089.79it/s]"
     ]
    },
    {
     "name": "stdout",
     "output_type": "stream",
     "text": [
      "t =  46 loss =  1207641.7483875034\n"
     ]
    },
    {
     "name": "stderr",
     "output_type": "stream",
     "text": [
      "100%|█████████████████████████████████████████████████████████████████████| 4108850/4108850 [01:08<00:00, 59880.72it/s]\n",
      "  0%|                                                                        | 4130/4108850 [00:00<01:39, 41299.74it/s]"
     ]
    },
    {
     "name": "stdout",
     "output_type": "stream",
     "text": [
      "t =  47 loss =  1197371.7224744342\n"
     ]
    },
    {
     "name": "stderr",
     "output_type": "stream",
     "text": [
      "100%|█████████████████████████████████████████████████████████████████████| 4108850/4108850 [01:08<00:00, 60406.61it/s]\n",
      "  0%|                                                                        | 3745/4108850 [00:00<01:50, 37263.73it/s]"
     ]
    },
    {
     "name": "stdout",
     "output_type": "stream",
     "text": [
      "t =  48 loss =  1187387.6522764557\n"
     ]
    },
    {
     "name": "stderr",
     "output_type": "stream",
     "text": [
      "100%|█████████████████████████████████████████████████████████████████████| 4108850/4108850 [01:07<00:00, 60741.59it/s]\n",
      "  0%|                                                                        | 3662/4108850 [00:00<01:52, 36619.77it/s]"
     ]
    },
    {
     "name": "stdout",
     "output_type": "stream",
     "text": [
      "t =  49 loss =  1177672.748813446\n"
     ]
    },
    {
     "name": "stderr",
     "output_type": "stream",
     "text": [
      "100%|█████████████████████████████████████████████████████████████████████| 4108850/4108850 [01:07<00:00, 60433.41it/s]\n",
      "  0%|                                                                        | 3364/4108850 [00:00<02:02, 33472.84it/s]"
     ]
    },
    {
     "name": "stdout",
     "output_type": "stream",
     "text": [
      "t =  50 loss =  1168211.3241358842\n"
     ]
    },
    {
     "name": "stderr",
     "output_type": "stream",
     "text": [
      "100%|█████████████████████████████████████████████████████████████████████| 4108850/4108850 [01:08<00:00, 60052.11it/s]\n",
      "  0%|                                                                        | 3809/4108850 [00:00<01:47, 38089.95it/s]"
     ]
    },
    {
     "name": "stdout",
     "output_type": "stream",
     "text": [
      "t =  51 loss =  1158988.7345039747\n"
     ]
    },
    {
     "name": "stderr",
     "output_type": "stream",
     "text": [
      "100%|█████████████████████████████████████████████████████████████████████| 4108850/4108850 [01:09<00:00, 59279.29it/s]\n",
      "  0%|                                                                        | 4013/4108850 [00:00<01:42, 39930.68it/s]"
     ]
    },
    {
     "name": "stdout",
     "output_type": "stream",
     "text": [
      "t =  52 loss =  1149991.3227144068\n"
     ]
    },
    {
     "name": "stderr",
     "output_type": "stream",
     "text": [
      "100%|█████████████████████████████████████████████████████████████████████| 4108850/4108850 [01:08<00:00, 60290.81it/s]\n",
      "  0%|                                                                        | 4083/4108850 [00:00<01:40, 40829.36it/s]"
     ]
    },
    {
     "name": "stdout",
     "output_type": "stream",
     "text": [
      "t =  53 loss =  1141206.3604337245\n"
     ]
    },
    {
     "name": "stderr",
     "output_type": "stream",
     "text": [
      "100%|█████████████████████████████████████████████████████████████████████| 4108850/4108850 [01:08<00:00, 60202.04it/s]\n",
      "  0%|                                                                        | 4002/4108850 [00:00<01:42, 40019.47it/s]"
     ]
    },
    {
     "name": "stdout",
     "output_type": "stream",
     "text": [
      "t =  54 loss =  1132621.991143906\n"
     ]
    },
    {
     "name": "stderr",
     "output_type": "stream",
     "text": [
      "100%|█████████████████████████████████████████████████████████████████████| 4108850/4108850 [01:08<00:00, 60133.19it/s]\n",
      "  0%|                                                                        | 3945/4108850 [00:00<01:44, 39253.88it/s]"
     ]
    },
    {
     "name": "stdout",
     "output_type": "stream",
     "text": [
      "t =  55 loss =  1124227.1741588856\n"
     ]
    },
    {
     "name": "stderr",
     "output_type": "stream",
     "text": [
      "100%|█████████████████████████████████████████████████████████████████████| 4108850/4108850 [00:58<00:00, 69641.60it/s]\n",
      "  0%|                                                                        | 5523/4108850 [00:00<01:14, 54955.56it/s]"
     ]
    },
    {
     "name": "stdout",
     "output_type": "stream",
     "text": [
      "t =  56 loss =  1116011.6302007441\n"
     ]
    },
    {
     "name": "stderr",
     "output_type": "stream",
     "text": [
      "100%|█████████████████████████████████████████████████████████████████████| 4108850/4108850 [00:59<00:00, 68736.64it/s]\n",
      "  0%|                                                                        | 3899/4108850 [00:00<01:45, 38796.44it/s]"
     ]
    },
    {
     "name": "stdout",
     "output_type": "stream",
     "text": [
      "t =  57 loss =  1107965.7890680823\n"
     ]
    },
    {
     "name": "stderr",
     "output_type": "stream",
     "text": [
      "100%|█████████████████████████████████████████████████████████████████████| 4108850/4108850 [01:07<00:00, 61185.06it/s]\n",
      "  0%|                                                                        | 3598/4108850 [00:00<01:54, 35801.13it/s]"
     ]
    },
    {
     "name": "stdout",
     "output_type": "stream",
     "text": [
      "t =  58 loss =  1100080.7399246658\n"
     ]
    },
    {
     "name": "stderr",
     "output_type": "stream",
     "text": [
      "100%|█████████████████████████████████████████████████████████████████████| 4108850/4108850 [01:10<00:00, 58116.31it/s]\n",
      "  0%|                                                                        | 3419/4108850 [00:00<02:00, 34189.79it/s]"
     ]
    },
    {
     "name": "stdout",
     "output_type": "stream",
     "text": [
      "t =  59 loss =  1092348.1846371472\n"
     ]
    },
    {
     "name": "stderr",
     "output_type": "stream",
     "text": [
      "100%|█████████████████████████████████████████████████████████████████████| 4108850/4108850 [01:12<00:00, 56609.18it/s]\n",
      "  0%|                                                                        | 3684/4108850 [00:00<01:51, 36839.51it/s]"
     ]
    },
    {
     "name": "stdout",
     "output_type": "stream",
     "text": [
      "t =  60 loss =  1084760.3943881593\n"
     ]
    },
    {
     "name": "stderr",
     "output_type": "stream",
     "text": [
      "100%|█████████████████████████████████████████████████████████████████████| 4108850/4108850 [01:11<00:00, 57866.75it/s]\n",
      "  0%|                                                                        | 2550/4108850 [00:00<02:41, 25373.23it/s]"
     ]
    },
    {
     "name": "stdout",
     "output_type": "stream",
     "text": [
      "t =  61 loss =  1077310.169531838\n"
     ]
    },
    {
     "name": "stderr",
     "output_type": "stream",
     "text": [
      "100%|█████████████████████████████████████████████████████████████████████| 4108850/4108850 [01:12<00:00, 56686.21it/s]\n",
      "  0%|                                                                        | 3868/4108850 [00:00<01:46, 38679.30it/s]"
     ]
    },
    {
     "name": "stdout",
     "output_type": "stream",
     "text": [
      "t =  62 loss =  1069990.8024763283\n"
     ]
    },
    {
     "name": "stderr",
     "output_type": "stream",
     "text": [
      "100%|█████████████████████████████████████████████████████████████████████| 4108850/4108850 [01:11<00:00, 57190.24it/s]\n",
      "  0%|                                                                        | 3777/4108850 [00:00<01:48, 37769.68it/s]"
     ]
    },
    {
     "name": "stdout",
     "output_type": "stream",
     "text": [
      "t =  63 loss =  1062796.0432385271\n"
     ]
    },
    {
     "name": "stderr",
     "output_type": "stream",
     "text": [
      "100%|█████████████████████████████████████████████████████████████████████| 4108850/4108850 [01:11<00:00, 57372.06it/s]\n",
      "  0%|                                                                        | 3567/4108850 [00:00<01:55, 35669.61it/s]"
     ]
    },
    {
     "name": "stdout",
     "output_type": "stream",
     "text": [
      "t =  64 loss =  1055720.0673287571\n"
     ]
    },
    {
     "name": "stderr",
     "output_type": "stream",
     "text": [
      "100%|█████████████████████████████████████████████████████████████████████| 4108850/4108850 [01:54<00:00, 35962.65it/s]\n",
      "  0%|                                                                        | 2066/4108850 [00:00<03:18, 20659.72it/s]"
     ]
    },
    {
     "name": "stdout",
     "output_type": "stream",
     "text": [
      "t =  65 loss =  1048757.4456670142\n"
     ]
    },
    {
     "name": "stderr",
     "output_type": "stream",
     "text": [
      "100%|█████████████████████████████████████████████████████████████████████| 4108850/4108850 [01:16<00:00, 53479.08it/s]\n",
      "  0%|                                                                        | 3546/4108850 [00:00<01:55, 35459.78it/s]"
     ]
    },
    {
     "name": "stdout",
     "output_type": "stream",
     "text": [
      "t =  66 loss =  1041903.1163195125\n"
     ]
    },
    {
     "name": "stderr",
     "output_type": "stream",
     "text": [
      "100%|█████████████████████████████████████████████████████████████████████| 4108850/4108850 [01:11<00:00, 57128.25it/s]\n",
      "  0%|                                                                        | 3629/4108850 [00:00<01:53, 36289.86it/s]"
     ]
    },
    {
     "name": "stdout",
     "output_type": "stream",
     "text": [
      "t =  67 loss =  1035152.3579136711\n"
     ]
    },
    {
     "name": "stderr",
     "output_type": "stream",
     "text": [
      "100%|█████████████████████████████████████████████████████████████████████| 4108850/4108850 [01:10<00:00, 58234.43it/s]\n",
      "  0%|                                                                        | 3561/4108850 [00:00<01:55, 35609.78it/s]"
     ]
    },
    {
     "name": "stdout",
     "output_type": "stream",
     "text": [
      "t =  68 loss =  1028500.764628311\n"
     ]
    },
    {
     "name": "stderr",
     "output_type": "stream",
     "text": [
      "100%|█████████████████████████████████████████████████████████████████████| 4108850/4108850 [01:04<00:00, 63666.26it/s]\n",
      "  0%|                                                                        | 4386/4108850 [00:00<01:33, 43858.89it/s]"
     ]
    },
    {
     "name": "stdout",
     "output_type": "stream",
     "text": [
      "t =  69 loss =  1021944.2226754576\n"
     ]
    },
    {
     "name": "stderr",
     "output_type": "stream",
     "text": [
      "100%|█████████████████████████████████████████████████████████████████████| 4108850/4108850 [01:02<00:00, 65494.66it/s]\n",
      "  0%|                                                                        | 4091/4108850 [00:00<01:40, 40706.42it/s]"
     ]
    },
    {
     "name": "stdout",
     "output_type": "stream",
     "text": [
      "t =  70 loss =  1015478.8881863205\n"
     ]
    },
    {
     "name": "stderr",
     "output_type": "stream",
     "text": [
      "100%|█████████████████████████████████████████████████████████████████████| 4108850/4108850 [01:14<00:00, 55204.32it/s]\n",
      "  0%|                                                                        | 3419/4108850 [00:00<02:00, 34189.71it/s]"
     ]
    },
    {
     "name": "stdout",
     "output_type": "stream",
     "text": [
      "t =  71 loss =  1009101.1664228046\n"
     ]
    },
    {
     "name": "stderr",
     "output_type": "stream",
     "text": [
      "100%|█████████████████████████████████████████████████████████████████████| 4108850/4108850 [01:19<00:00, 51950.34it/s]\n",
      "  0%|                                                                        | 3064/4108850 [00:00<02:14, 30638.35it/s]"
     ]
    },
    {
     "name": "stdout",
     "output_type": "stream",
     "text": [
      "t =  72 loss =  1002807.6922521202\n"
     ]
    },
    {
     "name": "stderr",
     "output_type": "stream",
     "text": [
      "100%|█████████████████████████████████████████████████████████████████████| 4108850/4108850 [01:21<00:00, 50341.37it/s]\n",
      "  0%|                                                                        | 3039/4108850 [00:00<02:15, 30388.07it/s]"
     ]
    },
    {
     "name": "stdout",
     "output_type": "stream",
     "text": [
      "t =  73 loss =  996595.311844465\n"
     ]
    },
    {
     "name": "stderr",
     "output_type": "stream",
     "text": [
      "100%|█████████████████████████████████████████████████████████████████████| 4108850/4108850 [01:21<00:00, 50170.83it/s]\n",
      "  0%|                                                                        | 2951/4108850 [00:00<02:19, 29509.47it/s]"
     ]
    },
    {
     "name": "stdout",
     "output_type": "stream",
     "text": [
      "t =  74 loss =  990461.065591864\n"
     ]
    },
    {
     "name": "stderr",
     "output_type": "stream",
     "text": [
      "100%|█████████████████████████████████████████████████████████████████████| 4108850/4108850 [01:21<00:00, 50279.57it/s]\n",
      "  0%|                                                                        | 3012/4108850 [00:00<02:16, 29970.97it/s]"
     ]
    },
    {
     "name": "stdout",
     "output_type": "stream",
     "text": [
      "t =  75 loss =  984402.1722736546\n"
     ]
    },
    {
     "name": "stderr",
     "output_type": "stream",
     "text": [
      "100%|█████████████████████████████████████████████████████████████████████| 4108850/4108850 [01:23<00:00, 49124.14it/s]\n",
      "  0%|                                                                        | 3104/4108850 [00:00<02:12, 31039.96it/s]"
     ]
    },
    {
     "name": "stdout",
     "output_type": "stream",
     "text": [
      "t =  76 loss =  978416.0145098472\n"
     ]
    },
    {
     "name": "stderr",
     "output_type": "stream",
     "text": [
      "100%|█████████████████████████████████████████████████████████████████████| 4108850/4108850 [01:17<00:00, 53015.56it/s]\n",
      "  0%|                                                                        | 3702/4108850 [00:00<01:51, 36835.78it/s]"
     ]
    },
    {
     "name": "stdout",
     "output_type": "stream",
     "text": [
      "t =  77 loss =  972500.1255485646\n"
     ]
    },
    {
     "name": "stderr",
     "output_type": "stream",
     "text": [
      "100%|█████████████████████████████████████████████████████████████████████| 4108850/4108850 [01:13<00:00, 55990.56it/s]\n",
      "  0%|                                                                        | 3354/4108850 [00:00<02:02, 33539.55it/s]"
     ]
    },
    {
     "name": "stdout",
     "output_type": "stream",
     "text": [
      "t =  78 loss =  966652.1774031798\n"
     ]
    },
    {
     "name": "stderr",
     "output_type": "stream",
     "text": [
      "100%|█████████████████████████████████████████████████████████████████████| 4108850/4108850 [01:13<00:00, 55928.53it/s]\n",
      "  0%|                                                                        | 3473/4108850 [00:00<01:58, 34729.45it/s]"
     ]
    },
    {
     "name": "stdout",
     "output_type": "stream",
     "text": [
      "t =  79 loss =  960869.970319639\n"
     ]
    },
    {
     "name": "stderr",
     "output_type": "stream",
     "text": [
      "100%|█████████████████████████████████████████████████████████████████████| 4108850/4108850 [01:13<00:00, 56237.01it/s]\n",
      "  0%|                                                                        | 3469/4108850 [00:00<01:58, 34517.46it/s]"
     ]
    },
    {
     "name": "stdout",
     "output_type": "stream",
     "text": [
      "t =  80 loss =  955151.4234995086\n"
     ]
    },
    {
     "name": "stderr",
     "output_type": "stream",
     "text": [
      "100%|█████████████████████████████████████████████████████████████████████| 4108850/4108850 [01:12<00:00, 56479.16it/s]\n",
      "  0%|                                                                        | 3422/4108850 [00:00<01:59, 34219.87it/s]"
     ]
    },
    {
     "name": "stdout",
     "output_type": "stream",
     "text": [
      "t =  81 loss =  949494.5669604001\n"
     ]
    },
    {
     "name": "stderr",
     "output_type": "stream",
     "text": [
      "100%|█████████████████████████████████████████████████████████████████████| 4108850/4108850 [01:11<00:00, 57629.20it/s]\n",
      "  0%|                                                                        | 3766/4108850 [00:00<01:49, 37472.77it/s]"
     ]
    },
    {
     "name": "stdout",
     "output_type": "stream",
     "text": [
      "t =  82 loss =  943897.5343784889\n"
     ]
    },
    {
     "name": "stderr",
     "output_type": "stream",
     "text": [
      "100%|█████████████████████████████████████████████████████████████████████| 4108850/4108850 [01:10<00:00, 58148.72it/s]\n",
      "  0%|                                                                        | 3741/4108850 [00:00<01:50, 37222.78it/s]"
     ]
    },
    {
     "name": "stdout",
     "output_type": "stream",
     "text": [
      "t =  83 loss =  938358.5567521297\n"
     ]
    },
    {
     "name": "stderr",
     "output_type": "stream",
     "text": [
      "100%|█████████████████████████████████████████████████████████████████████| 4108850/4108850 [01:11<00:00, 57664.68it/s]\n",
      "  0%|                                                                        | 3505/4108850 [00:00<01:57, 35049.95it/s]"
     ]
    },
    {
     "name": "stdout",
     "output_type": "stream",
     "text": [
      "t =  84 loss =  932875.956727271\n"
     ]
    },
    {
     "name": "stderr",
     "output_type": "stream",
     "text": [
      "100%|█████████████████████████████████████████████████████████████████████| 4108850/4108850 [01:11<00:00, 57195.57it/s]\n",
      "  0%|                                                                        | 3609/4108850 [00:00<01:53, 36088.14it/s]"
     ]
    },
    {
     "name": "stdout",
     "output_type": "stream",
     "text": [
      "t =  85 loss =  927448.1434430243\n"
     ]
    },
    {
     "name": "stderr",
     "output_type": "stream",
     "text": [
      "100%|█████████████████████████████████████████████████████████████████████| 4108850/4108850 [01:13<00:00, 55560.95it/s]\n",
      "  0%|                                                                        | 3184/4108850 [00:00<02:09, 31682.46it/s]"
     ]
    },
    {
     "name": "stdout",
     "output_type": "stream",
     "text": [
      "t =  86 loss =  922073.6077888674\n"
     ]
    },
    {
     "name": "stderr",
     "output_type": "stream",
     "text": [
      "100%|█████████████████████████████████████████████████████████████████████| 4108850/4108850 [01:11<00:00, 57577.66it/s]\n",
      "  0%|                                                                        | 3528/4108850 [00:00<01:56, 35104.86it/s]"
     ]
    },
    {
     "name": "stdout",
     "output_type": "stream",
     "text": [
      "t =  87 loss =  916750.917976437\n"
     ]
    },
    {
     "name": "stderr",
     "output_type": "stream",
     "text": [
      "100%|█████████████████████████████████████████████████████████████████████| 4108850/4108850 [01:11<00:00, 57328.78it/s]\n",
      "  0%|                                                                        | 3648/4108850 [00:00<01:52, 36479.86it/s]"
     ]
    },
    {
     "name": "stdout",
     "output_type": "stream",
     "text": [
      "t =  88 loss =  911478.7153612773\n"
     ]
    },
    {
     "name": "stderr",
     "output_type": "stream",
     "text": [
      "100%|█████████████████████████████████████████████████████████████████████| 4108850/4108850 [01:11<00:00, 57190.83it/s]\n",
      "  0%|                                                                        | 3445/4108850 [00:00<01:59, 34278.98it/s]"
     ]
    },
    {
     "name": "stdout",
     "output_type": "stream",
     "text": [
      "t =  89 loss =  906255.7104569981\n"
     ]
    },
    {
     "name": "stderr",
     "output_type": "stream",
     "text": [
      "100%|█████████████████████████████████████████████████████████████████████| 4108850/4108850 [01:13<00:00, 55753.65it/s]\n",
      "  0%|                                                                        | 3610/4108850 [00:00<01:54, 35920.62it/s]"
     ]
    },
    {
     "name": "stdout",
     "output_type": "stream",
     "text": [
      "t =  90 loss =  901080.679106598\n"
     ]
    },
    {
     "name": "stderr",
     "output_type": "stream",
     "text": [
      "100%|█████████████████████████████████████████████████████████████████████| 4108850/4108850 [01:11<00:00, 57832.15it/s]\n",
      "  0%|                                                                        | 3540/4108850 [00:00<01:55, 35397.33it/s]"
     ]
    },
    {
     "name": "stdout",
     "output_type": "stream",
     "text": [
      "t =  91 loss =  895952.458781556\n"
     ]
    },
    {
     "name": "stderr",
     "output_type": "stream",
     "text": [
      "100%|█████████████████████████████████████████████████████████████████████| 4108850/4108850 [01:12<00:00, 56751.84it/s]\n",
      "  0%|                                                                        | 3509/4108850 [00:00<01:57, 34919.11it/s]"
     ]
    },
    {
     "name": "stdout",
     "output_type": "stream",
     "text": [
      "t =  92 loss =  890869.944994493\n"
     ]
    },
    {
     "name": "stderr",
     "output_type": "stream",
     "text": [
      "100%|█████████████████████████████████████████████████████████████████████| 4108850/4108850 [01:11<00:00, 57727.99it/s]\n",
      "  0%|                                                                        | 3558/4108850 [00:00<01:55, 35579.86it/s]"
     ]
    },
    {
     "name": "stdout",
     "output_type": "stream",
     "text": [
      "t =  93 loss =  885832.087824055\n"
     ]
    },
    {
     "name": "stderr",
     "output_type": "stream",
     "text": [
      "100%|█████████████████████████████████████████████████████████████████████| 4108850/4108850 [01:46<00:00, 38552.96it/s]\n",
      "  0%|                                                                        | 2474/4108850 [00:00<02:45, 24739.85it/s]"
     ]
    },
    {
     "name": "stdout",
     "output_type": "stream",
     "text": [
      "t =  94 loss =  880837.8885535954\n"
     ]
    },
    {
     "name": "stderr",
     "output_type": "stream",
     "text": [
      "100%|█████████████████████████████████████████████████████████████████████| 4108850/4108850 [01:17<00:00, 53310.50it/s]\n",
      "  0%|                                                                        | 3573/4108850 [00:00<01:55, 35553.97it/s]"
     ]
    },
    {
     "name": "stdout",
     "output_type": "stream",
     "text": [
      "t =  95 loss =  875886.3964347212\n"
     ]
    },
    {
     "name": "stderr",
     "output_type": "stream",
     "text": [
      "100%|█████████████████████████████████████████████████████████████████████| 4108850/4108850 [01:10<00:00, 58605.53it/s]\n",
      "  0%|                                                                        | 3742/4108850 [00:00<01:50, 37233.97it/s]"
     ]
    },
    {
     "name": "stdout",
     "output_type": "stream",
     "text": [
      "t =  96 loss =  870976.7055996086\n"
     ]
    },
    {
     "name": "stderr",
     "output_type": "stream",
     "text": [
      "100%|█████████████████████████████████████████████████████████████████████| 4108850/4108850 [01:07<00:00, 60649.34it/s]\n",
      "  0%|                                                                        | 3553/4108850 [00:00<01:55, 35529.10it/s]"
     ]
    },
    {
     "name": "stdout",
     "output_type": "stream",
     "text": [
      "t =  97 loss =  866107.9521324291\n"
     ]
    },
    {
     "name": "stderr",
     "output_type": "stream",
     "text": [
      "100%|█████████████████████████████████████████████████████████████████████| 4108850/4108850 [01:04<00:00, 63260.84it/s]\n",
      "  0%|                                                                        | 5098/4108850 [00:00<01:20, 50727.40it/s]"
     ]
    },
    {
     "name": "stdout",
     "output_type": "stream",
     "text": [
      "t =  98 loss =  861279.3113233651\n"
     ]
    },
    {
     "name": "stderr",
     "output_type": "stream",
     "text": [
      "100%|█████████████████████████████████████████████████████████████████████| 4108850/4108850 [00:57<00:00, 70847.92it/s]"
     ]
    },
    {
     "name": "stdout",
     "output_type": "stream",
     "text": [
      "t =  99 loss =  856489.9951168434\n"
     ]
    },
    {
     "name": "stderr",
     "output_type": "stream",
     "text": [
      "\n"
     ]
    }
   ],
   "source": [
    "df_R = df_train_sessions.copy()\n",
    "df_R.drop_duplicates(subset = [\"session_id\", \"item_id\"], inplace = True) # 重複があるため削除，個々の処理は要検討\n",
    "df_R[\"eval\"] = 1 # 何も考えず，1を入れる\n",
    "\n",
    "model = matrix_factorization(df_R, df_item_features, k_dim = 30, lambda_p = 0.1)\n",
    "\n",
    "# 事前に値を用意している場合は，こちらを利用する．\n",
    "# path_data_temp = r'C:\\Users\\yota-\\Desktop\\study\\mystudy\\recsys\\dressipi_recsys2022\\data\\temp'\n",
    "# model.df_P = pd.read_csv(path_data_temp + r\"\\df_P_matrix_factorization.csv\")\n",
    "# model.df_Q = pd.read_csv(path_data_temp + r\"\\df_Q_matrix_factorization.csv\")\n",
    "\n",
    "model.update(alpha = 0.025, num_iteration = 100)"
   ]
  },
  {
   "cell_type": "markdown",
   "metadata": {},
   "source": [
    "損失関数をプロット．徐々に損失関数が減少し，学習がうまくいっていることがわかる．"
   ]
  },
  {
   "cell_type": "code",
   "execution_count": 24,
   "metadata": {},
   "outputs": [
    {
     "data": {
      "text/plain": [
       "[<matplotlib.lines.Line2D at 0x1d590553bb0>]"
      ]
     },
     "execution_count": 24,
     "metadata": {},
     "output_type": "execute_result"
    },
    {
     "data": {
      "image/png": "[encoded data removed]",
      "text/plain": [
       "<Figure size 432x288 with 1 Axes>"
      ]
     },
     "metadata": {},
     "output_type": "display_data"
    }
   ],
   "source": [
    "plt.plot(range(len(model.loss_list)), model.loss_list)"
   ]
  },
  {
   "cell_type": "markdown",
   "metadata": {},
   "source": [
    "`submit`用のデータ作成．簡単なモデルを利用する．"
   ]
  },
  {
   "cell_type": "code",
   "execution_count": 151,
   "metadata": {},
   "outputs": [
    {
     "name": "stdout",
     "output_type": "stream",
     "text": [
      "経過時間(実績)　= 0:07:22.354360 49901 / 50000 (99.80%)\n",
      "\n"
     ]
    }
   ],
   "source": [
    "path_submit = r'C:\\Users\\yota-\\Desktop\\study\\mystudy\\recsys\\dressipi_recsys2022\\submits'\n",
    "df_submit.to_csv(path_submit + r\"\\matrix_factorization.csv\", index = False)\n",
    "df_submit"
   ]
  },
  {
   "cell_type": "markdown",
   "metadata": {},
   "source": [
    "今回の学習の結果を保存する(もう一度計算を回すのは面倒なため)"
   ]
  },
  {
   "cell_type": "code",
   "execution_count": 43,
   "metadata": {},
   "outputs": [],
   "source": [
    "path_data_temp = r'C:\\Users\\yota-\\Desktop\\study\\mystudy\\recsys\\dressipi_recsys2022\\data\\temp'\n",
    "model.df_P.to_pickle(path_data_temp + r'\\df_P_matrix_factorization_k30.pkl')\n",
    "model.df_Q.to_pickle(path_data_temp + r'\\df_Q_matrix_factorization_k30.pkl')"
   ]
  },
  {
   "cell_type": "code",
   "execution_count": 41,
   "metadata": {},
   "outputs": [],
   "source": [
    "# 事前に値を用意している場合は，こちらを利用する．\n",
    "model.df_P = pd.read_pickle(path_data_temp + r\"\\df_P_matrix_factorization_k30.pkl\")\n",
    "model.df_Q = pd.read_pickle(path_data_temp + r\"\\df_Q_matrix_factorization_k30.pkl\")"
   ]
  },
  {
   "cell_type": "code",
   "execution_count": 42,
   "metadata": {
    "scrolled": false
   },
   "outputs": [
    {
     "name": "stderr",
     "output_type": "stream",
     "text": [
      "100%|█████████████████████████████████████████████████████████████████████| 4108850/4108850 [01:09<00:00, 58913.24it/s]\n",
      "  0%|                                                                        | 2845/4108850 [00:00<02:24, 28449.96it/s]"
     ]
    },
    {
     "name": "stdout",
     "output_type": "stream",
     "text": [
      "t =  0 loss =  833369.7344713117\n"
     ]
    },
    {
     "name": "stderr",
     "output_type": "stream",
     "text": [
      "100%|█████████████████████████████████████████████████████████████████████| 4108850/4108850 [01:11<00:00, 57497.47it/s]\n",
      "  0%|                                                                        | 2869/4108850 [00:00<02:23, 28689.48it/s]"
     ]
    },
    {
     "name": "stdout",
     "output_type": "stream",
     "text": [
      "t =  1 loss =  833543.5017797983\n"
     ]
    },
    {
     "name": "stderr",
     "output_type": "stream",
     "text": [
      "100%|█████████████████████████████████████████████████████████████████████| 4108850/4108850 [01:09<00:00, 59444.48it/s]\n",
      "  0%|                                                                        | 2790/4108850 [00:00<02:27, 27899.96it/s]"
     ]
    },
    {
     "name": "stdout",
     "output_type": "stream",
     "text": [
      "t =  2 loss =  828708.4726878987\n"
     ]
    },
    {
     "name": "stderr",
     "output_type": "stream",
     "text": [
      "100%|█████████████████████████████████████████████████████████████████████| 4108850/4108850 [01:10<00:00, 58605.55it/s]\n",
      "  0%|                                                                        | 3411/4108850 [00:00<02:00, 33940.83it/s]"
     ]
    },
    {
     "name": "stdout",
     "output_type": "stream",
     "text": [
      "t =  3 loss =  819673.8928399828\n"
     ]
    },
    {
     "name": "stderr",
     "output_type": "stream",
     "text": [
      "100%|█████████████████████████████████████████████████████████████████████| 4108850/4108850 [01:02<00:00, 65391.06it/s]\n",
      "  0%|                                                                        | 4926/4108850 [00:00<01:23, 49259.81it/s]"
     ]
    },
    {
     "name": "stdout",
     "output_type": "stream",
     "text": [
      "t =  4 loss =  809687.6684766229\n"
     ]
    },
    {
     "name": "stderr",
     "output_type": "stream",
     "text": [
      "100%|█████████████████████████████████████████████████████████████████████| 4108850/4108850 [01:05<00:00, 62964.95it/s]\n",
      "  0%|                                                                        | 3523/4108850 [00:00<01:56, 35226.59it/s]"
     ]
    },
    {
     "name": "stdout",
     "output_type": "stream",
     "text": [
      "t =  5 loss =  799817.223418323\n"
     ]
    },
    {
     "name": "stderr",
     "output_type": "stream",
     "text": [
      "100%|█████████████████████████████████████████████████████████████████████| 4108850/4108850 [01:18<00:00, 52033.28it/s]\n",
      "  0%|                                                                        | 2440/4108850 [00:00<02:48, 24399.79it/s]"
     ]
    },
    {
     "name": "stdout",
     "output_type": "stream",
     "text": [
      "t =  6 loss =  790324.0483031558\n"
     ]
    },
    {
     "name": "stderr",
     "output_type": "stream",
     "text": [
      "100%|█████████████████████████████████████████████████████████████████████| 4108850/4108850 [01:24<00:00, 48523.52it/s]\n",
      "  0%|                                                                        | 3022/4108850 [00:00<02:15, 30219.52it/s]"
     ]
    },
    {
     "name": "stdout",
     "output_type": "stream",
     "text": [
      "t =  7 loss =  781204.0920576731\n"
     ]
    },
    {
     "name": "stderr",
     "output_type": "stream",
     "text": [
      "100%|█████████████████████████████████████████████████████████████████████| 4108850/4108850 [01:22<00:00, 49898.79it/s]\n",
      "  0%|                                                                        | 3197/4108850 [00:00<02:08, 31968.66it/s]"
     ]
    },
    {
     "name": "stdout",
     "output_type": "stream",
     "text": [
      "t =  8 loss =  772402.2374873767\n"
     ]
    },
    {
     "name": "stderr",
     "output_type": "stream",
     "text": [
      "100%|█████████████████████████████████████████████████████████████████████| 4108850/4108850 [01:22<00:00, 49733.84it/s]\n",
      "  0%|                                                                        | 2727/4108850 [00:00<02:30, 27269.70it/s]"
     ]
    },
    {
     "name": "stdout",
     "output_type": "stream",
     "text": [
      "t =  9 loss =  763861.6057302599\n"
     ]
    },
    {
     "name": "stderr",
     "output_type": "stream",
     "text": [
      "100%|█████████████████████████████████████████████████████████████████████| 4108850/4108850 [01:24<00:00, 48647.31it/s]\n",
      "  0%|                                                                        | 2556/4108850 [00:00<02:40, 25559.96it/s]"
     ]
    },
    {
     "name": "stdout",
     "output_type": "stream",
     "text": [
      "t =  10 loss =  755546.3732773173\n"
     ]
    },
    {
     "name": "stderr",
     "output_type": "stream",
     "text": [
      "100%|█████████████████████████████████████████████████████████████████████| 4108850/4108850 [01:23<00:00, 49189.57it/s]\n",
      "  0%|                                                                        | 2483/4108850 [00:00<02:45, 24829.55it/s]"
     ]
    },
    {
     "name": "stdout",
     "output_type": "stream",
     "text": [
      "t =  11 loss =  747425.6164701172\n"
     ]
    },
    {
     "name": "stderr",
     "output_type": "stream",
     "text": [
      "100%|█████████████████████████████████████████████████████████████████████| 4108850/4108850 [01:17<00:00, 53092.48it/s]\n",
      "  0%|                                                                        | 3067/4108850 [00:00<02:13, 30669.08it/s]"
     ]
    },
    {
     "name": "stdout",
     "output_type": "stream",
     "text": [
      "t =  12 loss =  739474.959008702\n"
     ]
    },
    {
     "name": "stderr",
     "output_type": "stream",
     "text": [
      "100%|█████████████████████████████████████████████████████████████████████| 4108850/4108850 [01:18<00:00, 52324.79it/s]\n",
      "  0%|                                                                        | 3692/4108850 [00:00<01:51, 36919.68it/s]"
     ]
    },
    {
     "name": "stdout",
     "output_type": "stream",
     "text": [
      "t =  13 loss =  731675.3096094765\n"
     ]
    },
    {
     "name": "stderr",
     "output_type": "stream",
     "text": [
      "100%|█████████████████████████████████████████████████████████████████████| 4108850/4108850 [01:52<00:00, 36667.31it/s]\n",
      "  0%|                                                                                      | 0/4108850 [00:00<?, ?it/s]"
     ]
    },
    {
     "name": "stdout",
     "output_type": "stream",
     "text": [
      "t =  14 loss =  724011.9452117633\n"
     ]
    },
    {
     "name": "stderr",
     "output_type": "stream",
     "text": [
      "100%|█████████████████████████████████████████████████████████████████████| 4108850/4108850 [01:26<00:00, 47597.73it/s]\n",
      "  0%|                                                                        | 2603/4108850 [00:00<02:37, 26029.90it/s]"
     ]
    },
    {
     "name": "stdout",
     "output_type": "stream",
     "text": [
      "t =  15 loss =  716473.4089602167\n"
     ]
    },
    {
     "name": "stderr",
     "output_type": "stream",
     "text": [
      "100%|█████████████████████████████████████████████████████████████████████| 4108850/4108850 [01:13<00:00, 56203.99it/s]\n",
      "  0%|                                                                        | 3487/4108850 [00:00<01:57, 34869.95it/s]"
     ]
    },
    {
     "name": "stdout",
     "output_type": "stream",
     "text": [
      "t =  16 loss =  709050.6481709585\n"
     ]
    },
    {
     "name": "stderr",
     "output_type": "stream",
     "text": [
      "100%|█████████████████████████████████████████████████████████████████████| 4108850/4108850 [01:12<00:00, 56879.67it/s]\n",
      "  0%|                                                                        | 3549/4108850 [00:00<01:56, 35314.23it/s]"
     ]
    },
    {
     "name": "stdout",
     "output_type": "stream",
     "text": [
      "t =  17 loss =  701736.3842018787\n"
     ]
    },
    {
     "name": "stderr",
     "output_type": "stream",
     "text": [
      "100%|█████████████████████████████████████████████████████████████████████| 4108850/4108850 [01:12<00:00, 56358.28it/s]\n",
      "  0%|                                                                        | 3348/4108850 [00:00<02:02, 33479.71it/s]"
     ]
    },
    {
     "name": "stdout",
     "output_type": "stream",
     "text": [
      "t =  18 loss =  694524.6586757796\n"
     ]
    },
    {
     "name": "stderr",
     "output_type": "stream",
     "text": [
      "100%|█████████████████████████████████████████████████████████████████████| 4108850/4108850 [01:09<00:00, 59155.19it/s]\n",
      "  0%|                                                                        | 2492/4108850 [00:00<02:45, 24796.05it/s]"
     ]
    },
    {
     "name": "stdout",
     "output_type": "stream",
     "text": [
      "t =  19 loss =  687410.5074164011\n"
     ]
    },
    {
     "name": "stderr",
     "output_type": "stream",
     "text": [
      "100%|█████████████████████████████████████████████████████████████████████| 4108850/4108850 [01:11<00:00, 57674.23it/s]\n",
      "  0%|                                                                        | 3382/4108850 [00:00<02:01, 33819.63it/s]"
     ]
    },
    {
     "name": "stdout",
     "output_type": "stream",
     "text": [
      "t =  20 loss =  680389.7267504731\n"
     ]
    },
    {
     "name": "stderr",
     "output_type": "stream",
     "text": [
      "100%|█████████████████████████████████████████████████████████████████████| 4108850/4108850 [01:04<00:00, 64169.50it/s]\n",
      "  0%|                                                                        | 3964/4108850 [00:00<01:43, 39639.75it/s]"
     ]
    },
    {
     "name": "stdout",
     "output_type": "stream",
     "text": [
      "t =  21 loss =  673458.7059547943\n"
     ]
    },
    {
     "name": "stderr",
     "output_type": "stream",
     "text": [
      "100%|█████████████████████████████████████████████████████████████████████| 4108850/4108850 [01:03<00:00, 64592.69it/s]\n",
      "  0%|                                                                        | 3400/4108850 [00:00<02:00, 33999.38it/s]"
     ]
    },
    {
     "name": "stdout",
     "output_type": "stream",
     "text": [
      "t =  22 loss =  666614.3060548261\n"
     ]
    },
    {
     "name": "stderr",
     "output_type": "stream",
     "text": [
      "100%|█████████████████████████████████████████████████████████████████████| 4108850/4108850 [01:17<00:00, 52751.78it/s]\n",
      "  0%|                                                                        | 2387/4108850 [00:00<02:52, 23869.85it/s]"
     ]
    },
    {
     "name": "stdout",
     "output_type": "stream",
     "text": [
      "t =  23 loss =  659853.7704669164\n"
     ]
    },
    {
     "name": "stderr",
     "output_type": "stream",
     "text": [
      "100%|█████████████████████████████████████████████████████████████████████| 4108850/4108850 [01:22<00:00, 49700.13it/s]\n",
      "  0%|                                                                        | 2692/4108850 [00:00<02:32, 26917.52it/s]"
     ]
    },
    {
     "name": "stdout",
     "output_type": "stream",
     "text": [
      "t =  24 loss =  653174.6573019857\n"
     ]
    },
    {
     "name": "stderr",
     "output_type": "stream",
     "text": [
      "100%|█████████████████████████████████████████████████████████████████████| 4108850/4108850 [01:21<00:00, 50158.05it/s]\n",
      "  0%|                                                                        | 2287/4108850 [00:00<02:59, 22869.80it/s]"
     ]
    },
    {
     "name": "stdout",
     "output_type": "stream",
     "text": [
      "t =  25 loss =  646574.7863968728\n"
     ]
    },
    {
     "name": "stderr",
     "output_type": "stream",
     "text": [
      "100%|█████████████████████████████████████████████████████████████████████| 4108850/4108850 [02:04<00:00, 32969.75it/s]\n",
      "  0%|                                                                        | 2042/4108850 [00:00<03:21, 20419.82it/s]"
     ]
    },
    {
     "name": "stdout",
     "output_type": "stream",
     "text": [
      "t =  26 loss =  640052.1964593226\n"
     ]
    },
    {
     "name": "stderr",
     "output_type": "stream",
     "text": [
      "100%|█████████████████████████████████████████████████████████████████████| 4108850/4108850 [01:20<00:00, 51264.12it/s]\n",
      "  0%|                                                                        | 2592/4108850 [00:00<02:38, 25919.41it/s]"
     ]
    },
    {
     "name": "stdout",
     "output_type": "stream",
     "text": [
      "t =  27 loss =  633605.1094411598\n"
     ]
    },
    {
     "name": "stderr",
     "output_type": "stream",
     "text": [
      "100%|█████████████████████████████████████████████████████████████████████| 4108850/4108850 [01:13<00:00, 55768.66it/s]\n",
      "  0%|                                                                        | 3294/4108850 [00:00<02:04, 32939.56it/s]"
     ]
    },
    {
     "name": "stdout",
     "output_type": "stream",
     "text": [
      "t =  28 loss =  627231.9005197991\n"
     ]
    },
    {
     "name": "stderr",
     "output_type": "stream",
     "text": [
      "100%|█████████████████████████████████████████████████████████████████████| 4108850/4108850 [01:13<00:00, 55762.25it/s]"
     ]
    },
    {
     "name": "stdout",
     "output_type": "stream",
     "text": [
      "t =  29 loss =  620931.0728749835\n"
     ]
    },
    {
     "name": "stderr",
     "output_type": "stream",
     "text": [
      "\n"
     ]
    }
   ],
   "source": [
    "model.update(alpha = 0.05, num_iteration = 30)"
   ]
  },
  {
   "cell_type": "code",
   "execution_count": null,
   "metadata": {},
   "outputs": [],
   "source": []
  }
 ],
 "metadata": {
  "kernelspec": {
   "display_name": "Python 3",
   "language": "python",
   "name": "python3"
  },
  "language_info": {
   "codemirror_mode": {
    "name": "ipython",
    "version": 3
   },
   "file_extension": ".py",
   "mimetype": "text/x-python",
   "name": "python",
   "nbconvert_exporter": "python",
   "pygments_lexer": "ipython3",
   "version": "3.8.5"
  }
 },
 "nbformat": 4,
 "nbformat_minor": 4
}
