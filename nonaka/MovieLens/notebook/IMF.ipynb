{
 "cells": [
  {
   "cell_type": "markdown",
   "metadata": {},
   "source": [
    "# Implicit Matrix Factorization\n",
    "MovieLensのデータを利用し，IMFを試す．"
   ]
  },
  {
   "cell_type": "markdown",
   "metadata": {},
   "source": [
    "## セットアップ\n",
    "親のフォルダのパスを追加し，モジュールをインポート"
   ]
  },
  {
   "cell_type": "code",
   "execution_count": 1,
   "metadata": {},
   "outputs": [],
   "source": [
    "# 親のフォルダのパスを追加\n",
    "import sys; sys.path.insert(0, '..')\n",
    "\n",
    "from util.data_loader import DataLoader\n",
    "from util.metric_calculator import MetricCalculator"
   ]
  },
  {
   "cell_type": "markdown",
   "metadata": {},
   "source": [
    "データの読み込み"
   ]
  },
  {
   "cell_type": "code",
   "execution_count": 2,
   "metadata": {},
   "outputs": [],
   "source": [
    "# Movielensのデータの読み込み\n",
    "data_loader = DataLoader(num_users = 1000, num_test_items = 5, data_path = '../data/ml-10M100K/')\n",
    "movielens = data_loader.load()"
   ]
  },
  {
   "cell_type": "markdown",
   "metadata": {},
   "source": [
    "テキストのコードから，`IMFRecommender`クラスを読み込む"
   ]
  },
  {
   "cell_type": "code",
   "execution_count": 3,
   "metadata": {},
   "outputs": [],
   "source": [
    "# Implicit Matrix Factorizationレコメンド\n",
    "%load_ext autoreload\n",
    "%autoreload 2\n",
    "\n",
    "from src.imf import IMFRecommender\n",
    "\n",
    "import os\n",
    "os.environ[\"MKL_NUM_THREADS\"] = \"1\"\n",
    "\n",
    "recommender = IMFRecommender()\n",
    "recommend_result = recommender.recommend(movielens)"
   ]
  },
  {
   "cell_type": "markdown",
   "metadata": {},
   "source": [
    "お試しとしてどの程度予測できているかを確認する．"
   ]
  },
  {
   "cell_type": "code",
   "execution_count": 4,
   "metadata": {},
   "outputs": [
    {
     "name": "stdout",
     "output_type": "stream",
     "text": [
      "rmse=0.000000, Precision@K=0.013492, Recall@K=0.083817\n"
     ]
    }
   ],
   "source": [
    "#  評価\n",
    "metric_calculator = MetricCalculator()\n",
    "metrics = metric_calculator.calc(\n",
    "    movielens.test.rating.tolist(), recommend_result.rating.tolist(),\n",
    "    movielens.test_user2items, recommend_result.user2items, k=20)\n",
    "print(metrics)"
   ]
  },
  {
   "cell_type": "markdown",
   "metadata": {},
   "source": [
    "# Gauss過程回帰を用いたハイパーパラメータ調整\n",
    "IMFの実装において，閲覧回数を信頼度に変換する重み$\\alpha$や正則化パラメータ$\\lambda$など，いくつかのハイパーパラメータが存在する．\n",
    "Gauss過程回帰により，ハイパーパラメータを調整する．\n",
    "\n",
    "\n",
    "いま，スコア$y$を最大化するようなハイパーパラメータ${\\bf \\theta}_*$を求めたい．\n",
    "すでに$n$個のハイパーパラメータの組$\\Theta = ({\\bf \\theta}_1^t, \\cdots, {\\bf \\theta}_n^t)$に対して，スコアが${\\bf y} = (y_1, \\cdots, y_n)^t$のように得られているものとする．\n",
    "このときGauss過程回帰によって，新しいハイパーパラメータ${\\bf \\theta}_{n+1}$に対するスコアの予測値$\\hat{y}({\\bf \\theta}_{n+1})$とその標準偏差$\\sigma({\\bf \\theta}_{n+1})$が求められる．\n",
    "\n",
    "\n",
    "獲得関数をUCB(Upper Confidence Bound)とすると，以下を最大化するように${\\bf \\theta}_{n+1}$を決めたい：\n",
    "$$\n",
    "\\alpha({\\bf \\theta}_{n+1}) = \n",
    "\\hat{y}({\\bf \\theta}_{n+1}) + \\sqrt{\\dfrac{\\log (n+1)}{n + 1} } \\sigma({\\bf \\theta}_{n+1})\n",
    "$$\n",
    "\n",
    "\n",
    "第一項はスコアが高いところを，第二項は標準偏差が大きいところ(未探索の箇所)を探索するインセンティブとなる．特に後者の効果は，$n$が小さいほど(探索が進んでいない学習の初期において)大きくなる．\n",
    "\n",
    "\n",
    "Gauss過程回帰において，$\\alpha({\\bf \\theta}_{n+1})$を最大化する${\\bf \\theta}_{n+1}$を解析的に求めることはできない．\n",
    "数値的な微分も難しい(面倒)であるため，適当に用意したハイパーパラメータの集合の中で，$\\alpha({\\bf \\theta}_{n+1})$を最大化するものを選択する．"
   ]
  },
  {
   "cell_type": "code",
   "execution_count": 34,
   "metadata": {},
   "outputs": [
    {
     "data": {
      "text/html": [
       "<div>\n",
       "<style scoped>\n",
       "    .dataframe tbody tr th:only-of-type {\n",
       "        vertical-align: middle;\n",
       "    }\n",
       "\n",
       "    .dataframe tbody tr th {\n",
       "        vertical-align: top;\n",
       "    }\n",
       "\n",
       "    .dataframe thead th {\n",
       "        text-align: right;\n",
       "    }\n",
       "</style>\n",
       "<table border=\"1\" class=\"dataframe\">\n",
       "  <thead>\n",
       "    <tr style=\"text-align: right;\">\n",
       "      <th></th>\n",
       "      <th>factors</th>\n",
       "      <th>alpha</th>\n",
       "      <th>minimum_num_rating</th>\n",
       "      <th>regularization</th>\n",
       "      <th>Precision@K</th>\n",
       "      <th>Recall@K</th>\n",
       "      <th>Score</th>\n",
       "    </tr>\n",
       "  </thead>\n",
       "  <tbody>\n",
       "    <tr>\n",
       "      <th>0</th>\n",
       "      <td>5</td>\n",
       "      <td>0.01</td>\n",
       "      <td>0</td>\n",
       "      <td>0.010000</td>\n",
       "      <td>NaN</td>\n",
       "      <td>NaN</td>\n",
       "      <td>NaN</td>\n",
       "    </tr>\n",
       "    <tr>\n",
       "      <th>1</th>\n",
       "      <td>5</td>\n",
       "      <td>0.01</td>\n",
       "      <td>0</td>\n",
       "      <td>0.016238</td>\n",
       "      <td>NaN</td>\n",
       "      <td>NaN</td>\n",
       "      <td>NaN</td>\n",
       "    </tr>\n",
       "    <tr>\n",
       "      <th>2</th>\n",
       "      <td>5</td>\n",
       "      <td>0.01</td>\n",
       "      <td>0</td>\n",
       "      <td>0.026367</td>\n",
       "      <td>NaN</td>\n",
       "      <td>NaN</td>\n",
       "      <td>NaN</td>\n",
       "    </tr>\n",
       "    <tr>\n",
       "      <th>3</th>\n",
       "      <td>5</td>\n",
       "      <td>0.01</td>\n",
       "      <td>0</td>\n",
       "      <td>0.042813</td>\n",
       "      <td>NaN</td>\n",
       "      <td>NaN</td>\n",
       "      <td>NaN</td>\n",
       "    </tr>\n",
       "    <tr>\n",
       "      <th>4</th>\n",
       "      <td>5</td>\n",
       "      <td>0.01</td>\n",
       "      <td>0</td>\n",
       "      <td>0.069519</td>\n",
       "      <td>NaN</td>\n",
       "      <td>NaN</td>\n",
       "      <td>NaN</td>\n",
       "    </tr>\n",
       "    <tr>\n",
       "      <th>...</th>\n",
       "      <td>...</td>\n",
       "      <td>...</td>\n",
       "      <td>...</td>\n",
       "      <td>...</td>\n",
       "      <td>...</td>\n",
       "      <td>...</td>\n",
       "      <td>...</td>\n",
       "    </tr>\n",
       "    <tr>\n",
       "      <th>19195</th>\n",
       "      <td>100</td>\n",
       "      <td>100.00</td>\n",
       "      <td>300</td>\n",
       "      <td>14.384499</td>\n",
       "      <td>NaN</td>\n",
       "      <td>NaN</td>\n",
       "      <td>NaN</td>\n",
       "    </tr>\n",
       "    <tr>\n",
       "      <th>19196</th>\n",
       "      <td>100</td>\n",
       "      <td>100.00</td>\n",
       "      <td>300</td>\n",
       "      <td>23.357215</td>\n",
       "      <td>NaN</td>\n",
       "      <td>NaN</td>\n",
       "      <td>NaN</td>\n",
       "    </tr>\n",
       "    <tr>\n",
       "      <th>19197</th>\n",
       "      <td>100</td>\n",
       "      <td>100.00</td>\n",
       "      <td>300</td>\n",
       "      <td>37.926902</td>\n",
       "      <td>NaN</td>\n",
       "      <td>NaN</td>\n",
       "      <td>NaN</td>\n",
       "    </tr>\n",
       "    <tr>\n",
       "      <th>19198</th>\n",
       "      <td>100</td>\n",
       "      <td>100.00</td>\n",
       "      <td>300</td>\n",
       "      <td>61.584821</td>\n",
       "      <td>NaN</td>\n",
       "      <td>NaN</td>\n",
       "      <td>NaN</td>\n",
       "    </tr>\n",
       "    <tr>\n",
       "      <th>19199</th>\n",
       "      <td>100</td>\n",
       "      <td>100.00</td>\n",
       "      <td>300</td>\n",
       "      <td>100.000000</td>\n",
       "      <td>NaN</td>\n",
       "      <td>NaN</td>\n",
       "      <td>NaN</td>\n",
       "    </tr>\n",
       "  </tbody>\n",
       "</table>\n",
       "<p>19200 rows × 7 columns</p>\n",
       "</div>"
      ],
      "text/plain": [
       "       factors   alpha  minimum_num_rating  regularization  Precision@K  \\\n",
       "0            5    0.01                   0        0.010000          NaN   \n",
       "1            5    0.01                   0        0.016238          NaN   \n",
       "2            5    0.01                   0        0.026367          NaN   \n",
       "3            5    0.01                   0        0.042813          NaN   \n",
       "4            5    0.01                   0        0.069519          NaN   \n",
       "...        ...     ...                 ...             ...          ...   \n",
       "19195      100  100.00                 300       14.384499          NaN   \n",
       "19196      100  100.00                 300       23.357215          NaN   \n",
       "19197      100  100.00                 300       37.926902          NaN   \n",
       "19198      100  100.00                 300       61.584821          NaN   \n",
       "19199      100  100.00                 300      100.000000          NaN   \n",
       "\n",
       "       Recall@K  Score  \n",
       "0           NaN    NaN  \n",
       "1           NaN    NaN  \n",
       "2           NaN    NaN  \n",
       "3           NaN    NaN  \n",
       "4           NaN    NaN  \n",
       "...         ...    ...  \n",
       "19195       NaN    NaN  \n",
       "19196       NaN    NaN  \n",
       "19197       NaN    NaN  \n",
       "19198       NaN    NaN  \n",
       "19199       NaN    NaN  \n",
       "\n",
       "[19200 rows x 7 columns]"
      ]
     },
     "metadata": {},
     "output_type": "display_data"
    }
   ],
   "source": [
    "import numpy as np\n",
    "import pandas as pd\n",
    "import itertools\n",
    "import random\n",
    "\n",
    "factors_list = [5, 10, 20, 30, 50, 100] # matrix factorizationのファクター数\n",
    "alpha_list = np.geomspace(0.01, 100.0, 20) # 信頼度に関するパラメータ\n",
    "minimum_num_rating_list = [0, 1, 5, 10, 20, 50, 100, 300] # 評価に関する閾値\n",
    "regularization_list = np.geomspace(0.01, 100.0, 20) # 正則化パラメータ\n",
    "\n",
    "# それぞれのパラメータの組み合わせを作成\n",
    "df_params = pd.DataFrame(list(itertools.product(factors_list, alpha_list, minimum_num_rating_list, regularization_list)),\n",
    "                         columns = [\"factors\", \"alpha\", \"minimum_num_rating\", \"regularization\"])\n",
    "df_params[\"Precision@K\"] = np.nan # 未探索のスコアはNULL\n",
    "df_params[\"Recall@K\"] = np.nan # 未探索のスコアはNULL\n",
    "df_params[\"Score\"] = np.nan # 未探索のスコアはNULL\n",
    "display(df_params)"
   ]
  },
  {
   "cell_type": "markdown",
   "metadata": {},
   "source": [
    "`Gauss`過程回帰のために，ある程度のサンプル数はランダムに調べておく"
   ]
  },
  {
   "cell_type": "code",
   "execution_count": 35,
   "metadata": {
    "scrolled": true
   },
   "outputs": [
    {
     "name": "stdout",
     "output_type": "stream",
     "text": [
      "8165 20 2.06913808111479 0 0.11288378916846889\n",
      "7713 20 0.4832930238571752 1 5.455594781168514\n",
      "1215 5 0.29763514416313175 20 14.38449888287663\n"
     ]
    },
    {
     "name": "stderr",
     "output_type": "stream",
     "text": [
      "..\\src\\imf.py:30: UserWarning: Boolean Series key will be reindexed to match DataFrame index.\n",
      "  movielens_train_high_rating = filtered_movielens_train[dataset.train.rating >= 4]\n"
     ]
    },
    {
     "name": "stdout",
     "output_type": "stream",
     "text": [
      "16136 100 0.01 100 23.357214690901213\n"
     ]
    },
    {
     "name": "stderr",
     "output_type": "stream",
     "text": [
      "..\\src\\imf.py:30: UserWarning: Boolean Series key will be reindexed to match DataFrame index.\n",
      "  movielens_train_high_rating = filtered_movielens_train[dataset.train.rating >= 4]\n"
     ]
    },
    {
     "name": "stdout",
     "output_type": "stream",
     "text": [
      "4516 10 0.4832930238571752 1 23.357214690901213\n",
      "17007 100 0.18329807108324356 5 0.29763514416313175\n"
     ]
    },
    {
     "name": "stderr",
     "output_type": "stream",
     "text": [
      "..\\src\\imf.py:30: UserWarning: Boolean Series key will be reindexed to match DataFrame index.\n",
      "  movielens_train_high_rating = filtered_movielens_train[dataset.train.rating >= 4]\n"
     ]
    },
    {
     "name": "stdout",
     "output_type": "stream",
     "text": [
      "577 5 0.04281332398719394 20 37.92690190732246\n"
     ]
    },
    {
     "name": "stderr",
     "output_type": "stream",
     "text": [
      "..\\src\\imf.py:30: UserWarning: Boolean Series key will be reindexed to match DataFrame index.\n",
      "  movielens_train_high_rating = filtered_movielens_train[dataset.train.rating >= 4]\n"
     ]
    },
    {
     "name": "stdout",
     "output_type": "stream",
     "text": [
      "4573 10 0.4832930238571752 20 5.455594781168514\n"
     ]
    },
    {
     "name": "stderr",
     "output_type": "stream",
     "text": [
      "..\\src\\imf.py:30: UserWarning: Boolean Series key will be reindexed to match DataFrame index.\n",
      "  movielens_train_high_rating = filtered_movielens_train[dataset.train.rating >= 4]\n"
     ]
    },
    {
     "name": "stdout",
     "output_type": "stream",
     "text": [
      "15293 50 14.38449888287663 20 5.455594781168514\n"
     ]
    },
    {
     "name": "stderr",
     "output_type": "stream",
     "text": [
      "..\\src\\imf.py:30: UserWarning: Boolean Series key will be reindexed to match DataFrame index.\n",
      "  movielens_train_high_rating = filtered_movielens_train[dataset.train.rating >= 4]\n"
     ]
    },
    {
     "name": "stdout",
     "output_type": "stream",
     "text": [
      "17381 100 0.4832930238571752 50 0.016237767391887217\n"
     ]
    },
    {
     "name": "stderr",
     "output_type": "stream",
     "text": [
      "..\\src\\imf.py:30: UserWarning: Boolean Series key will be reindexed to match DataFrame index.\n",
      "  movielens_train_high_rating = filtered_movielens_train[dataset.train.rating >= 4]\n"
     ]
    },
    {
     "name": "stdout",
     "output_type": "stream",
     "text": [
      "7107 20 0.06951927961775606 10 0.29763514416313175\n"
     ]
    },
    {
     "name": "stderr",
     "output_type": "stream",
     "text": [
      "..\\src\\imf.py:30: UserWarning: Boolean Series key will be reindexed to match DataFrame index.\n",
      "  movielens_train_high_rating = filtered_movielens_train[dataset.train.rating >= 4]\n"
     ]
    },
    {
     "name": "stdout",
     "output_type": "stream",
     "text": [
      "18186 100 5.455594781168514 50 0.18329807108324356\n"
     ]
    },
    {
     "name": "stderr",
     "output_type": "stream",
     "text": [
      "..\\src\\imf.py:30: UserWarning: Boolean Series key will be reindexed to match DataFrame index.\n",
      "  movielens_train_high_rating = filtered_movielens_train[dataset.train.rating >= 4]\n"
     ]
    },
    {
     "name": "stdout",
     "output_type": "stream",
     "text": [
      "7631 20 0.29763514416313175 50 2.06913808111479\n"
     ]
    },
    {
     "name": "stderr",
     "output_type": "stream",
     "text": [
      "..\\src\\imf.py:30: UserWarning: Boolean Series key will be reindexed to match DataFrame index.\n",
      "  movielens_train_high_rating = filtered_movielens_train[dataset.train.rating >= 4]\n"
     ]
    },
    {
     "name": "stdout",
     "output_type": "stream",
     "text": [
      "6837 20 0.026366508987303583 50 37.92690190732246\n"
     ]
    },
    {
     "name": "stderr",
     "output_type": "stream",
     "text": [
      "..\\src\\imf.py:30: UserWarning: Boolean Series key will be reindexed to match DataFrame index.\n",
      "  movielens_train_high_rating = filtered_movielens_train[dataset.train.rating >= 4]\n"
     ]
    },
    {
     "name": "stdout",
     "output_type": "stream",
     "text": [
      "12131 30 14.38449888287663 100 2.06913808111479\n"
     ]
    },
    {
     "name": "stderr",
     "output_type": "stream",
     "text": [
      "..\\src\\imf.py:30: UserWarning: Boolean Series key will be reindexed to match DataFrame index.\n",
      "  movielens_train_high_rating = filtered_movielens_train[dataset.train.rating >= 4]\n"
     ]
    },
    {
     "name": "stdout",
     "output_type": "stream",
     "text": [
      "13256 50 0.026366508987303583 100 23.357214690901213\n"
     ]
    },
    {
     "name": "stderr",
     "output_type": "stream",
     "text": [
      "..\\src\\imf.py:30: UserWarning: Boolean Series key will be reindexed to match DataFrame index.\n",
      "  movielens_train_high_rating = filtered_movielens_train[dataset.train.rating >= 4]\n"
     ]
    },
    {
     "name": "stdout",
     "output_type": "stream",
     "text": [
      "13887 50 0.18329807108324356 100 0.29763514416313175\n"
     ]
    },
    {
     "name": "stderr",
     "output_type": "stream",
     "text": [
      "..\\src\\imf.py:30: UserWarning: Boolean Series key will be reindexed to match DataFrame index.\n",
      "  movielens_train_high_rating = filtered_movielens_train[dataset.train.rating >= 4]\n"
     ]
    },
    {
     "name": "stdout",
     "output_type": "stream",
     "text": [
      "813 5 0.11288378916846889 0 5.455594781168514\n",
      "2654 5 23.357214690901213 20 8.858667904100823\n"
     ]
    },
    {
     "name": "stderr",
     "output_type": "stream",
     "text": [
      "..\\src\\imf.py:30: UserWarning: Boolean Series key will be reindexed to match DataFrame index.\n",
      "  movielens_train_high_rating = filtered_movielens_train[dataset.train.rating >= 4]\n"
     ]
    },
    {
     "name": "stdout",
     "output_type": "stream",
     "text": [
      "15642 50 37.92690190732246 100 0.026366508987303583\n"
     ]
    },
    {
     "name": "stderr",
     "output_type": "stream",
     "text": [
      "..\\src\\imf.py:30: UserWarning: Boolean Series key will be reindexed to match DataFrame index.\n",
      "  movielens_train_high_rating = filtered_movielens_train[dataset.train.rating >= 4]\n"
     ]
    }
   ],
   "source": [
    "import re\n",
    "\n",
    "num_sample_for_pre = 20 # Gauss過程回帰のために事前に調べるサンプル数\n",
    "\n",
    "for idx_sample in range(num_sample_for_pre):\n",
    "    idx_param = random.choice(df_params[df_params[\"Score\"].isnull()].index.values) # 調査するハイパーパラメータをランダムに指定\n",
    "    factors, alpha, minimum_num_rating, regularization = df_params.loc[idx_param].values[0:4]\n",
    "    factors = int(factors) # recommenderのために整数に変換\n",
    "    minimum_num_rating = int(minimum_num_rating)\n",
    "    \n",
    "    print(idx_param, factors, alpha, minimum_num_rating, regularization)\n",
    "    \n",
    "    # IMFによるレコメンド\n",
    "    recommend_result = recommender.recommend(movielens, factors = factors, regularization = regularization,\n",
    "                                             minimum_num_rating = minimum_num_rating, alpha=alpha)\n",
    "    metrics = metric_calculator.calc(\n",
    "        movielens.test.rating.tolist(), recommend_result.rating.tolist(),\n",
    "            movielens.test_user2items, recommend_result.user2items, k = 20)\n",
    "    \n",
    "    # スコアを適当に取り出す\n",
    "    rmse, precision_at_k, recall_at_k = re.findall(r'-?\\d+\\.?\\d*', str(metrics))\n",
    "    precision_at_k = float(precision_at_k)\n",
    "    recall_at_k = float(recall_at_k)\n",
    "    \n",
    "    # スコアを保存\n",
    "    df_params.at[idx_param, \"Precision@K\"] = precision_at_k\n",
    "    df_params.at[idx_param, \"Recall@K\"] = recall_at_k\n",
    "    df_params.at[idx_param, \"Score\"] = (precision_at_k + recall_at_k) / 2.0 # 最適化するスコアはこれ\n",
    "    "
   ]
  },
  {
   "cell_type": "code",
   "execution_count": 36,
   "metadata": {},
   "outputs": [
    {
     "data": {
      "text/html": [
       "<div>\n",
       "<style scoped>\n",
       "    .dataframe tbody tr th:only-of-type {\n",
       "        vertical-align: middle;\n",
       "    }\n",
       "\n",
       "    .dataframe tbody tr th {\n",
       "        vertical-align: top;\n",
       "    }\n",
       "\n",
       "    .dataframe thead th {\n",
       "        text-align: right;\n",
       "    }\n",
       "</style>\n",
       "<table border=\"1\" class=\"dataframe\">\n",
       "  <thead>\n",
       "    <tr style=\"text-align: right;\">\n",
       "      <th></th>\n",
       "      <th>factors</th>\n",
       "      <th>alpha</th>\n",
       "      <th>minimum_num_rating</th>\n",
       "      <th>regularization</th>\n",
       "      <th>Precision@K</th>\n",
       "      <th>Recall@K</th>\n",
       "      <th>Score</th>\n",
       "    </tr>\n",
       "  </thead>\n",
       "  <tbody>\n",
       "    <tr>\n",
       "      <th>577</th>\n",
       "      <td>5</td>\n",
       "      <td>0.042813</td>\n",
       "      <td>20</td>\n",
       "      <td>37.926902</td>\n",
       "      <td>0.000684</td>\n",
       "      <td>0.004643</td>\n",
       "      <td>0.002664</td>\n",
       "    </tr>\n",
       "    <tr>\n",
       "      <th>813</th>\n",
       "      <td>5</td>\n",
       "      <td>0.112884</td>\n",
       "      <td>0</td>\n",
       "      <td>5.455595</td>\n",
       "      <td>0.011576</td>\n",
       "      <td>0.072569</td>\n",
       "      <td>0.042072</td>\n",
       "    </tr>\n",
       "    <tr>\n",
       "      <th>1215</th>\n",
       "      <td>5</td>\n",
       "      <td>0.297635</td>\n",
       "      <td>20</td>\n",
       "      <td>14.384499</td>\n",
       "      <td>0.011357</td>\n",
       "      <td>0.071438</td>\n",
       "      <td>0.041398</td>\n",
       "    </tr>\n",
       "    <tr>\n",
       "      <th>2654</th>\n",
       "      <td>5</td>\n",
       "      <td>23.357215</td>\n",
       "      <td>20</td>\n",
       "      <td>8.858668</td>\n",
       "      <td>0.010673</td>\n",
       "      <td>0.065645</td>\n",
       "      <td>0.038159</td>\n",
       "    </tr>\n",
       "    <tr>\n",
       "      <th>4516</th>\n",
       "      <td>10</td>\n",
       "      <td>0.483293</td>\n",
       "      <td>1</td>\n",
       "      <td>23.357215</td>\n",
       "      <td>0.010892</td>\n",
       "      <td>0.067688</td>\n",
       "      <td>0.039290</td>\n",
       "    </tr>\n",
       "    <tr>\n",
       "      <th>4573</th>\n",
       "      <td>10</td>\n",
       "      <td>0.483293</td>\n",
       "      <td>20</td>\n",
       "      <td>5.455595</td>\n",
       "      <td>0.013711</td>\n",
       "      <td>0.086462</td>\n",
       "      <td>0.050086</td>\n",
       "    </tr>\n",
       "    <tr>\n",
       "      <th>6837</th>\n",
       "      <td>20</td>\n",
       "      <td>0.026367</td>\n",
       "      <td>50</td>\n",
       "      <td>37.926902</td>\n",
       "      <td>0.003366</td>\n",
       "      <td>0.022478</td>\n",
       "      <td>0.012922</td>\n",
       "    </tr>\n",
       "    <tr>\n",
       "      <th>7107</th>\n",
       "      <td>20</td>\n",
       "      <td>0.069519</td>\n",
       "      <td>10</td>\n",
       "      <td>0.297635</td>\n",
       "      <td>0.011221</td>\n",
       "      <td>0.070142</td>\n",
       "      <td>0.040681</td>\n",
       "    </tr>\n",
       "    <tr>\n",
       "      <th>7631</th>\n",
       "      <td>20</td>\n",
       "      <td>0.297635</td>\n",
       "      <td>50</td>\n",
       "      <td>2.069138</td>\n",
       "      <td>0.013218</td>\n",
       "      <td>0.083342</td>\n",
       "      <td>0.048280</td>\n",
       "    </tr>\n",
       "    <tr>\n",
       "      <th>7713</th>\n",
       "      <td>20</td>\n",
       "      <td>0.483293</td>\n",
       "      <td>1</td>\n",
       "      <td>5.455595</td>\n",
       "      <td>0.013957</td>\n",
       "      <td>0.088287</td>\n",
       "      <td>0.051122</td>\n",
       "    </tr>\n",
       "    <tr>\n",
       "      <th>8165</th>\n",
       "      <td>20</td>\n",
       "      <td>2.069138</td>\n",
       "      <td>0</td>\n",
       "      <td>0.112884</td>\n",
       "      <td>0.013738</td>\n",
       "      <td>0.084036</td>\n",
       "      <td>0.048887</td>\n",
       "    </tr>\n",
       "    <tr>\n",
       "      <th>12131</th>\n",
       "      <td>30</td>\n",
       "      <td>14.384499</td>\n",
       "      <td>100</td>\n",
       "      <td>2.069138</td>\n",
       "      <td>0.012178</td>\n",
       "      <td>0.075807</td>\n",
       "      <td>0.043992</td>\n",
       "    </tr>\n",
       "    <tr>\n",
       "      <th>13256</th>\n",
       "      <td>50</td>\n",
       "      <td>0.026367</td>\n",
       "      <td>100</td>\n",
       "      <td>23.357215</td>\n",
       "      <td>0.001752</td>\n",
       "      <td>0.011640</td>\n",
       "      <td>0.006696</td>\n",
       "    </tr>\n",
       "    <tr>\n",
       "      <th>13887</th>\n",
       "      <td>50</td>\n",
       "      <td>0.183298</td>\n",
       "      <td>100</td>\n",
       "      <td>0.297635</td>\n",
       "      <td>0.010400</td>\n",
       "      <td>0.063720</td>\n",
       "      <td>0.037060</td>\n",
       "    </tr>\n",
       "    <tr>\n",
       "      <th>15293</th>\n",
       "      <td>50</td>\n",
       "      <td>14.384499</td>\n",
       "      <td>20</td>\n",
       "      <td>5.455595</td>\n",
       "      <td>0.012479</td>\n",
       "      <td>0.077969</td>\n",
       "      <td>0.045224</td>\n",
       "    </tr>\n",
       "    <tr>\n",
       "      <th>15642</th>\n",
       "      <td>50</td>\n",
       "      <td>37.926902</td>\n",
       "      <td>100</td>\n",
       "      <td>0.026367</td>\n",
       "      <td>0.012124</td>\n",
       "      <td>0.078781</td>\n",
       "      <td>0.045452</td>\n",
       "    </tr>\n",
       "    <tr>\n",
       "      <th>16136</th>\n",
       "      <td>100</td>\n",
       "      <td>0.010000</td>\n",
       "      <td>100</td>\n",
       "      <td>23.357215</td>\n",
       "      <td>0.001861</td>\n",
       "      <td>0.012790</td>\n",
       "      <td>0.007325</td>\n",
       "    </tr>\n",
       "    <tr>\n",
       "      <th>17007</th>\n",
       "      <td>100</td>\n",
       "      <td>0.183298</td>\n",
       "      <td>5</td>\n",
       "      <td>0.297635</td>\n",
       "      <td>0.010400</td>\n",
       "      <td>0.063273</td>\n",
       "      <td>0.036836</td>\n",
       "    </tr>\n",
       "    <tr>\n",
       "      <th>17381</th>\n",
       "      <td>100</td>\n",
       "      <td>0.483293</td>\n",
       "      <td>50</td>\n",
       "      <td>0.016238</td>\n",
       "      <td>0.011713</td>\n",
       "      <td>0.074567</td>\n",
       "      <td>0.043140</td>\n",
       "    </tr>\n",
       "    <tr>\n",
       "      <th>18186</th>\n",
       "      <td>100</td>\n",
       "      <td>5.455595</td>\n",
       "      <td>50</td>\n",
       "      <td>0.183298</td>\n",
       "      <td>0.012288</td>\n",
       "      <td>0.078352</td>\n",
       "      <td>0.045320</td>\n",
       "    </tr>\n",
       "  </tbody>\n",
       "</table>\n",
       "</div>"
      ],
      "text/plain": [
       "       factors      alpha  minimum_num_rating  regularization  Precision@K  \\\n",
       "577          5   0.042813                  20       37.926902     0.000684   \n",
       "813          5   0.112884                   0        5.455595     0.011576   \n",
       "1215         5   0.297635                  20       14.384499     0.011357   \n",
       "2654         5  23.357215                  20        8.858668     0.010673   \n",
       "4516        10   0.483293                   1       23.357215     0.010892   \n",
       "4573        10   0.483293                  20        5.455595     0.013711   \n",
       "6837        20   0.026367                  50       37.926902     0.003366   \n",
       "7107        20   0.069519                  10        0.297635     0.011221   \n",
       "7631        20   0.297635                  50        2.069138     0.013218   \n",
       "7713        20   0.483293                   1        5.455595     0.013957   \n",
       "8165        20   2.069138                   0        0.112884     0.013738   \n",
       "12131       30  14.384499                 100        2.069138     0.012178   \n",
       "13256       50   0.026367                 100       23.357215     0.001752   \n",
       "13887       50   0.183298                 100        0.297635     0.010400   \n",
       "15293       50  14.384499                  20        5.455595     0.012479   \n",
       "15642       50  37.926902                 100        0.026367     0.012124   \n",
       "16136      100   0.010000                 100       23.357215     0.001861   \n",
       "17007      100   0.183298                   5        0.297635     0.010400   \n",
       "17381      100   0.483293                  50        0.016238     0.011713   \n",
       "18186      100   5.455595                  50        0.183298     0.012288   \n",
       "\n",
       "       Recall@K     Score  \n",
       "577    0.004643  0.002664  \n",
       "813    0.072569  0.042072  \n",
       "1215   0.071438  0.041398  \n",
       "2654   0.065645  0.038159  \n",
       "4516   0.067688  0.039290  \n",
       "4573   0.086462  0.050086  \n",
       "6837   0.022478  0.012922  \n",
       "7107   0.070142  0.040681  \n",
       "7631   0.083342  0.048280  \n",
       "7713   0.088287  0.051122  \n",
       "8165   0.084036  0.048887  \n",
       "12131  0.075807  0.043992  \n",
       "13256  0.011640  0.006696  \n",
       "13887  0.063720  0.037060  \n",
       "15293  0.077969  0.045224  \n",
       "15642  0.078781  0.045452  \n",
       "16136  0.012790  0.007325  \n",
       "17007  0.063273  0.036836  \n",
       "17381  0.074567  0.043140  \n",
       "18186  0.078352  0.045320  "
      ]
     },
     "execution_count": 36,
     "metadata": {},
     "output_type": "execute_result"
    }
   ],
   "source": [
    "df_params[~(df_params[\"Score\"].isnull())]"
   ]
  },
  {
   "cell_type": "markdown",
   "metadata": {},
   "source": [
    "`Gauss`過程回帰の準備(ライブラリを適当に利用する)"
   ]
  },
  {
   "cell_type": "code",
   "execution_count": 37,
   "metadata": {},
   "outputs": [],
   "source": [
    "from sklearn.gaussian_process import *\n",
    "kernel = kernels.RBF(1.0, (3e-1, 1e3)) + kernels.ConstantKernel(1.0, (3e-1, 1e3)) + kernels.WhiteKernel()\n",
    "model_hyper_param = GaussianProcessRegressor(\n",
    "    kernel = kernel,\n",
    "    alpha = 1e-5,\n",
    "    optimizer = \"fmin_l_bfgs_b\",\n",
    "    n_restarts_optimizer = 20,\n",
    "    normalize_y = True)"
   ]
  },
  {
   "cell_type": "code",
   "execution_count": 38,
   "metadata": {},
   "outputs": [
    {
     "name": "stdout",
     "output_type": "stream",
     "text": [
      "0 / 100\n",
      "=======Gaussian Process Regression=======\n",
      "=======Implicit Matrix Factorizatioin=======\n",
      "1649 5 1.2742749857031335 5 0.7847599703514611\n"
     ]
    },
    {
     "name": "stderr",
     "output_type": "stream",
     "text": [
      "..\\src\\imf.py:30: UserWarning: Boolean Series key will be reindexed to match DataFrame index.\n",
      "  movielens_train_high_rating = filtered_movielens_train[dataset.train.rating >= 4]\n"
     ]
    },
    {
     "name": "stdout",
     "output_type": "stream",
     "text": [
      "0.011303 0.071702\n",
      "1 / 100\n",
      "=======Gaussian Process Regression=======\n",
      "=======Implicit Matrix Factorizatioin=======\n",
      "8072 20 1.2742749857031335 10 3.359818286283781\n"
     ]
    },
    {
     "name": "stderr",
     "output_type": "stream",
     "text": [
      "..\\src\\imf.py:30: UserWarning: Boolean Series key will be reindexed to match DataFrame index.\n",
      "  movielens_train_high_rating = filtered_movielens_train[dataset.train.rating >= 4]\n"
     ]
    },
    {
     "name": "stdout",
     "output_type": "stream",
     "text": [
      "0.014012 0.086991\n",
      "2 / 100\n",
      "=======Gaussian Process Regression=======\n",
      "=======Implicit Matrix Factorizatioin=======\n",
      "8092 20 1.2742749857031335 20 3.359818286283781\n"
     ]
    },
    {
     "name": "stderr",
     "output_type": "stream",
     "text": [
      "..\\src\\imf.py:30: UserWarning: Boolean Series key will be reindexed to match DataFrame index.\n",
      "  movielens_train_high_rating = filtered_movielens_train[dataset.train.rating >= 4]\n"
     ]
    },
    {
     "name": "stdout",
     "output_type": "stream",
     "text": [
      "0.014176 0.088415\n",
      "3 / 100\n",
      "=======Gaussian Process Regression=======\n",
      "=======Implicit Matrix Factorizatioin=======\n",
      "8093 20 1.2742749857031335 20 5.455594781168514\n"
     ]
    },
    {
     "name": "stderr",
     "output_type": "stream",
     "text": [
      "..\\src\\imf.py:30: UserWarning: Boolean Series key will be reindexed to match DataFrame index.\n",
      "  movielens_train_high_rating = filtered_movielens_train[dataset.train.rating >= 4]\n"
     ]
    },
    {
     "name": "stdout",
     "output_type": "stream",
     "text": [
      "0.014149 0.088095\n",
      "4 / 100\n",
      "=======Gaussian Process Regression=======\n",
      "=======Implicit Matrix Factorizatioin=======\n",
      "11292 30 1.2742749857031335 20 3.359818286283781\n"
     ]
    },
    {
     "name": "stderr",
     "output_type": "stream",
     "text": [
      "..\\src\\imf.py:30: UserWarning: Boolean Series key will be reindexed to match DataFrame index.\n",
      "  movielens_train_high_rating = filtered_movielens_train[dataset.train.rating >= 4]\n"
     ]
    },
    {
     "name": "stdout",
     "output_type": "stream",
     "text": [
      "0.014641 0.089108\n",
      "5 / 100\n",
      "=======Gaussian Process Regression=======\n",
      "=======Implicit Matrix Factorizatioin=======\n",
      "10912 30 0.4832930238571752 1 3.359818286283781\n",
      "0.013766 0.08503\n",
      "6 / 100\n",
      "=======Gaussian Process Regression=======\n",
      "=======Implicit Matrix Factorizatioin=======\n",
      "11312 30 1.2742749857031335 50 3.359818286283781\n"
     ]
    },
    {
     "name": "stderr",
     "output_type": "stream",
     "text": [
      "..\\src\\imf.py:30: UserWarning: Boolean Series key will be reindexed to match DataFrame index.\n",
      "  movielens_train_high_rating = filtered_movielens_train[dataset.train.rating >= 4]\n"
     ]
    },
    {
     "name": "stdout",
     "output_type": "stream",
     "text": [
      "0.014012 0.086471\n",
      "7 / 100\n",
      "=======Gaussian Process Regression=======\n",
      "=======Implicit Matrix Factorizatioin=======\n",
      "11132 30 0.7847599703514611 20 3.359818286283781\n"
     ]
    },
    {
     "name": "stderr",
     "output_type": "stream",
     "text": [
      "..\\src\\imf.py:30: UserWarning: Boolean Series key will be reindexed to match DataFrame index.\n",
      "  movielens_train_high_rating = filtered_movielens_train[dataset.train.rating >= 4]\n"
     ]
    },
    {
     "name": "stdout",
     "output_type": "stream",
     "text": [
      "0.013957 0.086526\n",
      "8 / 100\n",
      "=======Gaussian Process Regression=======\n",
      "=======Implicit Matrix Factorizatioin=======\n",
      "14811 50 3.359818286283781 20 2.06913808111479\n"
     ]
    },
    {
     "name": "stderr",
     "output_type": "stream",
     "text": [
      "..\\src\\imf.py:30: UserWarning: Boolean Series key will be reindexed to match DataFrame index.\n",
      "  movielens_train_high_rating = filtered_movielens_train[dataset.train.rating >= 4]\n"
     ]
    },
    {
     "name": "stdout",
     "output_type": "stream",
     "text": [
      "0.013054 0.079602\n",
      "9 / 100\n",
      "=======Gaussian Process Regression=======\n",
      "=======Implicit Matrix Factorizatioin=======\n",
      "4753 10 0.7847599703514611 50 5.455594781168514\n"
     ]
    },
    {
     "name": "stderr",
     "output_type": "stream",
     "text": [
      "..\\src\\imf.py:30: UserWarning: Boolean Series key will be reindexed to match DataFrame index.\n",
      "  movielens_train_high_rating = filtered_movielens_train[dataset.train.rating >= 4]\n"
     ]
    },
    {
     "name": "stdout",
     "output_type": "stream",
     "text": [
      "0.013328 0.083835\n",
      "10 / 100\n",
      "=======Gaussian Process Regression=======\n",
      "=======Implicit Matrix Factorizatioin=======\n",
      "7913 20 0.7847599703514611 10 5.455594781168514\n"
     ]
    },
    {
     "name": "stderr",
     "output_type": "stream",
     "text": [
      "..\\src\\imf.py:30: UserWarning: Boolean Series key will be reindexed to match DataFrame index.\n",
      "  movielens_train_high_rating = filtered_movielens_train[dataset.train.rating >= 4]\n"
     ]
    },
    {
     "name": "stdout",
     "output_type": "stream",
     "text": [
      "0.014368 0.089792\n",
      "11 / 100\n",
      "=======Gaussian Process Regression=======\n",
      "=======Implicit Matrix Factorizatioin=======\n",
      "7893 20 0.7847599703514611 5 5.455594781168514\n"
     ]
    },
    {
     "name": "stderr",
     "output_type": "stream",
     "text": [
      "..\\src\\imf.py:30: UserWarning: Boolean Series key will be reindexed to match DataFrame index.\n",
      "  movielens_train_high_rating = filtered_movielens_train[dataset.train.rating >= 4]\n"
     ]
    },
    {
     "name": "stdout",
     "output_type": "stream",
     "text": [
      "0.013875 0.087384\n",
      "12 / 100\n",
      "=======Gaussian Process Regression=======\n",
      "=======Implicit Matrix Factorizatioin=======\n",
      "7932 20 0.7847599703514611 20 3.359818286283781\n"
     ]
    },
    {
     "name": "stderr",
     "output_type": "stream",
     "text": [
      "..\\src\\imf.py:30: UserWarning: Boolean Series key will be reindexed to match DataFrame index.\n",
      "  movielens_train_high_rating = filtered_movielens_train[dataset.train.rating >= 4]\n"
     ]
    },
    {
     "name": "stdout",
     "output_type": "stream",
     "text": [
      "0.014204 0.089318\n",
      "13 / 100\n",
      "=======Gaussian Process Regression=======\n",
      "=======Implicit Matrix Factorizatioin=======\n",
      "7933 20 0.7847599703514611 20 5.455594781168514\n"
     ]
    },
    {
     "name": "stderr",
     "output_type": "stream",
     "text": [
      "..\\src\\imf.py:30: UserWarning: Boolean Series key will be reindexed to match DataFrame index.\n",
      "  movielens_train_high_rating = filtered_movielens_train[dataset.train.rating >= 4]\n"
     ]
    },
    {
     "name": "stdout",
     "output_type": "stream",
     "text": [
      "0.014122 0.08919\n",
      "14 / 100\n",
      "=======Gaussian Process Regression=======\n",
      "=======Implicit Matrix Factorizatioin=======\n",
      "7912 20 0.7847599703514611 10 3.359818286283781\n"
     ]
    },
    {
     "name": "stderr",
     "output_type": "stream",
     "text": [
      "..\\src\\imf.py:30: UserWarning: Boolean Series key will be reindexed to match DataFrame index.\n",
      "  movielens_train_high_rating = filtered_movielens_train[dataset.train.rating >= 4]\n"
     ]
    },
    {
     "name": "stdout",
     "output_type": "stream",
     "text": [
      "0.01445 0.090057\n",
      "15 / 100\n",
      "=======Gaussian Process Regression=======\n",
      "=======Implicit Matrix Factorizatioin=======\n",
      "7752 20 0.4832930238571752 10 3.359818286283781\n"
     ]
    },
    {
     "name": "stderr",
     "output_type": "stream",
     "text": [
      "..\\src\\imf.py:30: UserWarning: Boolean Series key will be reindexed to match DataFrame index.\n",
      "  movielens_train_high_rating = filtered_movielens_train[dataset.train.rating >= 4]\n"
     ]
    },
    {
     "name": "stdout",
     "output_type": "stream",
     "text": [
      "0.014149 0.088679\n",
      "16 / 100\n",
      "=======Gaussian Process Regression=======\n",
      "=======Implicit Matrix Factorizatioin=======\n",
      "4532 10 0.4832930238571752 5 3.359818286283781\n"
     ]
    },
    {
     "name": "stderr",
     "output_type": "stream",
     "text": [
      "..\\src\\imf.py:30: UserWarning: Boolean Series key will be reindexed to match DataFrame index.\n",
      "  movielens_train_high_rating = filtered_movielens_train[dataset.train.rating >= 4]\n"
     ]
    },
    {
     "name": "stdout",
     "output_type": "stream",
     "text": [
      "0.013355 0.083324\n",
      "17 / 100\n",
      "=======Gaussian Process Regression=======\n",
      "=======Implicit Matrix Factorizatioin=======\n",
      "7931 20 0.7847599703514611 20 2.06913808111479\n"
     ]
    },
    {
     "name": "stderr",
     "output_type": "stream",
     "text": [
      "..\\src\\imf.py:30: UserWarning: Boolean Series key will be reindexed to match DataFrame index.\n",
      "  movielens_train_high_rating = filtered_movielens_train[dataset.train.rating >= 4]\n"
     ]
    },
    {
     "name": "stdout",
     "output_type": "stream",
     "text": [
      "0.014012 0.088214\n",
      "18 / 100\n",
      "=======Gaussian Process Regression=======\n",
      "=======Implicit Matrix Factorizatioin=======\n",
      "11113 30 0.7847599703514611 10 5.455594781168514\n"
     ]
    },
    {
     "name": "stderr",
     "output_type": "stream",
     "text": [
      "..\\src\\imf.py:30: UserWarning: Boolean Series key will be reindexed to match DataFrame index.\n",
      "  movielens_train_high_rating = filtered_movielens_train[dataset.train.rating >= 4]\n"
     ]
    },
    {
     "name": "stdout",
     "output_type": "stream",
     "text": [
      "0.014258 0.087174\n",
      "19 / 100\n",
      "=======Gaussian Process Regression=======\n",
      "=======Implicit Matrix Factorizatioin=======\n",
      "7772 20 0.4832930238571752 20 3.359818286283781\n"
     ]
    },
    {
     "name": "stderr",
     "output_type": "stream",
     "text": [
      "..\\src\\imf.py:30: UserWarning: Boolean Series key will be reindexed to match DataFrame index.\n",
      "  movielens_train_high_rating = filtered_movielens_train[dataset.train.rating >= 4]\n"
     ]
    },
    {
     "name": "stdout",
     "output_type": "stream",
     "text": [
      "0.013793 0.086946\n",
      "20 / 100\n",
      "=======Gaussian Process Regression=======\n",
      "=======Implicit Matrix Factorizatioin=======\n",
      "7533 20 0.29763514416313175 0 5.455594781168514\n",
      "0.014122 0.089026\n",
      "21 / 100\n",
      "=======Gaussian Process Regression=======\n",
      "=======Implicit Matrix Factorizatioin=======\n",
      "10733 30 0.29763514416313175 0 5.455594781168514\n",
      "0.01393 0.085915\n",
      "22 / 100\n",
      "=======Gaussian Process Regression=======\n",
      "=======Implicit Matrix Factorizatioin=======\n",
      "7693 20 0.4832930238571752 0 5.455594781168514\n",
      "0.013957 0.088287\n",
      "23 / 100\n",
      "=======Gaussian Process Regression=======\n",
      "=======Implicit Matrix Factorizatioin=======\n",
      "7532 20 0.29763514416313175 0 3.359818286283781\n",
      "0.014231 0.090139\n",
      "24 / 100\n",
      "=======Gaussian Process Regression=======\n",
      "=======Implicit Matrix Factorizatioin=======\n",
      "7692 20 0.4832930238571752 0 3.359818286283781\n",
      "0.013903 0.08815\n",
      "25 / 100\n",
      "=======Gaussian Process Regression=======\n",
      "=======Implicit Matrix Factorizatioin=======\n",
      "7372 20 0.18329807108324356 0 3.359818286283781\n",
      "0.014149 0.089372\n",
      "26 / 100\n",
      "=======Gaussian Process Regression=======\n",
      "=======Implicit Matrix Factorizatioin=======\n",
      "7531 20 0.29763514416313175 0 2.06913808111479\n",
      "0.014039 0.088944\n",
      "27 / 100\n",
      "=======Gaussian Process Regression=======\n",
      "=======Implicit Matrix Factorizatioin=======\n",
      "7371 20 0.18329807108324356 0 2.06913808111479\n",
      "0.013684 0.08482\n",
      "28 / 100\n",
      "=======Gaussian Process Regression=======\n",
      "=======Implicit Matrix Factorizatioin=======\n",
      "4332 10 0.29763514416313175 0 3.359818286283781\n",
      "0.013246 0.081281\n",
      "29 / 100\n",
      "=======Gaussian Process Regression=======\n",
      "=======Implicit Matrix Factorizatioin=======\n",
      "7373 20 0.18329807108324356 0 5.455594781168514\n",
      "0.013848 0.086672\n",
      "30 / 100\n",
      "=======Gaussian Process Regression=======\n",
      "=======Implicit Matrix Factorizatioin=======\n",
      "10732 30 0.29763514416313175 0 3.359818286283781\n",
      "0.012781 0.079493\n",
      "31 / 100\n",
      "=======Gaussian Process Regression=======\n",
      "=======Implicit Matrix Factorizatioin=======\n",
      "8073 20 1.2742749857031335 10 5.455594781168514\n"
     ]
    },
    {
     "name": "stderr",
     "output_type": "stream",
     "text": [
      "..\\src\\imf.py:30: UserWarning: Boolean Series key will be reindexed to match DataFrame index.\n",
      "  movielens_train_high_rating = filtered_movielens_train[dataset.train.rating >= 4]\n"
     ]
    },
    {
     "name": "stdout",
     "output_type": "stream",
     "text": [
      "0.014012 0.086836\n",
      "32 / 100\n",
      "=======Gaussian Process Regression=======\n",
      "=======Implicit Matrix Factorizatioin=======\n",
      "7753 20 0.4832930238571752 10 5.455594781168514\n"
     ]
    },
    {
     "name": "stderr",
     "output_type": "stream",
     "text": [
      "..\\src\\imf.py:30: UserWarning: Boolean Series key will be reindexed to match DataFrame index.\n",
      "  movielens_train_high_rating = filtered_movielens_train[dataset.train.rating >= 4]\n"
     ]
    },
    {
     "name": "stdout",
     "output_type": "stream",
     "text": [
      "0.014176 0.089217\n",
      "33 / 100\n",
      "=======Gaussian Process Regression=======\n",
      "=======Implicit Matrix Factorizatioin=======\n",
      "7733 20 0.4832930238571752 5 5.455594781168514\n"
     ]
    },
    {
     "name": "stderr",
     "output_type": "stream",
     "text": [
      "..\\src\\imf.py:30: UserWarning: Boolean Series key will be reindexed to match DataFrame index.\n",
      "  movielens_train_high_rating = filtered_movielens_train[dataset.train.rating >= 4]\n"
     ]
    },
    {
     "name": "stdout",
     "output_type": "stream",
     "text": [
      "0.014231 0.089199\n",
      "34 / 100\n",
      "=======Gaussian Process Regression=======\n",
      "=======Implicit Matrix Factorizatioin=======\n",
      "7732 20 0.4832930238571752 5 3.359818286283781\n"
     ]
    },
    {
     "name": "stderr",
     "output_type": "stream",
     "text": [
      "..\\src\\imf.py:30: UserWarning: Boolean Series key will be reindexed to match DataFrame index.\n",
      "  movielens_train_high_rating = filtered_movielens_train[dataset.train.rating >= 4]\n"
     ]
    },
    {
     "name": "stdout",
     "output_type": "stream",
     "text": [
      "0.014012 0.087776\n",
      "35 / 100\n",
      "=======Gaussian Process Regression=======\n",
      "=======Implicit Matrix Factorizatioin=======\n",
      "7914 20 0.7847599703514611 10 8.858667904100823\n"
     ]
    },
    {
     "name": "stderr",
     "output_type": "stream",
     "text": [
      "..\\src\\imf.py:30: UserWarning: Boolean Series key will be reindexed to match DataFrame index.\n",
      "  movielens_train_high_rating = filtered_movielens_train[dataset.train.rating >= 4]\n"
     ]
    },
    {
     "name": "stdout",
     "output_type": "stream",
     "text": [
      "0.014231 0.089628\n",
      "36 / 100\n",
      "=======Gaussian Process Regression=======\n",
      "=======Implicit Matrix Factorizatioin=======\n",
      "7934 20 0.7847599703514611 20 8.858667904100823\n"
     ]
    },
    {
     "name": "stderr",
     "output_type": "stream",
     "text": [
      "..\\src\\imf.py:30: UserWarning: Boolean Series key will be reindexed to match DataFrame index.\n",
      "  movielens_train_high_rating = filtered_movielens_train[dataset.train.rating >= 4]\n"
     ]
    },
    {
     "name": "stdout",
     "output_type": "stream",
     "text": [
      "0.014149 0.088944\n",
      "37 / 100\n",
      "=======Gaussian Process Regression=======\n",
      "=======Implicit Matrix Factorizatioin=======\n",
      "8094 20 1.2742749857031335 20 8.858667904100823\n"
     ]
    },
    {
     "name": "stderr",
     "output_type": "stream",
     "text": [
      "..\\src\\imf.py:30: UserWarning: Boolean Series key will be reindexed to match DataFrame index.\n",
      "  movielens_train_high_rating = filtered_movielens_train[dataset.train.rating >= 4]\n"
     ]
    },
    {
     "name": "stdout",
     "output_type": "stream",
     "text": [
      "0.014067 0.087621\n",
      "38 / 100\n",
      "=======Gaussian Process Regression=======\n",
      "=======Implicit Matrix Factorizatioin=======\n",
      "7773 20 0.4832930238571752 20 5.455594781168514\n"
     ]
    },
    {
     "name": "stderr",
     "output_type": "stream",
     "text": [
      "..\\src\\imf.py:30: UserWarning: Boolean Series key will be reindexed to match DataFrame index.\n",
      "  movielens_train_high_rating = filtered_movielens_train[dataset.train.rating >= 4]\n"
     ]
    },
    {
     "name": "stdout",
     "output_type": "stream",
     "text": [
      "0.014395 0.091033\n",
      "39 / 100\n",
      "=======Gaussian Process Regression=======\n",
      "=======Implicit Matrix Factorizatioin=======\n",
      "11133 30 0.7847599703514611 20 5.455594781168514\n"
     ]
    },
    {
     "name": "stderr",
     "output_type": "stream",
     "text": [
      "..\\src\\imf.py:30: UserWarning: Boolean Series key will be reindexed to match DataFrame index.\n",
      "  movielens_train_high_rating = filtered_movielens_train[dataset.train.rating >= 4]\n"
     ]
    },
    {
     "name": "stdout",
     "output_type": "stream",
     "text": [
      "0.014231 0.087411\n",
      "40 / 100\n",
      "=======Gaussian Process Regression=======\n",
      "=======Implicit Matrix Factorizatioin=======\n",
      "7754 20 0.4832930238571752 10 8.858667904100823\n"
     ]
    },
    {
     "name": "stderr",
     "output_type": "stream",
     "text": [
      "..\\src\\imf.py:30: UserWarning: Boolean Series key will be reindexed to match DataFrame index.\n",
      "  movielens_train_high_rating = filtered_movielens_train[dataset.train.rating >= 4]\n"
     ]
    },
    {
     "name": "stdout",
     "output_type": "stream",
     "text": [
      "0.014258 0.089819\n",
      "41 / 100\n",
      "=======Gaussian Process Regression=======\n",
      "=======Implicit Matrix Factorizatioin=======\n",
      "7774 20 0.4832930238571752 20 8.858667904100823\n"
     ]
    },
    {
     "name": "stderr",
     "output_type": "stream",
     "text": [
      "..\\src\\imf.py:30: UserWarning: Boolean Series key will be reindexed to match DataFrame index.\n",
      "  movielens_train_high_rating = filtered_movielens_train[dataset.train.rating >= 4]\n"
     ]
    },
    {
     "name": "stdout",
     "output_type": "stream",
     "text": [
      "0.01434 0.089938\n",
      "42 / 100\n",
      "=======Gaussian Process Regression=======\n",
      "=======Implicit Matrix Factorizatioin=======\n",
      "7734 20 0.4832930238571752 5 8.858667904100823\n"
     ]
    },
    {
     "name": "stderr",
     "output_type": "stream",
     "text": [
      "..\\src\\imf.py:30: UserWarning: Boolean Series key will be reindexed to match DataFrame index.\n",
      "  movielens_train_high_rating = filtered_movielens_train[dataset.train.rating >= 4]\n"
     ]
    },
    {
     "name": "stdout",
     "output_type": "stream",
     "text": [
      "0.014122 0.089044\n",
      "43 / 100\n",
      "=======Gaussian Process Regression=======\n",
      "=======Implicit Matrix Factorizatioin=======\n",
      "7553 20 0.29763514416313175 1 5.455594781168514\n",
      "0.014122 0.089026\n",
      "44 / 100\n",
      "=======Gaussian Process Regression=======\n",
      "=======Implicit Matrix Factorizatioin=======\n",
      "7552 20 0.29763514416313175 1 3.359818286283781\n",
      "0.014231 0.090139\n",
      "45 / 100\n",
      "=======Gaussian Process Regression=======\n",
      "=======Implicit Matrix Factorizatioin=======\n",
      "7712 20 0.4832930238571752 1 3.359818286283781\n",
      "0.013903 0.08815\n",
      "46 / 100\n",
      "=======Gaussian Process Regression=======\n",
      "=======Implicit Matrix Factorizatioin=======\n",
      "7573 20 0.29763514416313175 5 5.455594781168514\n"
     ]
    },
    {
     "name": "stderr",
     "output_type": "stream",
     "text": [
      "..\\src\\imf.py:30: UserWarning: Boolean Series key will be reindexed to match DataFrame index.\n",
      "  movielens_train_high_rating = filtered_movielens_train[dataset.train.rating >= 4]\n"
     ]
    },
    {
     "name": "stdout",
     "output_type": "stream",
     "text": [
      "0.013957 0.08794\n",
      "47 / 100\n",
      "=======Gaussian Process Regression=======\n",
      "=======Implicit Matrix Factorizatioin=======\n",
      "7392 20 0.18329807108324356 1 3.359818286283781\n",
      "0.014149 0.089372\n",
      "48 / 100\n",
      "=======Gaussian Process Regression=======\n",
      "=======Implicit Matrix Factorizatioin=======\n",
      "7393 20 0.18329807108324356 1 5.455594781168514\n",
      "0.013848 0.086672\n",
      "49 / 100\n",
      "=======Gaussian Process Regression=======\n",
      "=======Implicit Matrix Factorizatioin=======\n",
      "7551 20 0.29763514416313175 1 2.06913808111479\n",
      "0.014039 0.088944\n",
      "50 / 100\n",
      "=======Gaussian Process Regression=======\n",
      "=======Implicit Matrix Factorizatioin=======\n",
      "7711 20 0.4832930238571752 1 2.06913808111479\n",
      "0.014012 0.088807\n",
      "51 / 100\n",
      "=======Gaussian Process Regression=======\n",
      "=======Implicit Matrix Factorizatioin=======\n",
      "7868 20 0.7847599703514611 1 0.4832930238571752\n",
      "0.014258 0.089135\n",
      "52 / 100\n",
      "=======Gaussian Process Regression=======\n",
      "=======Implicit Matrix Factorizatioin=======\n",
      "7867 20 0.7847599703514611 1 0.29763514416313175\n",
      "0.014231 0.089026\n",
      "53 / 100\n",
      "=======Gaussian Process Regression=======\n",
      "=======Implicit Matrix Factorizatioin=======\n",
      "8027 20 1.2742749857031335 1 0.29763514416313175\n",
      "0.013848 0.085532\n",
      "54 / 100\n",
      "=======Gaussian Process Regression=======\n",
      "=======Implicit Matrix Factorizatioin=======\n",
      "7708 20 0.4832930238571752 1 0.4832930238571752\n",
      "0.014039 0.088068\n",
      "55 / 100\n",
      "=======Gaussian Process Regression=======\n",
      "=======Implicit Matrix Factorizatioin=======\n",
      "7847 20 0.7847599703514611 0 0.29763514416313175\n",
      "0.014231 0.089026\n",
      "56 / 100\n",
      "=======Gaussian Process Regression=======\n",
      "=======Implicit Matrix Factorizatioin=======\n",
      "7846 20 0.7847599703514611 0 0.18329807108324356\n",
      "0.014313 0.0895\n",
      "57 / 100\n",
      "=======Gaussian Process Regression=======\n",
      "=======Implicit Matrix Factorizatioin=======\n",
      "7709 20 0.4832930238571752 1 0.7847599703514611\n",
      "0.014122 0.088807\n",
      "58 / 100\n",
      "=======Gaussian Process Regression=======\n",
      "=======Implicit Matrix Factorizatioin=======\n",
      "7710 20 0.4832930238571752 1 1.2742749857031335\n",
      "0.013903 0.087219\n",
      "59 / 100\n",
      "=======Gaussian Process Regression=======\n",
      "=======Implicit Matrix Factorizatioin=======\n",
      "7707 20 0.4832930238571752 1 0.29763514416313175\n",
      "0.01393 0.087292\n",
      "60 / 100\n",
      "=======Gaussian Process Regression=======\n",
      "=======Implicit Matrix Factorizatioin=======\n",
      "7848 20 0.7847599703514611 0 0.4832930238571752\n",
      "0.014258 0.089135\n",
      "61 / 100\n",
      "=======Gaussian Process Regression=======\n",
      "=======Implicit Matrix Factorizatioin=======\n",
      "7687 20 0.4832930238571752 0 0.29763514416313175\n",
      "0.01393 0.087292\n",
      "62 / 100\n",
      "=======Gaussian Process Regression=======\n",
      "=======Implicit Matrix Factorizatioin=======\n",
      "8007 20 1.2742749857031335 0 0.29763514416313175\n",
      "0.013848 0.085532\n",
      "63 / 100\n",
      "=======Gaussian Process Regression=======\n",
      "=======Implicit Matrix Factorizatioin=======\n",
      "7845 20 0.7847599703514611 0 0.11288378916846889\n",
      "0.014313 0.0895\n",
      "64 / 100\n",
      "=======Gaussian Process Regression=======\n",
      "=======Implicit Matrix Factorizatioin=======\n",
      "7844 20 0.7847599703514611 0 0.06951927961775606\n",
      "0.01434 0.089683\n",
      "65 / 100\n",
      "=======Gaussian Process Regression=======\n",
      "=======Implicit Matrix Factorizatioin=======\n",
      "8004 20 1.2742749857031335 0 0.06951927961775606\n",
      "0.013711 0.084665\n",
      "66 / 100\n",
      "=======Gaussian Process Regression=======\n",
      "=======Implicit Matrix Factorizatioin=======\n",
      "7685 20 0.4832930238571752 0 0.11288378916846889\n",
      "0.01393 0.087265\n",
      "67 / 100\n",
      "=======Gaussian Process Regression=======\n",
      "=======Implicit Matrix Factorizatioin=======\n",
      "7866 20 0.7847599703514611 1 0.18329807108324356\n",
      "0.014313 0.0895\n",
      "68 / 100\n",
      "=======Gaussian Process Regression=======\n",
      "=======Implicit Matrix Factorizatioin=======\n",
      "7865 20 0.7847599703514611 1 0.11288378916846889\n",
      "0.014313 0.0895\n",
      "69 / 100\n",
      "=======Gaussian Process Regression=======\n",
      "=======Implicit Matrix Factorizatioin=======\n",
      "7864 20 0.7847599703514611 1 0.06951927961775606\n",
      "0.01434 0.089683\n",
      "70 / 100\n",
      "=======Gaussian Process Regression=======\n",
      "=======Implicit Matrix Factorizatioin=======\n",
      "7704 20 0.4832930238571752 1 0.06951927961775606\n",
      "0.013903 0.08711\n",
      "71 / 100\n",
      "=======Gaussian Process Regression=======\n",
      "=======Implicit Matrix Factorizatioin=======\n",
      "11065 30 0.7847599703514611 1 0.11288378916846889\n",
      "0.013875 0.084565\n",
      "72 / 100\n",
      "=======Gaussian Process Regression=======\n",
      "=======Implicit Matrix Factorizatioin=======\n",
      "4665 10 0.7847599703514611 1 0.11288378916846889\n",
      "0.013328 0.082339\n",
      "73 / 100\n",
      "=======Gaussian Process Regression=======\n",
      "=======Implicit Matrix Factorizatioin=======\n",
      "10954 30 0.4832930238571752 10 8.858667904100823\n"
     ]
    },
    {
     "name": "stderr",
     "output_type": "stream",
     "text": [
      "..\\src\\imf.py:30: UserWarning: Boolean Series key will be reindexed to match DataFrame index.\n",
      "  movielens_train_high_rating = filtered_movielens_train[dataset.train.rating >= 4]\n"
     ]
    },
    {
     "name": "stdout",
     "output_type": "stream",
     "text": [
      "0.014587 0.09044\n",
      "74 / 100\n",
      "=======Gaussian Process Regression=======\n",
      "=======Implicit Matrix Factorizatioin=======\n",
      "10955 30 0.4832930238571752 10 14.38449888287663\n"
     ]
    },
    {
     "name": "stderr",
     "output_type": "stream",
     "text": [
      "..\\src\\imf.py:30: UserWarning: Boolean Series key will be reindexed to match DataFrame index.\n",
      "  movielens_train_high_rating = filtered_movielens_train[dataset.train.rating >= 4]\n"
     ]
    },
    {
     "name": "stdout",
     "output_type": "stream",
     "text": [
      "0.012917 0.080615\n",
      "75 / 100\n",
      "=======Gaussian Process Regression=======\n",
      "=======Implicit Matrix Factorizatioin=======\n",
      "10953 30 0.4832930238571752 10 5.455594781168514\n"
     ]
    },
    {
     "name": "stderr",
     "output_type": "stream",
     "text": [
      "..\\src\\imf.py:30: UserWarning: Boolean Series key will be reindexed to match DataFrame index.\n",
      "  movielens_train_high_rating = filtered_movielens_train[dataset.train.rating >= 4]\n"
     ]
    },
    {
     "name": "stdout",
     "output_type": "stream",
     "text": [
      "0.013684 0.084592\n",
      "76 / 100\n",
      "=======Gaussian Process Regression=======\n",
      "=======Implicit Matrix Factorizatioin=======\n",
      "7686 20 0.4832930238571752 0 0.18329807108324356\n",
      "0.013903 0.087156\n",
      "77 / 100\n",
      "=======Gaussian Process Regression=======\n",
      "=======Implicit Matrix Factorizatioin=======\n",
      "7869 20 0.7847599703514611 1 0.7847599703514611\n",
      "0.014286 0.089299\n",
      "78 / 100\n",
      "=======Gaussian Process Regression=======\n",
      "=======Implicit Matrix Factorizatioin=======\n",
      "7849 20 0.7847599703514611 0 0.7847599703514611\n",
      "0.014286 0.089299\n",
      "79 / 100\n",
      "=======Gaussian Process Regression=======\n",
      "=======Implicit Matrix Factorizatioin=======\n",
      "7870 20 0.7847599703514611 1 1.2742749857031335\n",
      "0.014286 0.089236\n",
      "80 / 100\n",
      "=======Gaussian Process Regression=======\n",
      "=======Implicit Matrix Factorizatioin=======\n",
      "7850 20 0.7847599703514611 0 1.2742749857031335\n",
      "0.014286 0.089236\n",
      "81 / 100\n",
      "=======Gaussian Process Regression=======\n",
      "=======Implicit Matrix Factorizatioin=======\n",
      "7691 20 0.4832930238571752 0 2.06913808111479\n",
      "0.014012 0.088807\n",
      "82 / 100\n",
      "=======Gaussian Process Regression=======\n",
      "=======Implicit Matrix Factorizatioin=======\n",
      "7690 20 0.4832930238571752 0 1.2742749857031335\n",
      "0.013903 0.087219\n",
      "83 / 100\n",
      "=======Gaussian Process Regression=======\n",
      "=======Implicit Matrix Factorizatioin=======\n",
      "7871 20 0.7847599703514611 1 2.06913808111479\n",
      "0.014423 0.090257\n",
      "84 / 100\n",
      "=======Gaussian Process Regression=======\n",
      "=======Implicit Matrix Factorizatioin=======\n",
      "7851 20 0.7847599703514611 0 2.06913808111479\n",
      "0.014423 0.090257\n",
      "85 / 100\n",
      "=======Gaussian Process Regression=======\n",
      "=======Implicit Matrix Factorizatioin=======\n",
      "8011 20 1.2742749857031335 0 2.06913808111479\n",
      "0.01382 0.085057\n",
      "86 / 100\n",
      "=======Gaussian Process Regression=======\n",
      "=======Implicit Matrix Factorizatioin=======\n",
      "7872 20 0.7847599703514611 1 3.359818286283781\n",
      "0.014395 0.090285\n",
      "87 / 100\n",
      "=======Gaussian Process Regression=======\n",
      "=======Implicit Matrix Factorizatioin=======\n",
      "7892 20 0.7847599703514611 5 3.359818286283781\n"
     ]
    },
    {
     "name": "stderr",
     "output_type": "stream",
     "text": [
      "..\\src\\imf.py:30: UserWarning: Boolean Series key will be reindexed to match DataFrame index.\n",
      "  movielens_train_high_rating = filtered_movielens_train[dataset.train.rating >= 4]\n"
     ]
    },
    {
     "name": "stdout",
     "output_type": "stream",
     "text": [
      "0.013957 0.087867\n",
      "88 / 100\n",
      "=======Gaussian Process Regression=======\n",
      "=======Implicit Matrix Factorizatioin=======\n",
      "7852 20 0.7847599703514611 0 3.359818286283781\n",
      "0.014395 0.090285\n",
      "89 / 100\n",
      "=======Gaussian Process Regression=======\n",
      "=======Implicit Matrix Factorizatioin=======\n",
      "7873 20 0.7847599703514611 1 5.455594781168514\n",
      "0.014258 0.08909\n",
      "90 / 100\n",
      "=======Gaussian Process Regression=======\n",
      "=======Implicit Matrix Factorizatioin=======\n",
      "7853 20 0.7847599703514611 0 5.455594781168514\n",
      "0.014258 0.08909\n",
      "91 / 100\n",
      "=======Gaussian Process Regression=======\n",
      "=======Implicit Matrix Factorizatioin=======\n",
      "7689 20 0.4832930238571752 0 0.7847599703514611\n",
      "0.014122 0.088807\n",
      "92 / 100\n",
      "=======Gaussian Process Regression=======\n",
      "=======Implicit Matrix Factorizatioin=======\n",
      "7688 20 0.4832930238571752 0 0.4832930238571752\n",
      "0.014039 0.088068\n",
      "93 / 100\n",
      "=======Gaussian Process Regression=======\n",
      "=======Implicit Matrix Factorizatioin=======\n",
      "7593 20 0.29763514416313175 10 5.455594781168514\n"
     ]
    },
    {
     "name": "stderr",
     "output_type": "stream",
     "text": [
      "..\\src\\imf.py:30: UserWarning: Boolean Series key will be reindexed to match DataFrame index.\n",
      "  movielens_train_high_rating = filtered_movielens_train[dataset.train.rating >= 4]\n"
     ]
    },
    {
     "name": "stdout",
     "output_type": "stream",
     "text": [
      "0.014039 0.08805\n",
      "94 / 100\n",
      "=======Gaussian Process Regression=======\n",
      "=======Implicit Matrix Factorizatioin=======\n",
      "8091 20 1.2742749857031335 20 2.06913808111479\n"
     ]
    },
    {
     "name": "stderr",
     "output_type": "stream",
     "text": [
      "..\\src\\imf.py:30: UserWarning: Boolean Series key will be reindexed to match DataFrame index.\n",
      "  movielens_train_high_rating = filtered_movielens_train[dataset.train.rating >= 4]\n"
     ]
    },
    {
     "name": "stdout",
     "output_type": "stream",
     "text": [
      "0.013957 0.087128\n",
      "95 / 100\n",
      "=======Gaussian Process Regression=======\n",
      "=======Implicit Matrix Factorizatioin=======\n",
      "8032 20 1.2742749857031335 1 3.359818286283781\n",
      "0.014039 0.085997\n",
      "96 / 100\n",
      "=======Gaussian Process Regression=======\n",
      "=======Implicit Matrix Factorizatioin=======\n",
      "7863 20 0.7847599703514611 1 0.04281332398719394\n",
      "0.01434 0.089683\n",
      "97 / 100\n",
      "=======Gaussian Process Regression=======\n",
      "=======Implicit Matrix Factorizatioin=======\n",
      "7862 20 0.7847599703514611 1 0.026366508987303583\n",
      "0.01434 0.089591\n",
      "98 / 100\n",
      "=======Gaussian Process Regression=======\n",
      "=======Implicit Matrix Factorizatioin=======\n",
      "7702 20 0.4832930238571752 1 0.026366508987303583\n",
      "0.01393 0.087384\n",
      "99 / 100\n",
      "=======Gaussian Process Regression=======\n",
      "=======Implicit Matrix Factorizatioin=======\n",
      "11063 30 0.7847599703514611 1 0.04281332398719394\n",
      "0.013875 0.084638\n"
     ]
    }
   ],
   "source": [
    "num_sample_for_post = 100 # Gauss過程回帰のイテレーション\n",
    "\n",
    "for idx_sample in range(num_sample_for_post):\n",
    "    print(\"{:0} / {:1}\".format(idx_sample, num_sample_for_post))\n",
    "    # Gauss過程回帰で探索するべきパラメータを調べる\n",
    "    ## Gauss過程回帰の学習\n",
    "    print(\"=======Gaussian Process Regression=======\")\n",
    "    df_params_w_score = df_params[~(df_params[\"Score\"].isnull())].copy() # スコアが分かっているサンプルを抽出\n",
    "    x_train = df_params_w_score[[\"factors\", \"alpha\", \"minimum_num_rating\", \"regularization\"]].values\n",
    "    # Gauss過程回帰のために，パラメータを適当に変換\n",
    "    x_train[:, 2] = x_train[:, 2] + 1 \n",
    "    x_train = np.log(x_train)\n",
    "    y_train = df_params_w_score[[\"Score\"]].values\n",
    "    model_hyper_param.fit(x_train, y_train) # Gauss過程回帰\n",
    "    ## Gauss過程回帰による予測\n",
    "    df_params_wo_score = df_params[df_params[\"Score\"].isnull()].copy() # スコアが分かっているサンプルを抽出\n",
    "    x_test = df_params_wo_score[[\"factors\", \"alpha\", \"minimum_num_rating\", \"regularization\"]].values\n",
    "    x_test[:, 2] = x_test[:, 2] + 1\n",
    "    x_test = np.log(x_test)\n",
    "    pred_test, std_test = model_hyper_param.predict(x_test, return_std = True)\n",
    "    pred_test = pred_test[:, 0] # pred_testの形が(n, 1)のような\"行列\"なのでベクトルに直す(std_testはそのようになっていない(?))\n",
    "    ## ハイパーパラメータを探索 \n",
    "    upper_confidence_bound = pred_test + np.sqrt(np.log(len(pred_test)) / len(pred_test)) * std_test # 獲得関数はUpper Confidence Bound\n",
    "    df_params_wo_score[\"UCB\"] = upper_confidence_bound\n",
    "    idx_param = df_params_wo_score.sort_values(by = \"UCB\", ascending = False).index.values[0] # 獲得関数を最大化するパラメータ(のインデックス)\n",
    "    #print(\"idx_to_test = {:}\".format(idx_to_test))\n",
    "\n",
    "    # IMFの学習開始\n",
    "    print(\"=======Implicit Matrix Factorizatioin=======\")\n",
    "    factors, alpha, minimum_num_rating, regularization = df_params.loc[idx_param].values[0:4]\n",
    "    factors = int(factors)\n",
    "    minimum_num_rating = int(minimum_num_rating)\n",
    "\n",
    "    print(idx_param, factors, alpha, minimum_num_rating, regularization)\n",
    "\n",
    "    recommend_result = recommender.recommend(movielens, factors = factors, regularization = regularization,\n",
    "                                             minimum_num_rating = minimum_num_rating, alpha=alpha)\n",
    "    metrics = metric_calculator.calc(\n",
    "        movielens.test.rating.tolist(), recommend_result.rating.tolist(),\n",
    "            movielens.test_user2items, recommend_result.user2items, k = 20)\n",
    "    rmse, precision_at_k, recall_at_k = re.findall(r'-?\\d+\\.?\\d*', str(metrics))\n",
    "    precision_at_k = float(precision_at_k)\n",
    "    recall_at_k = float(recall_at_k)\n",
    "    \n",
    "    # ハイパーパラメータとスコアの組を保存\n",
    "    df_params.at[idx_param, \"Precision@K\"] = precision_at_k\n",
    "    df_params.at[idx_param, \"Recall@K\"] = recall_at_k\n",
    "    df_params.at[idx_param, \"Score\"] = (precision_at_k + recall_at_k) / 2.0\n",
    "    print(precision_at_k, recall_at_k)"
   ]
  },
  {
   "cell_type": "markdown",
   "metadata": {},
   "source": [
    "最もスコアが高いようにハイパーパラメータを調整するとこんな感じ．"
   ]
  },
  {
   "cell_type": "code",
   "execution_count": 39,
   "metadata": {},
   "outputs": [
    {
     "data": {
      "text/html": [
       "<div>\n",
       "<style scoped>\n",
       "    .dataframe tbody tr th:only-of-type {\n",
       "        vertical-align: middle;\n",
       "    }\n",
       "\n",
       "    .dataframe tbody tr th {\n",
       "        vertical-align: top;\n",
       "    }\n",
       "\n",
       "    .dataframe thead th {\n",
       "        text-align: right;\n",
       "    }\n",
       "</style>\n",
       "<table border=\"1\" class=\"dataframe\">\n",
       "  <thead>\n",
       "    <tr style=\"text-align: right;\">\n",
       "      <th></th>\n",
       "      <th>factors</th>\n",
       "      <th>alpha</th>\n",
       "      <th>minimum_num_rating</th>\n",
       "      <th>regularization</th>\n",
       "      <th>Precision@K</th>\n",
       "      <th>Recall@K</th>\n",
       "      <th>Score</th>\n",
       "    </tr>\n",
       "  </thead>\n",
       "  <tbody>\n",
       "    <tr>\n",
       "      <th>7773</th>\n",
       "      <td>20</td>\n",
       "      <td>0.483293</td>\n",
       "      <td>20</td>\n",
       "      <td>5.455595</td>\n",
       "      <td>0.014395</td>\n",
       "      <td>0.091033</td>\n",
       "      <td>0.052714</td>\n",
       "    </tr>\n",
       "    <tr>\n",
       "      <th>10954</th>\n",
       "      <td>30</td>\n",
       "      <td>0.483293</td>\n",
       "      <td>10</td>\n",
       "      <td>8.858668</td>\n",
       "      <td>0.014587</td>\n",
       "      <td>0.090440</td>\n",
       "      <td>0.052514</td>\n",
       "    </tr>\n",
       "    <tr>\n",
       "      <th>7852</th>\n",
       "      <td>20</td>\n",
       "      <td>0.784760</td>\n",
       "      <td>0</td>\n",
       "      <td>3.359818</td>\n",
       "      <td>0.014395</td>\n",
       "      <td>0.090285</td>\n",
       "      <td>0.052340</td>\n",
       "    </tr>\n",
       "    <tr>\n",
       "      <th>7851</th>\n",
       "      <td>20</td>\n",
       "      <td>0.784760</td>\n",
       "      <td>0</td>\n",
       "      <td>2.069138</td>\n",
       "      <td>0.014423</td>\n",
       "      <td>0.090257</td>\n",
       "      <td>0.052340</td>\n",
       "    </tr>\n",
       "    <tr>\n",
       "      <th>7872</th>\n",
       "      <td>20</td>\n",
       "      <td>0.784760</td>\n",
       "      <td>1</td>\n",
       "      <td>3.359818</td>\n",
       "      <td>0.014395</td>\n",
       "      <td>0.090285</td>\n",
       "      <td>0.052340</td>\n",
       "    </tr>\n",
       "    <tr>\n",
       "      <th>7871</th>\n",
       "      <td>20</td>\n",
       "      <td>0.784760</td>\n",
       "      <td>1</td>\n",
       "      <td>2.069138</td>\n",
       "      <td>0.014423</td>\n",
       "      <td>0.090257</td>\n",
       "      <td>0.052340</td>\n",
       "    </tr>\n",
       "    <tr>\n",
       "      <th>7912</th>\n",
       "      <td>20</td>\n",
       "      <td>0.784760</td>\n",
       "      <td>10</td>\n",
       "      <td>3.359818</td>\n",
       "      <td>0.014450</td>\n",
       "      <td>0.090057</td>\n",
       "      <td>0.052254</td>\n",
       "    </tr>\n",
       "    <tr>\n",
       "      <th>7552</th>\n",
       "      <td>20</td>\n",
       "      <td>0.297635</td>\n",
       "      <td>1</td>\n",
       "      <td>3.359818</td>\n",
       "      <td>0.014231</td>\n",
       "      <td>0.090139</td>\n",
       "      <td>0.052185</td>\n",
       "    </tr>\n",
       "    <tr>\n",
       "      <th>7532</th>\n",
       "      <td>20</td>\n",
       "      <td>0.297635</td>\n",
       "      <td>0</td>\n",
       "      <td>3.359818</td>\n",
       "      <td>0.014231</td>\n",
       "      <td>0.090139</td>\n",
       "      <td>0.052185</td>\n",
       "    </tr>\n",
       "    <tr>\n",
       "      <th>7774</th>\n",
       "      <td>20</td>\n",
       "      <td>0.483293</td>\n",
       "      <td>20</td>\n",
       "      <td>8.858668</td>\n",
       "      <td>0.014340</td>\n",
       "      <td>0.089938</td>\n",
       "      <td>0.052139</td>\n",
       "    </tr>\n",
       "    <tr>\n",
       "      <th>7913</th>\n",
       "      <td>20</td>\n",
       "      <td>0.784760</td>\n",
       "      <td>10</td>\n",
       "      <td>5.455595</td>\n",
       "      <td>0.014368</td>\n",
       "      <td>0.089792</td>\n",
       "      <td>0.052080</td>\n",
       "    </tr>\n",
       "    <tr>\n",
       "      <th>7754</th>\n",
       "      <td>20</td>\n",
       "      <td>0.483293</td>\n",
       "      <td>10</td>\n",
       "      <td>8.858668</td>\n",
       "      <td>0.014258</td>\n",
       "      <td>0.089819</td>\n",
       "      <td>0.052039</td>\n",
       "    </tr>\n",
       "    <tr>\n",
       "      <th>7864</th>\n",
       "      <td>20</td>\n",
       "      <td>0.784760</td>\n",
       "      <td>1</td>\n",
       "      <td>0.069519</td>\n",
       "      <td>0.014340</td>\n",
       "      <td>0.089683</td>\n",
       "      <td>0.052012</td>\n",
       "    </tr>\n",
       "    <tr>\n",
       "      <th>7863</th>\n",
       "      <td>20</td>\n",
       "      <td>0.784760</td>\n",
       "      <td>1</td>\n",
       "      <td>0.042813</td>\n",
       "      <td>0.014340</td>\n",
       "      <td>0.089683</td>\n",
       "      <td>0.052012</td>\n",
       "    </tr>\n",
       "    <tr>\n",
       "      <th>7844</th>\n",
       "      <td>20</td>\n",
       "      <td>0.784760</td>\n",
       "      <td>0</td>\n",
       "      <td>0.069519</td>\n",
       "      <td>0.014340</td>\n",
       "      <td>0.089683</td>\n",
       "      <td>0.052012</td>\n",
       "    </tr>\n",
       "    <tr>\n",
       "      <th>7862</th>\n",
       "      <td>20</td>\n",
       "      <td>0.784760</td>\n",
       "      <td>1</td>\n",
       "      <td>0.026367</td>\n",
       "      <td>0.014340</td>\n",
       "      <td>0.089591</td>\n",
       "      <td>0.051966</td>\n",
       "    </tr>\n",
       "    <tr>\n",
       "      <th>7914</th>\n",
       "      <td>20</td>\n",
       "      <td>0.784760</td>\n",
       "      <td>10</td>\n",
       "      <td>8.858668</td>\n",
       "      <td>0.014231</td>\n",
       "      <td>0.089628</td>\n",
       "      <td>0.051930</td>\n",
       "    </tr>\n",
       "    <tr>\n",
       "      <th>7866</th>\n",
       "      <td>20</td>\n",
       "      <td>0.784760</td>\n",
       "      <td>1</td>\n",
       "      <td>0.183298</td>\n",
       "      <td>0.014313</td>\n",
       "      <td>0.089500</td>\n",
       "      <td>0.051906</td>\n",
       "    </tr>\n",
       "    <tr>\n",
       "      <th>7846</th>\n",
       "      <td>20</td>\n",
       "      <td>0.784760</td>\n",
       "      <td>0</td>\n",
       "      <td>0.183298</td>\n",
       "      <td>0.014313</td>\n",
       "      <td>0.089500</td>\n",
       "      <td>0.051906</td>\n",
       "    </tr>\n",
       "    <tr>\n",
       "      <th>7845</th>\n",
       "      <td>20</td>\n",
       "      <td>0.784760</td>\n",
       "      <td>0</td>\n",
       "      <td>0.112884</td>\n",
       "      <td>0.014313</td>\n",
       "      <td>0.089500</td>\n",
       "      <td>0.051906</td>\n",
       "    </tr>\n",
       "    <tr>\n",
       "      <th>7865</th>\n",
       "      <td>20</td>\n",
       "      <td>0.784760</td>\n",
       "      <td>1</td>\n",
       "      <td>0.112884</td>\n",
       "      <td>0.014313</td>\n",
       "      <td>0.089500</td>\n",
       "      <td>0.051906</td>\n",
       "    </tr>\n",
       "    <tr>\n",
       "      <th>11292</th>\n",
       "      <td>30</td>\n",
       "      <td>1.274275</td>\n",
       "      <td>20</td>\n",
       "      <td>3.359818</td>\n",
       "      <td>0.014641</td>\n",
       "      <td>0.089108</td>\n",
       "      <td>0.051875</td>\n",
       "    </tr>\n",
       "    <tr>\n",
       "      <th>7869</th>\n",
       "      <td>20</td>\n",
       "      <td>0.784760</td>\n",
       "      <td>1</td>\n",
       "      <td>0.784760</td>\n",
       "      <td>0.014286</td>\n",
       "      <td>0.089299</td>\n",
       "      <td>0.051793</td>\n",
       "    </tr>\n",
       "    <tr>\n",
       "      <th>7849</th>\n",
       "      <td>20</td>\n",
       "      <td>0.784760</td>\n",
       "      <td>0</td>\n",
       "      <td>0.784760</td>\n",
       "      <td>0.014286</td>\n",
       "      <td>0.089299</td>\n",
       "      <td>0.051793</td>\n",
       "    </tr>\n",
       "    <tr>\n",
       "      <th>7870</th>\n",
       "      <td>20</td>\n",
       "      <td>0.784760</td>\n",
       "      <td>1</td>\n",
       "      <td>1.274275</td>\n",
       "      <td>0.014286</td>\n",
       "      <td>0.089236</td>\n",
       "      <td>0.051761</td>\n",
       "    </tr>\n",
       "    <tr>\n",
       "      <th>7850</th>\n",
       "      <td>20</td>\n",
       "      <td>0.784760</td>\n",
       "      <td>0</td>\n",
       "      <td>1.274275</td>\n",
       "      <td>0.014286</td>\n",
       "      <td>0.089236</td>\n",
       "      <td>0.051761</td>\n",
       "    </tr>\n",
       "    <tr>\n",
       "      <th>7932</th>\n",
       "      <td>20</td>\n",
       "      <td>0.784760</td>\n",
       "      <td>20</td>\n",
       "      <td>3.359818</td>\n",
       "      <td>0.014204</td>\n",
       "      <td>0.089318</td>\n",
       "      <td>0.051761</td>\n",
       "    </tr>\n",
       "    <tr>\n",
       "      <th>7372</th>\n",
       "      <td>20</td>\n",
       "      <td>0.183298</td>\n",
       "      <td>0</td>\n",
       "      <td>3.359818</td>\n",
       "      <td>0.014149</td>\n",
       "      <td>0.089372</td>\n",
       "      <td>0.051760</td>\n",
       "    </tr>\n",
       "    <tr>\n",
       "      <th>7392</th>\n",
       "      <td>20</td>\n",
       "      <td>0.183298</td>\n",
       "      <td>1</td>\n",
       "      <td>3.359818</td>\n",
       "      <td>0.014149</td>\n",
       "      <td>0.089372</td>\n",
       "      <td>0.051760</td>\n",
       "    </tr>\n",
       "    <tr>\n",
       "      <th>7733</th>\n",
       "      <td>20</td>\n",
       "      <td>0.483293</td>\n",
       "      <td>5</td>\n",
       "      <td>5.455595</td>\n",
       "      <td>0.014231</td>\n",
       "      <td>0.089199</td>\n",
       "      <td>0.051715</td>\n",
       "    </tr>\n",
       "    <tr>\n",
       "      <th>7868</th>\n",
       "      <td>20</td>\n",
       "      <td>0.784760</td>\n",
       "      <td>1</td>\n",
       "      <td>0.483293</td>\n",
       "      <td>0.014258</td>\n",
       "      <td>0.089135</td>\n",
       "      <td>0.051697</td>\n",
       "    </tr>\n",
       "    <tr>\n",
       "      <th>7848</th>\n",
       "      <td>20</td>\n",
       "      <td>0.784760</td>\n",
       "      <td>0</td>\n",
       "      <td>0.483293</td>\n",
       "      <td>0.014258</td>\n",
       "      <td>0.089135</td>\n",
       "      <td>0.051697</td>\n",
       "    </tr>\n",
       "    <tr>\n",
       "      <th>7753</th>\n",
       "      <td>20</td>\n",
       "      <td>0.483293</td>\n",
       "      <td>10</td>\n",
       "      <td>5.455595</td>\n",
       "      <td>0.014176</td>\n",
       "      <td>0.089217</td>\n",
       "      <td>0.051696</td>\n",
       "    </tr>\n",
       "    <tr>\n",
       "      <th>7873</th>\n",
       "      <td>20</td>\n",
       "      <td>0.784760</td>\n",
       "      <td>1</td>\n",
       "      <td>5.455595</td>\n",
       "      <td>0.014258</td>\n",
       "      <td>0.089090</td>\n",
       "      <td>0.051674</td>\n",
       "    </tr>\n",
       "    <tr>\n",
       "      <th>7853</th>\n",
       "      <td>20</td>\n",
       "      <td>0.784760</td>\n",
       "      <td>0</td>\n",
       "      <td>5.455595</td>\n",
       "      <td>0.014258</td>\n",
       "      <td>0.089090</td>\n",
       "      <td>0.051674</td>\n",
       "    </tr>\n",
       "    <tr>\n",
       "      <th>7933</th>\n",
       "      <td>20</td>\n",
       "      <td>0.784760</td>\n",
       "      <td>20</td>\n",
       "      <td>5.455595</td>\n",
       "      <td>0.014122</td>\n",
       "      <td>0.089190</td>\n",
       "      <td>0.051656</td>\n",
       "    </tr>\n",
       "    <tr>\n",
       "      <th>7867</th>\n",
       "      <td>20</td>\n",
       "      <td>0.784760</td>\n",
       "      <td>1</td>\n",
       "      <td>0.297635</td>\n",
       "      <td>0.014231</td>\n",
       "      <td>0.089026</td>\n",
       "      <td>0.051628</td>\n",
       "    </tr>\n",
       "    <tr>\n",
       "      <th>7847</th>\n",
       "      <td>20</td>\n",
       "      <td>0.784760</td>\n",
       "      <td>0</td>\n",
       "      <td>0.297635</td>\n",
       "      <td>0.014231</td>\n",
       "      <td>0.089026</td>\n",
       "      <td>0.051628</td>\n",
       "    </tr>\n",
       "    <tr>\n",
       "      <th>7734</th>\n",
       "      <td>20</td>\n",
       "      <td>0.483293</td>\n",
       "      <td>5</td>\n",
       "      <td>8.858668</td>\n",
       "      <td>0.014122</td>\n",
       "      <td>0.089044</td>\n",
       "      <td>0.051583</td>\n",
       "    </tr>\n",
       "    <tr>\n",
       "      <th>7533</th>\n",
       "      <td>20</td>\n",
       "      <td>0.297635</td>\n",
       "      <td>0</td>\n",
       "      <td>5.455595</td>\n",
       "      <td>0.014122</td>\n",
       "      <td>0.089026</td>\n",
       "      <td>0.051574</td>\n",
       "    </tr>\n",
       "    <tr>\n",
       "      <th>7553</th>\n",
       "      <td>20</td>\n",
       "      <td>0.297635</td>\n",
       "      <td>1</td>\n",
       "      <td>5.455595</td>\n",
       "      <td>0.014122</td>\n",
       "      <td>0.089026</td>\n",
       "      <td>0.051574</td>\n",
       "    </tr>\n",
       "    <tr>\n",
       "      <th>7934</th>\n",
       "      <td>20</td>\n",
       "      <td>0.784760</td>\n",
       "      <td>20</td>\n",
       "      <td>8.858668</td>\n",
       "      <td>0.014149</td>\n",
       "      <td>0.088944</td>\n",
       "      <td>0.051546</td>\n",
       "    </tr>\n",
       "    <tr>\n",
       "      <th>7531</th>\n",
       "      <td>20</td>\n",
       "      <td>0.297635</td>\n",
       "      <td>0</td>\n",
       "      <td>2.069138</td>\n",
       "      <td>0.014039</td>\n",
       "      <td>0.088944</td>\n",
       "      <td>0.051491</td>\n",
       "    </tr>\n",
       "    <tr>\n",
       "      <th>7551</th>\n",
       "      <td>20</td>\n",
       "      <td>0.297635</td>\n",
       "      <td>1</td>\n",
       "      <td>2.069138</td>\n",
       "      <td>0.014039</td>\n",
       "      <td>0.088944</td>\n",
       "      <td>0.051491</td>\n",
       "    </tr>\n",
       "    <tr>\n",
       "      <th>7689</th>\n",
       "      <td>20</td>\n",
       "      <td>0.483293</td>\n",
       "      <td>0</td>\n",
       "      <td>0.784760</td>\n",
       "      <td>0.014122</td>\n",
       "      <td>0.088807</td>\n",
       "      <td>0.051464</td>\n",
       "    </tr>\n",
       "    <tr>\n",
       "      <th>7709</th>\n",
       "      <td>20</td>\n",
       "      <td>0.483293</td>\n",
       "      <td>1</td>\n",
       "      <td>0.784760</td>\n",
       "      <td>0.014122</td>\n",
       "      <td>0.088807</td>\n",
       "      <td>0.051464</td>\n",
       "    </tr>\n",
       "    <tr>\n",
       "      <th>7752</th>\n",
       "      <td>20</td>\n",
       "      <td>0.483293</td>\n",
       "      <td>10</td>\n",
       "      <td>3.359818</td>\n",
       "      <td>0.014149</td>\n",
       "      <td>0.088679</td>\n",
       "      <td>0.051414</td>\n",
       "    </tr>\n",
       "    <tr>\n",
       "      <th>7691</th>\n",
       "      <td>20</td>\n",
       "      <td>0.483293</td>\n",
       "      <td>0</td>\n",
       "      <td>2.069138</td>\n",
       "      <td>0.014012</td>\n",
       "      <td>0.088807</td>\n",
       "      <td>0.051409</td>\n",
       "    </tr>\n",
       "    <tr>\n",
       "      <th>7711</th>\n",
       "      <td>20</td>\n",
       "      <td>0.483293</td>\n",
       "      <td>1</td>\n",
       "      <td>2.069138</td>\n",
       "      <td>0.014012</td>\n",
       "      <td>0.088807</td>\n",
       "      <td>0.051409</td>\n",
       "    </tr>\n",
       "    <tr>\n",
       "      <th>8092</th>\n",
       "      <td>20</td>\n",
       "      <td>1.274275</td>\n",
       "      <td>20</td>\n",
       "      <td>3.359818</td>\n",
       "      <td>0.014176</td>\n",
       "      <td>0.088415</td>\n",
       "      <td>0.051295</td>\n",
       "    </tr>\n",
       "  </tbody>\n",
       "</table>\n",
       "</div>"
      ],
      "text/plain": [
       "       factors     alpha  minimum_num_rating  regularization  Precision@K  \\\n",
       "7773        20  0.483293                  20        5.455595     0.014395   \n",
       "10954       30  0.483293                  10        8.858668     0.014587   \n",
       "7852        20  0.784760                   0        3.359818     0.014395   \n",
       "7851        20  0.784760                   0        2.069138     0.014423   \n",
       "7872        20  0.784760                   1        3.359818     0.014395   \n",
       "7871        20  0.784760                   1        2.069138     0.014423   \n",
       "7912        20  0.784760                  10        3.359818     0.014450   \n",
       "7552        20  0.297635                   1        3.359818     0.014231   \n",
       "7532        20  0.297635                   0        3.359818     0.014231   \n",
       "7774        20  0.483293                  20        8.858668     0.014340   \n",
       "7913        20  0.784760                  10        5.455595     0.014368   \n",
       "7754        20  0.483293                  10        8.858668     0.014258   \n",
       "7864        20  0.784760                   1        0.069519     0.014340   \n",
       "7863        20  0.784760                   1        0.042813     0.014340   \n",
       "7844        20  0.784760                   0        0.069519     0.014340   \n",
       "7862        20  0.784760                   1        0.026367     0.014340   \n",
       "7914        20  0.784760                  10        8.858668     0.014231   \n",
       "7866        20  0.784760                   1        0.183298     0.014313   \n",
       "7846        20  0.784760                   0        0.183298     0.014313   \n",
       "7845        20  0.784760                   0        0.112884     0.014313   \n",
       "7865        20  0.784760                   1        0.112884     0.014313   \n",
       "11292       30  1.274275                  20        3.359818     0.014641   \n",
       "7869        20  0.784760                   1        0.784760     0.014286   \n",
       "7849        20  0.784760                   0        0.784760     0.014286   \n",
       "7870        20  0.784760                   1        1.274275     0.014286   \n",
       "7850        20  0.784760                   0        1.274275     0.014286   \n",
       "7932        20  0.784760                  20        3.359818     0.014204   \n",
       "7372        20  0.183298                   0        3.359818     0.014149   \n",
       "7392        20  0.183298                   1        3.359818     0.014149   \n",
       "7733        20  0.483293                   5        5.455595     0.014231   \n",
       "7868        20  0.784760                   1        0.483293     0.014258   \n",
       "7848        20  0.784760                   0        0.483293     0.014258   \n",
       "7753        20  0.483293                  10        5.455595     0.014176   \n",
       "7873        20  0.784760                   1        5.455595     0.014258   \n",
       "7853        20  0.784760                   0        5.455595     0.014258   \n",
       "7933        20  0.784760                  20        5.455595     0.014122   \n",
       "7867        20  0.784760                   1        0.297635     0.014231   \n",
       "7847        20  0.784760                   0        0.297635     0.014231   \n",
       "7734        20  0.483293                   5        8.858668     0.014122   \n",
       "7533        20  0.297635                   0        5.455595     0.014122   \n",
       "7553        20  0.297635                   1        5.455595     0.014122   \n",
       "7934        20  0.784760                  20        8.858668     0.014149   \n",
       "7531        20  0.297635                   0        2.069138     0.014039   \n",
       "7551        20  0.297635                   1        2.069138     0.014039   \n",
       "7689        20  0.483293                   0        0.784760     0.014122   \n",
       "7709        20  0.483293                   1        0.784760     0.014122   \n",
       "7752        20  0.483293                  10        3.359818     0.014149   \n",
       "7691        20  0.483293                   0        2.069138     0.014012   \n",
       "7711        20  0.483293                   1        2.069138     0.014012   \n",
       "8092        20  1.274275                  20        3.359818     0.014176   \n",
       "\n",
       "       Recall@K     Score  \n",
       "7773   0.091033  0.052714  \n",
       "10954  0.090440  0.052514  \n",
       "7852   0.090285  0.052340  \n",
       "7851   0.090257  0.052340  \n",
       "7872   0.090285  0.052340  \n",
       "7871   0.090257  0.052340  \n",
       "7912   0.090057  0.052254  \n",
       "7552   0.090139  0.052185  \n",
       "7532   0.090139  0.052185  \n",
       "7774   0.089938  0.052139  \n",
       "7913   0.089792  0.052080  \n",
       "7754   0.089819  0.052039  \n",
       "7864   0.089683  0.052012  \n",
       "7863   0.089683  0.052012  \n",
       "7844   0.089683  0.052012  \n",
       "7862   0.089591  0.051966  \n",
       "7914   0.089628  0.051930  \n",
       "7866   0.089500  0.051906  \n",
       "7846   0.089500  0.051906  \n",
       "7845   0.089500  0.051906  \n",
       "7865   0.089500  0.051906  \n",
       "11292  0.089108  0.051875  \n",
       "7869   0.089299  0.051793  \n",
       "7849   0.089299  0.051793  \n",
       "7870   0.089236  0.051761  \n",
       "7850   0.089236  0.051761  \n",
       "7932   0.089318  0.051761  \n",
       "7372   0.089372  0.051760  \n",
       "7392   0.089372  0.051760  \n",
       "7733   0.089199  0.051715  \n",
       "7868   0.089135  0.051697  \n",
       "7848   0.089135  0.051697  \n",
       "7753   0.089217  0.051696  \n",
       "7873   0.089090  0.051674  \n",
       "7853   0.089090  0.051674  \n",
       "7933   0.089190  0.051656  \n",
       "7867   0.089026  0.051628  \n",
       "7847   0.089026  0.051628  \n",
       "7734   0.089044  0.051583  \n",
       "7533   0.089026  0.051574  \n",
       "7553   0.089026  0.051574  \n",
       "7934   0.088944  0.051546  \n",
       "7531   0.088944  0.051491  \n",
       "7551   0.088944  0.051491  \n",
       "7689   0.088807  0.051464  \n",
       "7709   0.088807  0.051464  \n",
       "7752   0.088679  0.051414  \n",
       "7691   0.088807  0.051409  \n",
       "7711   0.088807  0.051409  \n",
       "8092   0.088415  0.051295  "
      ]
     },
     "execution_count": 39,
     "metadata": {},
     "output_type": "execute_result"
    }
   ],
   "source": [
    "df_params.sort_values(\"Score\", ascending = False).head(50)"
   ]
  },
  {
   "cell_type": "code",
   "execution_count": null,
   "metadata": {},
   "outputs": [],
   "source": []
  }
 ],
 "metadata": {
  "kernelspec": {
   "display_name": "Python 3",
   "language": "python",
   "name": "python3"
  },
  "language_info": {
   "codemirror_mode": {
    "name": "ipython",
    "version": 3
   },
   "file_extension": ".py",
   "mimetype": "text/x-python",
   "name": "python",
   "nbconvert_exporter": "python",
   "pygments_lexer": "ipython3",
   "version": "3.8.5"
  }
 },
 "nbformat": 4,
 "nbformat_minor": 5
}
